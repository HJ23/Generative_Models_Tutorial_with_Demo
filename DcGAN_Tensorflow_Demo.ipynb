{
 "cells": [
  {
   "cell_type": "code",
   "execution_count": 5,
   "metadata": {
    "collapsed": true
   },
   "outputs": [],
   "source": [
    "# Adapted from: https://github.com/lazyprogrammer/machine_learning_examples/blob/master/unsupervised_class3/\n",
    "import numpy as np\n",
    "import tensorflow as tf\n",
    "import matplotlib.pyplot as plt\n",
    "import pandas as pd\n",
    "from sklearn.utils import shuffle\n",
    "import imageio as im\n",
    "from datetime import datetime"
   ]
  },
  {
   "cell_type": "code",
   "execution_count": 6,
   "metadata": {},
   "outputs": [],
   "source": [
    "LEARNING_RATE = 0.0002\n",
    "BETA1 = 0.5\n",
    "BATCH_SIZE = 64\n",
    "EPOCHS = 2\n",
    "SAVE_SAMPLE_PERIOD = 50"
   ]
  },
  {
   "cell_type": "code",
   "execution_count": 7,
   "metadata": {},
   "outputs": [],
   "source": [
    "def lrelu(x, alpha=0.2):\n",
    "  return tf.maximum(alpha*x, x)\n",
    "\n",
    "def get_mnist(limit=None):\n",
    "  print(\"Reading in and transforming data...\")\n",
    "  df = pd.read_csv('large_files/train.csv')\n",
    "  data = df.values\n",
    "  # np.random.shuffle(data)\n",
    "  X = data[:, 1:] / 255.0 # data is from 0..255\n",
    "  Y = data[:, 0]\n",
    "  X, Y = shuffle(X, Y)\n",
    "  if limit is not None:\n",
    "    X, Y = X[:limit], Y[:limit]\n",
    "  return X, Y"
   ]
  },
  {
   "cell_type": "code",
   "execution_count": 8,
   "metadata": {},
   "outputs": [],
   "source": [
    "class ConvLayer:\n",
    "  def __init__(self, name, mi, mo, apply_batch_norm, filtersz=5, stride=2, f=tf.nn.relu):\n",
    "    # mi = input feature map size\n",
    "    # mo = output feature map size\n",
    "    # self.W = tf.Variable(0.02*tf.random_normal(shape=(filtersz, filtersz, mi, mo)))\n",
    "    # self.b = tf.Variable(np.zeros(mo, dtype=np.float32))\n",
    "    self.W = tf.get_variable(\n",
    "      \"W_%s\" % name,\n",
    "      shape=(filtersz, filtersz, mi, mo),\n",
    "      # initializer=tf.contrib.layers.xavier_initializer(),\n",
    "      initializer=tf.truncated_normal_initializer(stddev=0.02),\n",
    "    )\n",
    "    self.b = tf.get_variable(\n",
    "      \"b_%s\" % name,\n",
    "      shape=(mo,),\n",
    "      initializer=tf.zeros_initializer(),\n",
    "    )\n",
    "    self.name = name\n",
    "    self.f = f\n",
    "    self.stride = stride\n",
    "    self.apply_batch_norm = apply_batch_norm\n",
    "    self.params = [self.W, self.b]\n",
    "\n",
    "  def forward(self, X, reuse, is_training):\n",
    "    # print(\"**************** reuse:\", reuse)\n",
    "    conv_out = tf.nn.conv2d(\n",
    "      X,\n",
    "      self.W,\n",
    "      strides=[1, self.stride, self.stride, 1],\n",
    "      padding='SAME'\n",
    "    )\n",
    "    conv_out = tf.nn.bias_add(conv_out, self.b)\n",
    "\n",
    "    # apply batch normalization\n",
    "    if self.apply_batch_norm:\n",
    "      conv_out = tf.contrib.layers.batch_norm(\n",
    "        conv_out,\n",
    "        decay=0.9, \n",
    "        updates_collections=None,\n",
    "        epsilon=1e-5,\n",
    "        scale=True,\n",
    "        is_training=is_training,\n",
    "        reuse=reuse,\n",
    "        scope=self.name,\n",
    "      )\n",
    "    return self.f(conv_out)\n"
   ]
  },
  {
   "cell_type": "code",
   "execution_count": 9,
   "metadata": {},
   "outputs": [],
   "source": [
    "class FractionallyStridedConvLayer:\n",
    "  def __init__(self, name, mi, mo, output_shape, apply_batch_norm, filtersz=5, stride=2, f=tf.nn.relu):\n",
    "    # mi = input feature map size\n",
    "    # mo = output feature map size\n",
    "    # NOTE!!! shape is specified in the OPPOSITE way from regular conv\n",
    "    # self.W = tf.Variable(0.02*tf.random_normal(shape=(filtersz, filtersz, mo, mi)))\n",
    "    # self.b = tf.Variable(np.zeros(mo, dtype=np.float32))\n",
    "    self.W = tf.get_variable(\n",
    "      \"W_%s\" % name,\n",
    "      shape=(filtersz, filtersz, mo, mi),\n",
    "      # initializer=tf.contrib.layers.xavier_initializer(),\n",
    "      initializer=tf.random_normal_initializer(stddev=0.02),\n",
    "    )\n",
    "    self.b = tf.get_variable(\n",
    "      \"b_%s\" % name,\n",
    "      shape=(mo,),\n",
    "      initializer=tf.zeros_initializer(),\n",
    "    )\n",
    "    self.f = f\n",
    "    self.stride = stride\n",
    "    self.name = name\n",
    "    self.output_shape = output_shape\n",
    "    self.apply_batch_norm = apply_batch_norm\n",
    "    self.params = [self.W, self.b]\n",
    "\n",
    "  def forward(self, X, reuse, is_training):\n",
    "    conv_out = tf.nn.conv2d_transpose(\n",
    "      value=X,\n",
    "      filter=self.W,\n",
    "      output_shape=self.output_shape,\n",
    "      strides=[1, self.stride, self.stride, 1],\n",
    "    )\n",
    "    conv_out = tf.nn.bias_add(conv_out, self.b)\n",
    "\n",
    "    # apply batch normalization\n",
    "    if self.apply_batch_norm:\n",
    "      conv_out = tf.contrib.layers.batch_norm(\n",
    "        conv_out,\n",
    "        decay=0.9, \n",
    "        updates_collections=None,\n",
    "        epsilon=1e-5,\n",
    "        scale=True,\n",
    "        is_training=is_training,\n",
    "        reuse=reuse,\n",
    "        scope=self.name,\n",
    "      )\n",
    "\n",
    "    return self.f(conv_out)"
   ]
  },
  {
   "cell_type": "code",
   "execution_count": 10,
   "metadata": {},
   "outputs": [],
   "source": [
    "class DenseLayer(object):\n",
    "  def __init__(self, name, M1, M2, apply_batch_norm, f=tf.nn.relu):\n",
    "    self.W = tf.get_variable(\n",
    "      \"W_%s\" % name,\n",
    "      shape=(M1, M2),\n",
    "      initializer=tf.random_normal_initializer(stddev=0.02),\n",
    "    )\n",
    "    self.b = tf.get_variable(\n",
    "      \"b_%s\" % name,\n",
    "      shape=(M2,),\n",
    "      initializer=tf.zeros_initializer(),\n",
    "    )\n",
    "    self.f = f\n",
    "    self.name = name\n",
    "    self.apply_batch_norm = apply_batch_norm\n",
    "    self.params = [self.W, self.b]\n",
    "\n",
    "  def forward(self, X, reuse, is_training):\n",
    "    a = tf.matmul(X, self.W) + self.b\n",
    "\n",
    "    # apply batch normalization\n",
    "    if self.apply_batch_norm:\n",
    "      a = tf.contrib.layers.batch_norm(\n",
    "        a,\n",
    "        decay=0.9, \n",
    "        updates_collections=None,\n",
    "        epsilon=1e-5,\n",
    "        scale=True,\n",
    "        is_training=is_training,\n",
    "        reuse=reuse,\n",
    "        scope=self.name,\n",
    "      )\n",
    "    return self.f(a)"
   ]
  },
  {
   "cell_type": "code",
   "execution_count": 11,
   "metadata": {},
   "outputs": [],
   "source": [
    "class DCGAN:\n",
    "  def __init__(self, img_length, num_colors, d_sizes, g_sizes):\n",
    "\n",
    "    # save for later\n",
    "    self.img_length = img_length\n",
    "    self.num_colors = num_colors\n",
    "    self.latent_dims = g_sizes['z']\n",
    "\n",
    "    # define the input data\n",
    "    self.X = tf.placeholder(\n",
    "      tf.float32,\n",
    "      shape=(None, img_length, img_length, num_colors),\n",
    "      name='X'\n",
    "    )\n",
    "    self.Z = tf.placeholder(\n",
    "      tf.float32,\n",
    "      shape=(None, self.latent_dims),\n",
    "      name='Z'\n",
    "    )\n",
    "\n",
    "    # note: by making batch_sz a placeholder, we can specify a variable\n",
    "    # number of samples in the FS-conv operation where we are required\n",
    "    # to pass in output_shape\n",
    "    # we need only pass in the batch size via feed_dict\n",
    "    self.batch_sz = tf.placeholder(tf.int32, shape=(), name='batch_sz')\n",
    "\n",
    "    # build the discriminator\n",
    "    logits = self.build_discriminator(self.X, d_sizes)\n",
    "\n",
    "    # build generator\n",
    "    self.sample_images = self.build_generator(self.Z, g_sizes)\n",
    "\n",
    "    # get sample logits\n",
    "    with tf.variable_scope(\"discriminator\") as scope:\n",
    "      scope.reuse_variables()\n",
    "      sample_logits = self.d_forward(self.sample_images, True)\n",
    "\n",
    "    # get sample images for test time (batch norm is different)\n",
    "    with tf.variable_scope(\"generator\") as scope:\n",
    "      scope.reuse_variables()\n",
    "      self.sample_images_test = self.g_forward(\n",
    "        self.Z, reuse=True, is_training=False\n",
    "      )\n",
    "\n",
    "    # build costs\n",
    "    self.d_cost_real = tf.nn.sigmoid_cross_entropy_with_logits(\n",
    "      logits=logits,\n",
    "      labels=tf.ones_like(logits)\n",
    "    )\n",
    "    self.d_cost_fake = tf.nn.sigmoid_cross_entropy_with_logits(\n",
    "      logits=sample_logits,\n",
    "      labels=tf.zeros_like(sample_logits)\n",
    "    )\n",
    "    self.d_cost = tf.reduce_mean(self.d_cost_real) + tf.reduce_mean(self.d_cost_fake)\n",
    "    self.g_cost = tf.reduce_mean(\n",
    "      tf.nn.sigmoid_cross_entropy_with_logits(\n",
    "        logits=sample_logits,\n",
    "        labels=tf.ones_like(sample_logits)\n",
    "      )\n",
    "    )\n",
    "    real_predictions = tf.cast(logits > 0, tf.float32)\n",
    "    fake_predictions = tf.cast(sample_logits < 0, tf.float32)\n",
    "    num_predictions = 2.0*BATCH_SIZE\n",
    "    num_correct = tf.reduce_sum(real_predictions) + tf.reduce_sum(fake_predictions)\n",
    "    self.d_accuracy = num_correct / num_predictions\n",
    "\n",
    "\n",
    "    # optimizers\n",
    "    self.d_params = [t for t in tf.trainable_variables() if t.name.startswith('d')]\n",
    "    self.g_params = [t for t in tf.trainable_variables() if t.name.startswith('g')]\n",
    "\n",
    "    self.d_train_op = tf.train.AdamOptimizer(\n",
    "      LEARNING_RATE, beta1=BETA1\n",
    "    ).minimize(\n",
    "      self.d_cost, var_list=self.d_params\n",
    "    )\n",
    "    self.g_train_op = tf.train.AdamOptimizer(\n",
    "      LEARNING_RATE, beta1=BETA1\n",
    "    ).minimize(\n",
    "      self.g_cost, var_list=self.g_params\n",
    "    )\n",
    "\n",
    "    # show_all_variables()\n",
    "    # exit()\n",
    "\n",
    "    # set up session and variables for later\n",
    "    self.init_op = tf.global_variables_initializer()\n",
    "    self.sess = tf.InteractiveSession()\n",
    "    self.sess.run(self.init_op)\n",
    "\n",
    "\n",
    "  def build_discriminator(self, X, d_sizes):\n",
    "    with tf.variable_scope(\"discriminator\") as scope:\n",
    "\n",
    "      # build conv layers\n",
    "      self.d_convlayers = []\n",
    "      mi = self.num_colors\n",
    "      dim = self.img_length\n",
    "      count = 0\n",
    "      for mo, filtersz, stride, apply_batch_norm in d_sizes['conv_layers']:\n",
    "        # make up a name - used for get_variable\n",
    "        name = \"convlayer_%s\" % count\n",
    "        count += 1\n",
    "\n",
    "        layer = ConvLayer(name, mi, mo, apply_batch_norm, filtersz, stride, lrelu)\n",
    "        self.d_convlayers.append(layer)\n",
    "        mi = mo\n",
    "        print(\"dim:\", dim)\n",
    "        dim = int(np.ceil(float(dim) / stride))\n",
    "\n",
    "\n",
    "      mi = mi * dim * dim\n",
    "      # build dense layers\n",
    "      self.d_denselayers = []\n",
    "      for mo, apply_batch_norm in d_sizes['dense_layers']:\n",
    "        name = \"denselayer_%s\" % count\n",
    "        count += 1\n",
    "\n",
    "        layer = DenseLayer(name, mi, mo, apply_batch_norm, lrelu)\n",
    "        mi = mo\n",
    "        self.d_denselayers.append(layer)\n",
    "\n",
    "\n",
    "      # final logistic layer\n",
    "      name = \"denselayer_%s\" % count\n",
    "      self.d_finallayer = DenseLayer(name, mi, 1, False, lambda x: x)\n",
    "\n",
    "      # get the logits\n",
    "      logits = self.d_forward(X)\n",
    "\n",
    "      # build the cost later\n",
    "      return logits\n",
    "\n",
    "\n",
    "  def d_forward(self, X, reuse=None, is_training=True):\n",
    "    # encapsulate this because we use it twice\n",
    "    output = X\n",
    "    for layer in self.d_convlayers:\n",
    "      output = layer.forward(output, reuse, is_training)\n",
    "    output = tf.contrib.layers.flatten(output)\n",
    "    for layer in self.d_denselayers:\n",
    "      output = layer.forward(output, reuse, is_training)\n",
    "    logits = self.d_finallayer.forward(output, reuse, is_training)\n",
    "    return logits\n",
    "\n",
    "\n",
    "  def build_generator(self, Z, g_sizes):\n",
    "    with tf.variable_scope(\"generator\") as scope:\n",
    "\n",
    "      # determine the size of the data at each step\n",
    "      dims = [self.img_length]\n",
    "      dim = self.img_length\n",
    "      for _, _, stride, _ in reversed(g_sizes['conv_layers']):\n",
    "        dim = int(np.ceil(float(dim) / stride))\n",
    "        dims.append(dim)\n",
    "\n",
    "      # note: dims is actually backwards\n",
    "      # the first layer of the generator is actually last\n",
    "      # so let's reverse it\n",
    "      dims = list(reversed(dims))\n",
    "      print(\"dims:\", dims)\n",
    "      self.g_dims = dims\n",
    "\n",
    "\n",
    "      # dense layers\n",
    "      mi = self.latent_dims\n",
    "      self.g_denselayers = []\n",
    "      count = 0\n",
    "      for mo, apply_batch_norm in g_sizes['dense_layers']:\n",
    "        name = \"g_denselayer_%s\" % count\n",
    "        count += 1\n",
    "\n",
    "        layer = DenseLayer(name, mi, mo, apply_batch_norm)\n",
    "        self.g_denselayers.append(layer)\n",
    "        mi = mo\n",
    "\n",
    "      # final dense layer\n",
    "      mo = g_sizes['projection'] * dims[0] * dims[0]\n",
    "      name = \"g_denselayer_%s\" % count\n",
    "      layer = DenseLayer(name, mi, mo, not g_sizes['bn_after_project'])\n",
    "      self.g_denselayers.append(layer)\n",
    "\n",
    "\n",
    "      # fs-conv layers\n",
    "      mi = g_sizes['projection']\n",
    "      self.g_convlayers = []\n",
    "\n",
    "      # output may use tanh or sigmoid\n",
    "      num_relus = len(g_sizes['conv_layers']) - 1\n",
    "      activation_functions = [tf.nn.relu]*num_relus + [g_sizes['output_activation']]\n",
    "\n",
    "      for i in range(len(g_sizes['conv_layers'])):\n",
    "        name = \"fs_convlayer_%s\" % i\n",
    "        mo, filtersz, stride, apply_batch_norm = g_sizes['conv_layers'][i]\n",
    "        f = activation_functions[i]\n",
    "        output_shape = [self.batch_sz, dims[i+1], dims[i+1], mo]\n",
    "        print(\"mi:\", mi, \"mo:\", mo, \"outp shape:\", output_shape)\n",
    "        layer = FractionallyStridedConvLayer(\n",
    "          name, mi, mo, output_shape, apply_batch_norm, filtersz, stride, f\n",
    "        )\n",
    "        self.g_convlayers.append(layer)\n",
    "        mi = mo\n",
    "\n",
    "      # get the output\n",
    "      self.g_sizes = g_sizes\n",
    "      return self.g_forward(Z)\n",
    "\n",
    "\n",
    "  def g_forward(self, Z, reuse=None, is_training=True):\n",
    "    # dense layers\n",
    "    output = Z\n",
    "    for layer in self.g_denselayers:\n",
    "      output = layer.forward(output, reuse, is_training)\n",
    "\n",
    "    # project and reshape\n",
    "    output = tf.reshape(\n",
    "      output,\n",
    "      [-1, self.g_dims[0], self.g_dims[0], self.g_sizes['projection']],\n",
    "    )\n",
    "\n",
    "    # apply batch norm\n",
    "    if self.g_sizes['bn_after_project']:\n",
    "      output = tf.contrib.layers.batch_norm(\n",
    "        output,\n",
    "        decay=0.9, \n",
    "        updates_collections=None,\n",
    "        epsilon=1e-5,\n",
    "        scale=True,\n",
    "        is_training=is_training,\n",
    "        reuse=reuse,\n",
    "        scope='bn_after_project'\n",
    "      )\n",
    "\n",
    "    # pass through fs-conv layers\n",
    "    for layer in self.g_convlayers:\n",
    "      output = layer.forward(output, reuse, is_training)\n",
    "\n",
    "    return output\n",
    "\n",
    "\n",
    "  def fit(self, X):\n",
    "    d_costs = []\n",
    "    g_costs = []\n",
    "\n",
    "    N = len(X)\n",
    "    n_batches = N // BATCH_SIZE\n",
    "    total_iters = 0\n",
    "    for i in range(EPOCHS):\n",
    "      print(\"epoch:\", i)\n",
    "      np.random.shuffle(X)\n",
    "      for j in range(n_batches):\n",
    "        t0 = datetime.now()\n",
    "        batch = X[j*BATCH_SIZE:(j+1)*BATCH_SIZE]\n",
    "\n",
    "        Z = np.random.uniform(-1, 1, size=(BATCH_SIZE, self.latent_dims))\n",
    "\n",
    "        # train the discriminator\n",
    "        _, d_cost, d_acc = self.sess.run(\n",
    "          (self.d_train_op, self.d_cost, self.d_accuracy),\n",
    "          feed_dict={self.X: batch, self.Z: Z, self.batch_sz: BATCH_SIZE},\n",
    "        )\n",
    "        d_costs.append(d_cost)\n",
    "\n",
    "        # train the generator\n",
    "        _, g_cost1 = self.sess.run(\n",
    "          (self.g_train_op, self.g_cost),\n",
    "          feed_dict={self.Z: Z, self.batch_sz: BATCH_SIZE},\n",
    "        )\n",
    "        # g_costs.append(g_cost1)\n",
    "        _, g_cost2 = self.sess.run(\n",
    "          (self.g_train_op, self.g_cost),\n",
    "          feed_dict={self.Z: Z, self.batch_sz: BATCH_SIZE},\n",
    "        )\n",
    "        g_costs.append((g_cost1 + g_cost2)/2) # just use the avg\n",
    "\n",
    "        print(\"  batch: %d/%d  -  dt: %s - d_acc: %.2f\" % (j+1, n_batches, datetime.now() - t0, d_acc))\n",
    "\n",
    "\n",
    "        # save samples periodically\n",
    "        total_iters += 1\n",
    "        if total_iters % SAVE_SAMPLE_PERIOD == 0:\n",
    "          print(\"saving a sample...\")\n",
    "          samples = self.sample(64) # shape is (64, D, D, color)\n",
    "\n",
    "          # for convenience\n",
    "          d = self.img_length\n",
    "          \n",
    "          if samples.shape[-1] == 1:\n",
    "            # if color == 1, we want a 2-D image (N x N)\n",
    "            samples = samples.reshape(64, d, d)\n",
    "            flat_image = np.empty((8*d, 8*d))\n",
    "\n",
    "            k = 0\n",
    "            for i in range(8):\n",
    "              for j in range(8):\n",
    "                flat_image[i*d:(i+1)*d, j*d:(j+1)*d] = samples[k].reshape(d, d)\n",
    "                k += 1\n",
    "\n",
    "            # plt.imshow(flat_image, cmap='gray')\n",
    "          else:\n",
    "            # if color == 3, we want a 3-D image (N x N x 3)\n",
    "            flat_image = np.empty((8*d, 8*d, 3))\n",
    "            k = 0\n",
    "            for i in range(8):\n",
    "              for j in range(8):\n",
    "                flat_image[i*d:(i+1)*d, j*d:(j+1)*d] = samples[k]\n",
    "                k += 1\n",
    "            # plt.imshow(flat_image)\n",
    "                    \n",
    "          # plt.savefig('dcgan_samples/samples_at_iter_%d.png' % total_iters)\n",
    "          im.imwrite(\n",
    "            'dcgan_samples/samples_at_iter_%d.png' % total_iters,\n",
    "            flat_image,\n",
    "          )\n",
    "            \n",
    "\n",
    "    # save a plot of the costs\n",
    "    plt.clf()\n",
    "    plt.plot(d_costs, label='discriminator cost')\n",
    "    plt.plot(g_costs, label='generator cost')\n",
    "    plt.legend()\n",
    "    plt.savefig('cost_vs_iteration.png')\n",
    "\n",
    "  def sample(self, n):\n",
    "    Z = np.random.uniform(-1, 1, size=(n, self.latent_dims))\n",
    "    samples = self.sess.run(self.sample_images_test, feed_dict={self.Z: Z, self.batch_sz: n})\n",
    "    return samples"
   ]
  },
  {
   "cell_type": "code",
   "execution_count": 12,
   "metadata": {},
   "outputs": [
    {
     "name": "stdout",
     "output_type": "stream",
     "text": [
      "Reading in and transforming data...\n"
     ]
    },
    {
     "name": "stdout",
     "output_type": "stream",
     "text": [
      "dim: 28\ndim: 14\n"
     ]
    },
    {
     "name": "stdout",
     "output_type": "stream",
     "text": [
      "dims: [7, 14, 28]\nmi: 128 mo: 128 outp shape: [<tf.Tensor 'batch_sz:0' shape=() dtype=int32>, 14, 14, 128]\nmi: 128 mo: 1 outp shape: [<tf.Tensor 'batch_sz:0' shape=() dtype=int32>, 28, 28, 1]\n"
     ]
    },
    {
     "name": "stdout",
     "output_type": "stream",
     "text": [
      "epoch: 0\n"
     ]
    },
    {
     "name": "stdout",
     "output_type": "stream",
     "text": [
      "  batch: 1/656  -  dt: 0:00:00.551357 - d_acc: 0.45\n"
     ]
    },
    {
     "name": "stdout",
     "output_type": "stream",
     "text": [
      "  batch: 2/656  -  dt: 0:00:00.497340 - d_acc: 0.48\n"
     ]
    },
    {
     "name": "stdout",
     "output_type": "stream",
     "text": [
      "  batch: 3/656  -  dt: 0:00:00.493482 - d_acc: 0.54\n"
     ]
    },
    {
     "name": "stdout",
     "output_type": "stream",
     "text": [
      "  batch: 4/656  -  dt: 0:00:00.496493 - d_acc: 0.48\n"
     ]
    },
    {
     "name": "stdout",
     "output_type": "stream",
     "text": [
      "  batch: 5/656  -  dt: 0:00:00.489728 - d_acc: 0.54\n"
     ]
    },
    {
     "name": "stdout",
     "output_type": "stream",
     "text": [
      "  batch: 6/656  -  dt: 0:00:00.499936 - d_acc: 0.50\n"
     ]
    },
    {
     "name": "stdout",
     "output_type": "stream",
     "text": [
      "  batch: 7/656  -  dt: 0:00:00.495767 - d_acc: 0.58\n"
     ]
    },
    {
     "name": "stdout",
     "output_type": "stream",
     "text": [
      "  batch: 8/656  -  dt: 0:00:00.504479 - d_acc: 0.55\n"
     ]
    },
    {
     "name": "stdout",
     "output_type": "stream",
     "text": [
      "  batch: 9/656  -  dt: 0:00:00.489820 - d_acc: 0.51\n"
     ]
    },
    {
     "name": "stdout",
     "output_type": "stream",
     "text": [
      "  batch: 10/656  -  dt: 0:00:00.499885 - d_acc: 0.56\n"
     ]
    },
    {
     "name": "stdout",
     "output_type": "stream",
     "text": [
      "  batch: 11/656  -  dt: 0:00:00.500328 - d_acc: 0.52\n"
     ]
    },
    {
     "name": "stdout",
     "output_type": "stream",
     "text": [
      "  batch: 12/656  -  dt: 0:00:00.494870 - d_acc: 0.57\n"
     ]
    },
    {
     "name": "stdout",
     "output_type": "stream",
     "text": [
      "  batch: 13/656  -  dt: 0:00:00.498161 - d_acc: 0.63\n"
     ]
    },
    {
     "name": "stdout",
     "output_type": "stream",
     "text": [
      "  batch: 14/656  -  dt: 0:00:00.505806 - d_acc: 0.63\n"
     ]
    },
    {
     "name": "stdout",
     "output_type": "stream",
     "text": [
      "  batch: 15/656  -  dt: 0:00:00.500122 - d_acc: 0.52\n"
     ]
    },
    {
     "name": "stdout",
     "output_type": "stream",
     "text": [
      "  batch: 16/656  -  dt: 0:00:00.516184 - d_acc: 0.62\n"
     ]
    },
    {
     "name": "stdout",
     "output_type": "stream",
     "text": [
      "  batch: 17/656  -  dt: 0:00:00.509903 - d_acc: 0.58\n"
     ]
    },
    {
     "name": "stdout",
     "output_type": "stream",
     "text": [
      "  batch: 18/656  -  dt: 0:00:00.519508 - d_acc: 0.60\n"
     ]
    },
    {
     "name": "stdout",
     "output_type": "stream",
     "text": [
      "  batch: 19/656  -  dt: 0:00:00.500117 - d_acc: 0.55\n"
     ]
    },
    {
     "name": "stdout",
     "output_type": "stream",
     "text": [
      "  batch: 20/656  -  dt: 0:00:00.504237 - d_acc: 0.63\n"
     ]
    },
    {
     "name": "stdout",
     "output_type": "stream",
     "text": [
      "  batch: 21/656  -  dt: 0:00:00.498555 - d_acc: 0.59\n"
     ]
    },
    {
     "name": "stdout",
     "output_type": "stream",
     "text": [
      "  batch: 22/656  -  dt: 0:00:00.512295 - d_acc: 0.62\n"
     ]
    },
    {
     "name": "stdout",
     "output_type": "stream",
     "text": [
      "  batch: 23/656  -  dt: 0:00:00.494192 - d_acc: 0.57\n"
     ]
    },
    {
     "name": "stdout",
     "output_type": "stream",
     "text": [
      "  batch: 24/656  -  dt: 0:00:00.513523 - d_acc: 0.59\n"
     ]
    },
    {
     "name": "stdout",
     "output_type": "stream",
     "text": [
      "  batch: 25/656  -  dt: 0:00:00.510030 - d_acc: 0.60\n"
     ]
    },
    {
     "name": "stdout",
     "output_type": "stream",
     "text": [
      "  batch: 26/656  -  dt: 0:00:00.504779 - d_acc: 0.60\n"
     ]
    },
    {
     "name": "stdout",
     "output_type": "stream",
     "text": [
      "  batch: 27/656  -  dt: 0:00:00.494170 - d_acc: 0.58\n"
     ]
    },
    {
     "name": "stdout",
     "output_type": "stream",
     "text": [
      "  batch: 28/656  -  dt: 0:00:00.528757 - d_acc: 0.67\n"
     ]
    },
    {
     "name": "stdout",
     "output_type": "stream",
     "text": [
      "  batch: 29/656  -  dt: 0:00:00.499680 - d_acc: 0.63\n"
     ]
    },
    {
     "name": "stdout",
     "output_type": "stream",
     "text": [
      "  batch: 30/656  -  dt: 0:00:00.511335 - d_acc: 0.59\n"
     ]
    },
    {
     "name": "stdout",
     "output_type": "stream",
     "text": [
      "  batch: 31/656  -  dt: 0:00:00.493485 - d_acc: 0.66\n"
     ]
    },
    {
     "name": "stdout",
     "output_type": "stream",
     "text": [
      "  batch: 32/656  -  dt: 0:00:00.510357 - d_acc: 0.65\n"
     ]
    },
    {
     "name": "stdout",
     "output_type": "stream",
     "text": [
      "  batch: 33/656  -  dt: 0:00:00.496441 - d_acc: 0.62\n"
     ]
    },
    {
     "name": "stdout",
     "output_type": "stream",
     "text": [
      "  batch: 34/656  -  dt: 0:00:00.653168 - d_acc: 0.71\n"
     ]
    },
    {
     "name": "stdout",
     "output_type": "stream",
     "text": [
      "  batch: 35/656  -  dt: 0:00:00.858277 - d_acc: 0.69\n"
     ]
    },
    {
     "name": "stdout",
     "output_type": "stream",
     "text": [
      "  batch: 36/656  -  dt: 0:00:00.782608 - d_acc: 0.62\n"
     ]
    },
    {
     "name": "stdout",
     "output_type": "stream",
     "text": [
      "  batch: 37/656  -  dt: 0:00:00.710217 - d_acc: 0.68\n"
     ]
    },
    {
     "name": "stdout",
     "output_type": "stream",
     "text": [
      "  batch: 38/656  -  dt: 0:00:00.665930 - d_acc: 0.63\n"
     ]
    },
    {
     "name": "stdout",
     "output_type": "stream",
     "text": [
      "  batch: 39/656  -  dt: 0:00:00.632995 - d_acc: 0.72\n"
     ]
    },
    {
     "name": "stdout",
     "output_type": "stream",
     "text": [
      "  batch: 40/656  -  dt: 0:00:00.600665 - d_acc: 0.72\n"
     ]
    },
    {
     "name": "stdout",
     "output_type": "stream",
     "text": [
      "  batch: 41/656  -  dt: 0:00:00.599669 - d_acc: 0.70\n"
     ]
    },
    {
     "name": "stdout",
     "output_type": "stream",
     "text": [
      "  batch: 42/656  -  dt: 0:00:00.560102 - d_acc: 0.73\n"
     ]
    },
    {
     "name": "stdout",
     "output_type": "stream",
     "text": [
      "  batch: 43/656  -  dt: 0:00:00.552318 - d_acc: 0.68\n"
     ]
    },
    {
     "name": "stdout",
     "output_type": "stream",
     "text": [
      "  batch: 44/656  -  dt: 0:00:00.541573 - d_acc: 0.69\n"
     ]
    },
    {
     "name": "stdout",
     "output_type": "stream",
     "text": [
      "  batch: 45/656  -  dt: 0:00:00.544612 - d_acc: 0.77\n"
     ]
    },
    {
     "name": "stdout",
     "output_type": "stream",
     "text": [
      "  batch: 46/656  -  dt: 0:00:00.537884 - d_acc: 0.70\n"
     ]
    },
    {
     "name": "stdout",
     "output_type": "stream",
     "text": [
      "  batch: 47/656  -  dt: 0:00:00.524051 - d_acc: 0.66\n"
     ]
    },
    {
     "name": "stdout",
     "output_type": "stream",
     "text": [
      "  batch: 48/656  -  dt: 0:00:00.524446 - d_acc: 0.69\n"
     ]
    },
    {
     "name": "stdout",
     "output_type": "stream",
     "text": [
      "  batch: 49/656  -  dt: 0:00:00.521420 - d_acc: 0.73\n"
     ]
    },
    {
     "name": "stderr",
     "output_type": "stream",
     "text": [
      "WARNING:root:Lossy conversion from float64 to uint8. Range [0, 1]. Convert image to uint8 prior to saving to suppress this warning.\n"
     ]
    },
    {
     "name": "stdout",
     "output_type": "stream",
     "text": [
      "  batch: 50/656  -  dt: 0:00:00.525173 - d_acc: 0.70\nsaving a sample...\n"
     ]
    },
    {
     "name": "stdout",
     "output_type": "stream",
     "text": [
      "  batch: 51/656  -  dt: 0:00:00.533628 - d_acc: 0.78\n"
     ]
    },
    {
     "name": "stdout",
     "output_type": "stream",
     "text": [
      "  batch: 52/656  -  dt: 0:00:00.526278 - d_acc: 0.70\n"
     ]
    },
    {
     "name": "stdout",
     "output_type": "stream",
     "text": [
      "  batch: 53/656  -  dt: 0:00:00.532822 - d_acc: 0.71\n"
     ]
    },
    {
     "name": "stdout",
     "output_type": "stream",
     "text": [
      "  batch: 54/656  -  dt: 0:00:00.515889 - d_acc: 0.69\n"
     ]
    },
    {
     "name": "stdout",
     "output_type": "stream",
     "text": [
      "  batch: 55/656  -  dt: 0:00:00.521050 - d_acc: 0.77\n"
     ]
    },
    {
     "name": "stdout",
     "output_type": "stream",
     "text": [
      "  batch: 56/656  -  dt: 0:00:00.529992 - d_acc: 0.79\n"
     ]
    },
    {
     "name": "stdout",
     "output_type": "stream",
     "text": [
      "  batch: 57/656  -  dt: 0:00:00.524950 - d_acc: 0.80\n"
     ]
    },
    {
     "name": "stdout",
     "output_type": "stream",
     "text": [
      "  batch: 58/656  -  dt: 0:00:00.519386 - d_acc: 0.77\n"
     ]
    },
    {
     "name": "stdout",
     "output_type": "stream",
     "text": [
      "  batch: 59/656  -  dt: 0:00:00.519695 - d_acc: 0.73\n"
     ]
    },
    {
     "name": "stdout",
     "output_type": "stream",
     "text": [
      "  batch: 60/656  -  dt: 0:00:00.530035 - d_acc: 0.71\n"
     ]
    },
    {
     "name": "stdout",
     "output_type": "stream",
     "text": [
      "  batch: 61/656  -  dt: 0:00:00.545991 - d_acc: 0.77\n"
     ]
    },
    {
     "name": "stdout",
     "output_type": "stream",
     "text": [
      "  batch: 62/656  -  dt: 0:00:00.540327 - d_acc: 0.78\n"
     ]
    },
    {
     "name": "stdout",
     "output_type": "stream",
     "text": [
      "  batch: 63/656  -  dt: 0:00:00.523432 - d_acc: 0.79\n"
     ]
    },
    {
     "name": "stdout",
     "output_type": "stream",
     "text": [
      "  batch: 64/656  -  dt: 0:00:00.526064 - d_acc: 0.75\n"
     ]
    },
    {
     "name": "stdout",
     "output_type": "stream",
     "text": [
      "  batch: 65/656  -  dt: 0:00:00.523275 - d_acc: 0.76\n"
     ]
    },
    {
     "name": "stdout",
     "output_type": "stream",
     "text": [
      "  batch: 66/656  -  dt: 0:00:00.525739 - d_acc: 0.73\n"
     ]
    },
    {
     "name": "stdout",
     "output_type": "stream",
     "text": [
      "  batch: 67/656  -  dt: 0:00:00.523975 - d_acc: 0.72\n"
     ]
    },
    {
     "name": "stdout",
     "output_type": "stream",
     "text": [
      "  batch: 68/656  -  dt: 0:00:00.520271 - d_acc: 0.77\n"
     ]
    },
    {
     "name": "stdout",
     "output_type": "stream",
     "text": [
      "  batch: 69/656  -  dt: 0:00:00.526267 - d_acc: 0.68\n"
     ]
    },
    {
     "name": "stdout",
     "output_type": "stream",
     "text": [
      "  batch: 70/656  -  dt: 0:00:00.531398 - d_acc: 0.77\n"
     ]
    },
    {
     "name": "stdout",
     "output_type": "stream",
     "text": [
      "  batch: 71/656  -  dt: 0:00:00.528545 - d_acc: 0.77\n"
     ]
    },
    {
     "name": "stdout",
     "output_type": "stream",
     "text": [
      "  batch: 72/656  -  dt: 0:00:00.529641 - d_acc: 0.69\n"
     ]
    },
    {
     "name": "stdout",
     "output_type": "stream",
     "text": [
      "  batch: 73/656  -  dt: 0:00:00.524537 - d_acc: 0.78\n"
     ]
    },
    {
     "name": "stdout",
     "output_type": "stream",
     "text": [
      "  batch: 74/656  -  dt: 0:00:00.525460 - d_acc: 0.77\n"
     ]
    },
    {
     "name": "stdout",
     "output_type": "stream",
     "text": [
      "  batch: 75/656  -  dt: 0:00:00.531531 - d_acc: 0.76\n"
     ]
    },
    {
     "name": "stdout",
     "output_type": "stream",
     "text": [
      "  batch: 76/656  -  dt: 0:00:00.522924 - d_acc: 0.81\n"
     ]
    },
    {
     "name": "stdout",
     "output_type": "stream",
     "text": [
      "  batch: 77/656  -  dt: 0:00:00.528267 - d_acc: 0.79\n"
     ]
    },
    {
     "name": "stdout",
     "output_type": "stream",
     "text": [
      "  batch: 78/656  -  dt: 0:00:00.531775 - d_acc: 0.81\n"
     ]
    },
    {
     "name": "stdout",
     "output_type": "stream",
     "text": [
      "  batch: 79/656  -  dt: 0:00:00.547753 - d_acc: 0.81\n"
     ]
    },
    {
     "name": "stdout",
     "output_type": "stream",
     "text": [
      "  batch: 80/656  -  dt: 0:00:00.573253 - d_acc: 0.80\n"
     ]
    },
    {
     "name": "stdout",
     "output_type": "stream",
     "text": [
      "  batch: 81/656  -  dt: 0:00:00.541524 - d_acc: 0.84\n"
     ]
    },
    {
     "name": "stdout",
     "output_type": "stream",
     "text": [
      "  batch: 82/656  -  dt: 0:00:00.531217 - d_acc: 0.81\n"
     ]
    },
    {
     "name": "stdout",
     "output_type": "stream",
     "text": [
      "  batch: 83/656  -  dt: 0:00:00.619995 - d_acc: 0.80\n"
     ]
    },
    {
     "name": "stdout",
     "output_type": "stream",
     "text": [
      "  batch: 84/656  -  dt: 0:00:00.668856 - d_acc: 0.79\n"
     ]
    },
    {
     "name": "stdout",
     "output_type": "stream",
     "text": [
      "  batch: 85/656  -  dt: 0:00:00.580513 - d_acc: 0.79\n"
     ]
    },
    {
     "name": "stdout",
     "output_type": "stream",
     "text": [
      "  batch: 86/656  -  dt: 0:00:00.581302 - d_acc: 0.85\n"
     ]
    },
    {
     "name": "stdout",
     "output_type": "stream",
     "text": [
      "  batch: 87/656  -  dt: 0:00:00.614589 - d_acc: 0.80\n"
     ]
    },
    {
     "name": "stdout",
     "output_type": "stream",
     "text": [
      "  batch: 88/656  -  dt: 0:00:00.580764 - d_acc: 0.82\n"
     ]
    },
    {
     "name": "stdout",
     "output_type": "stream",
     "text": [
      "  batch: 89/656  -  dt: 0:00:00.562922 - d_acc: 0.80\n"
     ]
    },
    {
     "name": "stdout",
     "output_type": "stream",
     "text": [
      "  batch: 90/656  -  dt: 0:00:00.563705 - d_acc: 0.70\n"
     ]
    },
    {
     "name": "stdout",
     "output_type": "stream",
     "text": [
      "  batch: 91/656  -  dt: 0:00:00.560306 - d_acc: 0.77\n"
     ]
    },
    {
     "name": "stdout",
     "output_type": "stream",
     "text": [
      "  batch: 92/656  -  dt: 0:00:00.556010 - d_acc: 0.74\n"
     ]
    },
    {
     "name": "stdout",
     "output_type": "stream",
     "text": [
      "  batch: 93/656  -  dt: 0:00:00.573577 - d_acc: 0.79\n"
     ]
    },
    {
     "name": "stdout",
     "output_type": "stream",
     "text": [
      "  batch: 94/656  -  dt: 0:00:00.566803 - d_acc: 0.79\n"
     ]
    },
    {
     "name": "stdout",
     "output_type": "stream",
     "text": [
      "  batch: 95/656  -  dt: 0:00:00.531791 - d_acc: 0.78\n"
     ]
    },
    {
     "name": "stdout",
     "output_type": "stream",
     "text": [
      "  batch: 96/656  -  dt: 0:00:00.529869 - d_acc: 0.85\n"
     ]
    },
    {
     "name": "stdout",
     "output_type": "stream",
     "text": [
      "  batch: 97/656  -  dt: 0:00:00.520437 - d_acc: 0.84\n"
     ]
    },
    {
     "name": "stdout",
     "output_type": "stream",
     "text": [
      "  batch: 98/656  -  dt: 0:00:00.523337 - d_acc: 0.77\n"
     ]
    },
    {
     "name": "stdout",
     "output_type": "stream",
     "text": [
      "  batch: 99/656  -  dt: 0:00:00.520107 - d_acc: 0.84\n"
     ]
    },
    {
     "name": "stderr",
     "output_type": "stream",
     "text": [
      "WARNING:root:Lossy conversion from float64 to uint8. Range [0, 1]. Convert image to uint8 prior to saving to suppress this warning.\n"
     ]
    },
    {
     "name": "stdout",
     "output_type": "stream",
     "text": [
      "  batch: 100/656  -  dt: 0:00:00.523149 - d_acc: 0.89\nsaving a sample...\n"
     ]
    },
    {
     "name": "stdout",
     "output_type": "stream",
     "text": [
      "  batch: 101/656  -  dt: 0:00:00.519477 - d_acc: 0.82\n"
     ]
    },
    {
     "name": "stdout",
     "output_type": "stream",
     "text": [
      "  batch: 102/656  -  dt: 0:00:00.577184 - d_acc: 0.82\n"
     ]
    },
    {
     "name": "stdout",
     "output_type": "stream",
     "text": [
      "  batch: 103/656  -  dt: 0:00:00.543750 - d_acc: 0.84\n"
     ]
    },
    {
     "name": "stdout",
     "output_type": "stream",
     "text": [
      "  batch: 104/656  -  dt: 0:00:00.555970 - d_acc: 0.88\n"
     ]
    },
    {
     "name": "stdout",
     "output_type": "stream",
     "text": [
      "  batch: 105/656  -  dt: 0:00:00.670027 - d_acc: 0.80\n"
     ]
    },
    {
     "name": "stdout",
     "output_type": "stream",
     "text": [
      "  batch: 106/656  -  dt: 0:00:00.629989 - d_acc: 0.75\n"
     ]
    },
    {
     "name": "stdout",
     "output_type": "stream",
     "text": [
      "  batch: 107/656  -  dt: 0:00:00.552524 - d_acc: 0.80\n"
     ]
    },
    {
     "name": "stdout",
     "output_type": "stream",
     "text": [
      "  batch: 108/656  -  dt: 0:00:00.527306 - d_acc: 0.81\n"
     ]
    },
    {
     "name": "stdout",
     "output_type": "stream",
     "text": [
      "  batch: 109/656  -  dt: 0:00:00.534832 - d_acc: 0.88\n"
     ]
    },
    {
     "name": "stdout",
     "output_type": "stream",
     "text": [
      "  batch: 110/656  -  dt: 0:00:00.545411 - d_acc: 0.81\n"
     ]
    },
    {
     "name": "stdout",
     "output_type": "stream",
     "text": [
      "  batch: 111/656  -  dt: 0:00:00.536013 - d_acc: 0.75\n"
     ]
    },
    {
     "name": "stdout",
     "output_type": "stream",
     "text": [
      "  batch: 112/656  -  dt: 0:00:00.563833 - d_acc: 0.82\n"
     ]
    },
    {
     "name": "stdout",
     "output_type": "stream",
     "text": [
      "  batch: 113/656  -  dt: 0:00:00.590119 - d_acc: 0.84\n"
     ]
    },
    {
     "name": "stdout",
     "output_type": "stream",
     "text": [
      "  batch: 114/656  -  dt: 0:00:00.602632 - d_acc: 0.84\n"
     ]
    },
    {
     "name": "stdout",
     "output_type": "stream",
     "text": [
      "  batch: 115/656  -  dt: 0:00:00.588744 - d_acc: 0.87\n"
     ]
    },
    {
     "name": "stdout",
     "output_type": "stream",
     "text": [
      "  batch: 116/656  -  dt: 0:00:00.520240 - d_acc: 0.77\n"
     ]
    },
    {
     "name": "stdout",
     "output_type": "stream",
     "text": [
      "  batch: 117/656  -  dt: 0:00:00.527198 - d_acc: 0.84\n"
     ]
    },
    {
     "name": "stdout",
     "output_type": "stream",
     "text": [
      "  batch: 118/656  -  dt: 0:00:00.524197 - d_acc: 0.93\n"
     ]
    },
    {
     "name": "stdout",
     "output_type": "stream",
     "text": [
      "  batch: 119/656  -  dt: 0:00:00.514822 - d_acc: 0.83\n"
     ]
    },
    {
     "name": "stdout",
     "output_type": "stream",
     "text": [
      "  batch: 120/656  -  dt: 0:00:00.523813 - d_acc: 0.88\n"
     ]
    },
    {
     "name": "stdout",
     "output_type": "stream",
     "text": [
      "  batch: 121/656  -  dt: 0:00:00.530609 - d_acc: 0.77\n"
     ]
    },
    {
     "name": "stdout",
     "output_type": "stream",
     "text": [
      "  batch: 122/656  -  dt: 0:00:00.519275 - d_acc: 0.84\n"
     ]
    },
    {
     "name": "stdout",
     "output_type": "stream",
     "text": [
      "  batch: 123/656  -  dt: 0:00:00.526830 - d_acc: 0.83\n"
     ]
    },
    {
     "name": "stdout",
     "output_type": "stream",
     "text": [
      "  batch: 124/656  -  dt: 0:00:00.532102 - d_acc: 0.88\n"
     ]
    },
    {
     "name": "stdout",
     "output_type": "stream",
     "text": [
      "  batch: 125/656  -  dt: 0:00:00.525999 - d_acc: 0.86\n"
     ]
    },
    {
     "name": "stdout",
     "output_type": "stream",
     "text": [
      "  batch: 126/656  -  dt: 0:00:00.522847 - d_acc: 0.88\n"
     ]
    },
    {
     "name": "stdout",
     "output_type": "stream",
     "text": [
      "  batch: 127/656  -  dt: 0:00:00.520014 - d_acc: 0.82\n"
     ]
    },
    {
     "name": "stdout",
     "output_type": "stream",
     "text": [
      "  batch: 128/656  -  dt: 0:00:00.524158 - d_acc: 0.72\n"
     ]
    },
    {
     "name": "stdout",
     "output_type": "stream",
     "text": [
      "  batch: 129/656  -  dt: 0:00:00.526092 - d_acc: 0.84\n"
     ]
    },
    {
     "name": "stdout",
     "output_type": "stream",
     "text": [
      "  batch: 130/656  -  dt: 0:00:00.523243 - d_acc: 0.82\n"
     ]
    },
    {
     "name": "stdout",
     "output_type": "stream",
     "text": [
      "  batch: 131/656  -  dt: 0:00:00.526633 - d_acc: 0.86\n"
     ]
    },
    {
     "name": "stdout",
     "output_type": "stream",
     "text": [
      "  batch: 132/656  -  dt: 0:00:00.514092 - d_acc: 0.85\n"
     ]
    },
    {
     "name": "stdout",
     "output_type": "stream",
     "text": [
      "  batch: 133/656  -  dt: 0:00:00.519841 - d_acc: 0.80\n"
     ]
    },
    {
     "name": "stdout",
     "output_type": "stream",
     "text": [
      "  batch: 134/656  -  dt: 0:00:00.526279 - d_acc: 0.83\n"
     ]
    },
    {
     "name": "stdout",
     "output_type": "stream",
     "text": [
      "  batch: 135/656  -  dt: 0:00:00.523362 - d_acc: 0.78\n"
     ]
    },
    {
     "name": "stdout",
     "output_type": "stream",
     "text": [
      "  batch: 136/656  -  dt: 0:00:00.529299 - d_acc: 0.80\n"
     ]
    },
    {
     "name": "stdout",
     "output_type": "stream",
     "text": [
      "  batch: 137/656  -  dt: 0:00:00.520672 - d_acc: 0.82\n"
     ]
    },
    {
     "name": "stdout",
     "output_type": "stream",
     "text": [
      "  batch: 138/656  -  dt: 0:00:00.520548 - d_acc: 0.78\n"
     ]
    },
    {
     "name": "stdout",
     "output_type": "stream",
     "text": [
      "  batch: 139/656  -  dt: 0:00:00.525835 - d_acc: 0.81\n"
     ]
    },
    {
     "name": "stdout",
     "output_type": "stream",
     "text": [
      "  batch: 140/656  -  dt: 0:00:00.524304 - d_acc: 0.79\n"
     ]
    },
    {
     "name": "stdout",
     "output_type": "stream",
     "text": [
      "  batch: 141/656  -  dt: 0:00:00.519308 - d_acc: 0.81\n"
     ]
    },
    {
     "name": "stdout",
     "output_type": "stream",
     "text": [
      "  batch: 142/656  -  dt: 0:00:00.539633 - d_acc: 0.83\n"
     ]
    },
    {
     "name": "stdout",
     "output_type": "stream",
     "text": [
      "  batch: 143/656  -  dt: 0:00:00.527352 - d_acc: 0.76\n"
     ]
    },
    {
     "name": "stdout",
     "output_type": "stream",
     "text": [
      "  batch: 144/656  -  dt: 0:00:00.521370 - d_acc: 0.82\n"
     ]
    },
    {
     "name": "stdout",
     "output_type": "stream",
     "text": [
      "  batch: 145/656  -  dt: 0:00:00.520012 - d_acc: 0.86\n"
     ]
    },
    {
     "name": "stdout",
     "output_type": "stream",
     "text": [
      "  batch: 146/656  -  dt: 0:00:00.523804 - d_acc: 0.77\n"
     ]
    },
    {
     "name": "stdout",
     "output_type": "stream",
     "text": [
      "  batch: 147/656  -  dt: 0:00:00.522399 - d_acc: 0.78\n"
     ]
    },
    {
     "name": "stdout",
     "output_type": "stream",
     "text": [
      "  batch: 148/656  -  dt: 0:00:00.523442 - d_acc: 0.86\n"
     ]
    },
    {
     "name": "stdout",
     "output_type": "stream",
     "text": [
      "  batch: 149/656  -  dt: 0:00:00.536464 - d_acc: 0.80\n"
     ]
    },
    {
     "name": "stderr",
     "output_type": "stream",
     "text": [
      "WARNING:root:Lossy conversion from float64 to uint8. Range [0, 1]. Convert image to uint8 prior to saving to suppress this warning.\n"
     ]
    },
    {
     "name": "stdout",
     "output_type": "stream",
     "text": [
      "  batch: 150/656  -  dt: 0:00:00.522269 - d_acc: 0.78\nsaving a sample...\n"
     ]
    },
    {
     "name": "stdout",
     "output_type": "stream",
     "text": [
      "  batch: 151/656  -  dt: 0:00:00.520068 - d_acc: 0.87\n"
     ]
    },
    {
     "name": "stdout",
     "output_type": "stream",
     "text": [
      "  batch: 152/656  -  dt: 0:00:00.533340 - d_acc: 0.82\n"
     ]
    },
    {
     "name": "stdout",
     "output_type": "stream",
     "text": [
      "  batch: 153/656  -  dt: 0:00:00.531666 - d_acc: 0.89\n"
     ]
    },
    {
     "name": "stdout",
     "output_type": "stream",
     "text": [
      "  batch: 154/656  -  dt: 0:00:00.521086 - d_acc: 0.78\n"
     ]
    },
    {
     "name": "stdout",
     "output_type": "stream",
     "text": [
      "  batch: 155/656  -  dt: 0:00:00.519225 - d_acc: 0.80\n"
     ]
    },
    {
     "name": "stdout",
     "output_type": "stream",
     "text": [
      "  batch: 156/656  -  dt: 0:00:00.522752 - d_acc: 0.76\n"
     ]
    },
    {
     "name": "stdout",
     "output_type": "stream",
     "text": [
      "  batch: 157/656  -  dt: 0:00:00.527136 - d_acc: 0.82\n"
     ]
    },
    {
     "name": "stdout",
     "output_type": "stream",
     "text": [
      "  batch: 158/656  -  dt: 0:00:00.520024 - d_acc: 0.72\n"
     ]
    },
    {
     "name": "stdout",
     "output_type": "stream",
     "text": [
      "  batch: 159/656  -  dt: 0:00:00.529905 - d_acc: 0.78\n"
     ]
    },
    {
     "name": "stdout",
     "output_type": "stream",
     "text": [
      "  batch: 160/656  -  dt: 0:00:00.519952 - d_acc: 0.84\n"
     ]
    },
    {
     "name": "stdout",
     "output_type": "stream",
     "text": [
      "  batch: 161/656  -  dt: 0:00:00.529862 - d_acc: 0.87\n"
     ]
    },
    {
     "name": "stdout",
     "output_type": "stream",
     "text": [
      "  batch: 162/656  -  dt: 0:00:00.522400 - d_acc: 0.82\n"
     ]
    },
    {
     "name": "stdout",
     "output_type": "stream",
     "text": [
      "  batch: 163/656  -  dt: 0:00:00.507663 - d_acc: 0.80\n"
     ]
    },
    {
     "name": "stdout",
     "output_type": "stream",
     "text": [
      "  batch: 164/656  -  dt: 0:00:00.523866 - d_acc: 0.59\n"
     ]
    },
    {
     "name": "stdout",
     "output_type": "stream",
     "text": [
      "  batch: 165/656  -  dt: 0:00:00.523142 - d_acc: 0.66\n"
     ]
    },
    {
     "name": "stdout",
     "output_type": "stream",
     "text": [
      "  batch: 166/656  -  dt: 0:00:00.521766 - d_acc: 0.72\n"
     ]
    },
    {
     "name": "stdout",
     "output_type": "stream",
     "text": [
      "  batch: 167/656  -  dt: 0:00:00.523882 - d_acc: 0.80\n"
     ]
    },
    {
     "name": "stdout",
     "output_type": "stream",
     "text": [
      "  batch: 168/656  -  dt: 0:00:00.519233 - d_acc: 0.77\n"
     ]
    },
    {
     "name": "stdout",
     "output_type": "stream",
     "text": [
      "  batch: 169/656  -  dt: 0:00:00.527176 - d_acc: 0.62\n"
     ]
    },
    {
     "name": "stdout",
     "output_type": "stream",
     "text": [
      "  batch: 170/656  -  dt: 0:00:00.519772 - d_acc: 0.74\n"
     ]
    },
    {
     "name": "stdout",
     "output_type": "stream",
     "text": [
      "  batch: 171/656  -  dt: 0:00:00.521442 - d_acc: 0.70\n"
     ]
    },
    {
     "name": "stdout",
     "output_type": "stream",
     "text": [
      "  batch: 172/656  -  dt: 0:00:00.519690 - d_acc: 0.80\n"
     ]
    },
    {
     "name": "stdout",
     "output_type": "stream",
     "text": [
      "  batch: 173/656  -  dt: 0:00:00.531872 - d_acc: 0.77\n"
     ]
    },
    {
     "name": "stdout",
     "output_type": "stream",
     "text": [
      "  batch: 174/656  -  dt: 0:00:00.518854 - d_acc: 0.61\n"
     ]
    },
    {
     "name": "stdout",
     "output_type": "stream",
     "text": [
      "  batch: 175/656  -  dt: 0:00:00.521234 - d_acc: 0.73\n"
     ]
    },
    {
     "name": "stdout",
     "output_type": "stream",
     "text": [
      "  batch: 176/656  -  dt: 0:00:00.524330 - d_acc: 0.80\n"
     ]
    },
    {
     "name": "stdout",
     "output_type": "stream",
     "text": [
      "  batch: 177/656  -  dt: 0:00:00.525467 - d_acc: 0.71\n"
     ]
    },
    {
     "name": "stdout",
     "output_type": "stream",
     "text": [
      "  batch: 178/656  -  dt: 0:00:00.520369 - d_acc: 0.82\n"
     ]
    },
    {
     "name": "stdout",
     "output_type": "stream",
     "text": [
      "  batch: 179/656  -  dt: 0:00:00.523527 - d_acc: 0.80\n"
     ]
    },
    {
     "name": "stdout",
     "output_type": "stream",
     "text": [
      "  batch: 180/656  -  dt: 0:00:00.526451 - d_acc: 0.84\n"
     ]
    },
    {
     "name": "stdout",
     "output_type": "stream",
     "text": [
      "  batch: 181/656  -  dt: 0:00:00.529998 - d_acc: 0.90\n"
     ]
    },
    {
     "name": "stdout",
     "output_type": "stream",
     "text": [
      "  batch: 182/656  -  dt: 0:00:00.526372 - d_acc: 0.78\n"
     ]
    },
    {
     "name": "stdout",
     "output_type": "stream",
     "text": [
      "  batch: 183/656  -  dt: 0:00:00.515996 - d_acc: 0.64\n"
     ]
    },
    {
     "name": "stdout",
     "output_type": "stream",
     "text": [
      "  batch: 184/656  -  dt: 0:00:00.526565 - d_acc: 0.72\n"
     ]
    },
    {
     "name": "stdout",
     "output_type": "stream",
     "text": [
      "  batch: 185/656  -  dt: 0:00:00.519883 - d_acc: 0.69\n"
     ]
    },
    {
     "name": "stdout",
     "output_type": "stream",
     "text": [
      "  batch: 186/656  -  dt: 0:00:00.520251 - d_acc: 0.80\n"
     ]
    },
    {
     "name": "stdout",
     "output_type": "stream",
     "text": [
      "  batch: 187/656  -  dt: 0:00:00.519919 - d_acc: 0.72\n"
     ]
    },
    {
     "name": "stdout",
     "output_type": "stream",
     "text": [
      "  batch: 188/656  -  dt: 0:00:00.522897 - d_acc: 0.74\n"
     ]
    },
    {
     "name": "stdout",
     "output_type": "stream",
     "text": [
      "  batch: 189/656  -  dt: 0:00:00.517056 - d_acc: 0.80\n"
     ]
    },
    {
     "name": "stdout",
     "output_type": "stream",
     "text": [
      "  batch: 190/656  -  dt: 0:00:00.509803 - d_acc: 0.89\n"
     ]
    },
    {
     "name": "stdout",
     "output_type": "stream",
     "text": [
      "  batch: 191/656  -  dt: 0:00:00.530033 - d_acc: 0.84\n"
     ]
    },
    {
     "name": "stdout",
     "output_type": "stream",
     "text": [
      "  batch: 192/656  -  dt: 0:00:00.527831 - d_acc: 0.80\n"
     ]
    },
    {
     "name": "stdout",
     "output_type": "stream",
     "text": [
      "  batch: 193/656  -  dt: 0:00:00.522188 - d_acc: 0.87\n"
     ]
    },
    {
     "name": "stdout",
     "output_type": "stream",
     "text": [
      "  batch: 194/656  -  dt: 0:00:00.529923 - d_acc: 0.92\n"
     ]
    },
    {
     "name": "stdout",
     "output_type": "stream",
     "text": [
      "  batch: 195/656  -  dt: 0:00:00.520115 - d_acc: 0.84\n"
     ]
    },
    {
     "name": "stdout",
     "output_type": "stream",
     "text": [
      "  batch: 196/656  -  dt: 0:00:00.523529 - d_acc: 0.73\n"
     ]
    },
    {
     "name": "stdout",
     "output_type": "stream",
     "text": [
      "  batch: 197/656  -  dt: 0:00:00.522325 - d_acc: 0.76\n"
     ]
    },
    {
     "name": "stdout",
     "output_type": "stream",
     "text": [
      "  batch: 198/656  -  dt: 0:00:00.527516 - d_acc: 0.68\n"
     ]
    },
    {
     "name": "stdout",
     "output_type": "stream",
     "text": [
      "  batch: 199/656  -  dt: 0:00:00.524289 - d_acc: 0.68\n"
     ]
    },
    {
     "name": "stderr",
     "output_type": "stream",
     "text": [
      "WARNING:root:Lossy conversion from float64 to uint8. Range [0, 1]. Convert image to uint8 prior to saving to suppress this warning.\n"
     ]
    },
    {
     "name": "stdout",
     "output_type": "stream",
     "text": [
      "  batch: 200/656  -  dt: 0:00:00.525863 - d_acc: 0.81\nsaving a sample...\n"
     ]
    },
    {
     "name": "stdout",
     "output_type": "stream",
     "text": [
      "  batch: 201/656  -  dt: 0:00:00.523043 - d_acc: 0.88\n"
     ]
    },
    {
     "name": "stdout",
     "output_type": "stream",
     "text": [
      "  batch: 202/656  -  dt: 0:00:00.528529 - d_acc: 0.67\n"
     ]
    },
    {
     "name": "stdout",
     "output_type": "stream",
     "text": [
      "  batch: 203/656  -  dt: 0:00:00.527159 - d_acc: 0.77\n"
     ]
    },
    {
     "name": "stdout",
     "output_type": "stream",
     "text": [
      "  batch: 204/656  -  dt: 0:00:00.530217 - d_acc: 0.78\n"
     ]
    },
    {
     "name": "stdout",
     "output_type": "stream",
     "text": [
      "  batch: 205/656  -  dt: 0:00:00.521827 - d_acc: 0.84\n"
     ]
    },
    {
     "name": "stdout",
     "output_type": "stream",
     "text": [
      "  batch: 206/656  -  dt: 0:00:00.517019 - d_acc: 0.79\n"
     ]
    },
    {
     "name": "stdout",
     "output_type": "stream",
     "text": [
      "  batch: 207/656  -  dt: 0:00:00.530140 - d_acc: 0.81\n"
     ]
    },
    {
     "name": "stdout",
     "output_type": "stream",
     "text": [
      "  batch: 208/656  -  dt: 0:00:00.539988 - d_acc: 0.88\n"
     ]
    },
    {
     "name": "stdout",
     "output_type": "stream",
     "text": [
      "  batch: 209/656  -  dt: 0:00:00.529723 - d_acc: 0.88\n"
     ]
    },
    {
     "name": "stdout",
     "output_type": "stream",
     "text": [
      "  batch: 210/656  -  dt: 0:00:00.520251 - d_acc: 0.84\n"
     ]
    },
    {
     "name": "stdout",
     "output_type": "stream",
     "text": [
      "  batch: 211/656  -  dt: 0:00:00.523364 - d_acc: 0.78\n"
     ]
    },
    {
     "name": "stdout",
     "output_type": "stream",
     "text": [
      "  batch: 212/656  -  dt: 0:00:00.533433 - d_acc: 0.84\n"
     ]
    },
    {
     "name": "stdout",
     "output_type": "stream",
     "text": [
      "  batch: 213/656  -  dt: 0:00:00.561714 - d_acc: 0.84\n"
     ]
    },
    {
     "name": "stdout",
     "output_type": "stream",
     "text": [
      "  batch: 214/656  -  dt: 0:00:00.511490 - d_acc: 0.76\n"
     ]
    },
    {
     "name": "stdout",
     "output_type": "stream",
     "text": [
      "  batch: 215/656  -  dt: 0:00:00.529916 - d_acc: 0.75\n"
     ]
    },
    {
     "name": "stdout",
     "output_type": "stream",
     "text": [
      "  batch: 216/656  -  dt: 0:00:00.513576 - d_acc: 0.84\n"
     ]
    },
    {
     "name": "stdout",
     "output_type": "stream",
     "text": [
      "  batch: 217/656  -  dt: 0:00:00.520236 - d_acc: 0.75\n"
     ]
    },
    {
     "name": "stdout",
     "output_type": "stream",
     "text": [
      "  batch: 218/656  -  dt: 0:00:00.513815 - d_acc: 0.80\n"
     ]
    },
    {
     "name": "stdout",
     "output_type": "stream",
     "text": [
      "  batch: 219/656  -  dt: 0:00:00.516135 - d_acc: 0.77\n"
     ]
    },
    {
     "name": "stdout",
     "output_type": "stream",
     "text": [
      "  batch: 220/656  -  dt: 0:00:00.547316 - d_acc: 0.76\n"
     ]
    },
    {
     "name": "stdout",
     "output_type": "stream",
     "text": [
      "  batch: 221/656  -  dt: 0:00:00.535169 - d_acc: 0.73\n"
     ]
    },
    {
     "name": "stdout",
     "output_type": "stream",
     "text": [
      "  batch: 222/656  -  dt: 0:00:00.536109 - d_acc: 0.77\n"
     ]
    },
    {
     "name": "stdout",
     "output_type": "stream",
     "text": [
      "  batch: 223/656  -  dt: 0:00:00.530576 - d_acc: 0.80\n"
     ]
    },
    {
     "name": "stdout",
     "output_type": "stream",
     "text": [
      "  batch: 224/656  -  dt: 0:00:00.520208 - d_acc: 0.74\n"
     ]
    },
    {
     "name": "stdout",
     "output_type": "stream",
     "text": [
      "  batch: 225/656  -  dt: 0:00:00.519692 - d_acc: 0.75\n"
     ]
    },
    {
     "name": "stdout",
     "output_type": "stream",
     "text": [
      "  batch: 226/656  -  dt: 0:00:00.544315 - d_acc: 0.75\n"
     ]
    },
    {
     "name": "stdout",
     "output_type": "stream",
     "text": [
      "  batch: 227/656  -  dt: 0:00:00.527778 - d_acc: 0.78\n"
     ]
    },
    {
     "name": "stdout",
     "output_type": "stream",
     "text": [
      "  batch: 228/656  -  dt: 0:00:00.521691 - d_acc: 0.78\n"
     ]
    },
    {
     "name": "stdout",
     "output_type": "stream",
     "text": [
      "  batch: 229/656  -  dt: 0:00:00.526489 - d_acc: 0.87\n"
     ]
    },
    {
     "name": "stdout",
     "output_type": "stream",
     "text": [
      "  batch: 230/656  -  dt: 0:00:00.519728 - d_acc: 0.86\n"
     ]
    },
    {
     "name": "stdout",
     "output_type": "stream",
     "text": [
      "  batch: 231/656  -  dt: 0:00:00.519845 - d_acc: 0.76\n"
     ]
    },
    {
     "name": "stdout",
     "output_type": "stream",
     "text": [
      "  batch: 232/656  -  dt: 0:00:00.529826 - d_acc: 0.74\n"
     ]
    },
    {
     "name": "stdout",
     "output_type": "stream",
     "text": [
      "  batch: 233/656  -  dt: 0:00:00.520077 - d_acc: 0.82\n"
     ]
    },
    {
     "name": "stdout",
     "output_type": "stream",
     "text": [
      "  batch: 234/656  -  dt: 0:00:00.524196 - d_acc: 0.80\n"
     ]
    },
    {
     "name": "stdout",
     "output_type": "stream",
     "text": [
      "  batch: 235/656  -  dt: 0:00:00.525726 - d_acc: 0.81\n"
     ]
    },
    {
     "name": "stdout",
     "output_type": "stream",
     "text": [
      "  batch: 236/656  -  dt: 0:00:00.520416 - d_acc: 0.78\n"
     ]
    },
    {
     "name": "stdout",
     "output_type": "stream",
     "text": [
      "  batch: 237/656  -  dt: 0:00:00.519838 - d_acc: 0.73\n"
     ]
    },
    {
     "name": "stdout",
     "output_type": "stream",
     "text": [
      "  batch: 238/656  -  dt: 0:00:00.538222 - d_acc: 0.80\n"
     ]
    },
    {
     "name": "stdout",
     "output_type": "stream",
     "text": [
      "  batch: 239/656  -  dt: 0:00:00.526679 - d_acc: 0.66\n"
     ]
    },
    {
     "name": "stdout",
     "output_type": "stream",
     "text": [
      "  batch: 240/656  -  dt: 0:00:00.525265 - d_acc: 0.79\n"
     ]
    },
    {
     "name": "stdout",
     "output_type": "stream",
     "text": [
      "  batch: 241/656  -  dt: 0:00:00.531823 - d_acc: 0.77\n"
     ]
    },
    {
     "name": "stdout",
     "output_type": "stream",
     "text": [
      "  batch: 242/656  -  dt: 0:00:00.551705 - d_acc: 0.76\n"
     ]
    },
    {
     "name": "stdout",
     "output_type": "stream",
     "text": [
      "  batch: 243/656  -  dt: 0:00:00.549695 - d_acc: 0.84\n"
     ]
    },
    {
     "name": "stdout",
     "output_type": "stream",
     "text": [
      "  batch: 244/656  -  dt: 0:00:00.526344 - d_acc: 0.80\n"
     ]
    },
    {
     "name": "stdout",
     "output_type": "stream",
     "text": [
      "  batch: 245/656  -  dt: 0:00:00.544048 - d_acc: 0.80\n"
     ]
    },
    {
     "name": "stdout",
     "output_type": "stream",
     "text": [
      "  batch: 246/656  -  dt: 0:00:00.539435 - d_acc: 0.77\n"
     ]
    },
    {
     "name": "stdout",
     "output_type": "stream",
     "text": [
      "  batch: 247/656  -  dt: 0:00:00.526888 - d_acc: 0.78\n"
     ]
    },
    {
     "name": "stdout",
     "output_type": "stream",
     "text": [
      "  batch: 248/656  -  dt: 0:00:00.520921 - d_acc: 0.80\n"
     ]
    },
    {
     "name": "stdout",
     "output_type": "stream",
     "text": [
      "  batch: 249/656  -  dt: 0:00:00.532651 - d_acc: 0.85\n"
     ]
    },
    {
     "name": "stderr",
     "output_type": "stream",
     "text": [
      "WARNING:root:Lossy conversion from float64 to uint8. Range [0, 1]. Convert image to uint8 prior to saving to suppress this warning.\n"
     ]
    },
    {
     "name": "stdout",
     "output_type": "stream",
     "text": [
      "  batch: 250/656  -  dt: 0:00:00.515430 - d_acc: 0.72\nsaving a sample...\n"
     ]
    },
    {
     "name": "stdout",
     "output_type": "stream",
     "text": [
      "  batch: 251/656  -  dt: 0:00:00.522796 - d_acc: 0.73\n"
     ]
    },
    {
     "name": "stdout",
     "output_type": "stream",
     "text": [
      "  batch: 252/656  -  dt: 0:00:00.524072 - d_acc: 0.72\n"
     ]
    },
    {
     "name": "stdout",
     "output_type": "stream",
     "text": [
      "  batch: 253/656  -  dt: 0:00:00.531733 - d_acc: 0.63\n"
     ]
    },
    {
     "name": "stdout",
     "output_type": "stream",
     "text": [
      "  batch: 254/656  -  dt: 0:00:00.588821 - d_acc: 0.70\n"
     ]
    },
    {
     "name": "stdout",
     "output_type": "stream",
     "text": [
      "  batch: 255/656  -  dt: 0:00:00.561433 - d_acc: 0.79\n"
     ]
    },
    {
     "name": "stdout",
     "output_type": "stream",
     "text": [
      "  batch: 256/656  -  dt: 0:00:00.533177 - d_acc: 0.76\n"
     ]
    },
    {
     "name": "stdout",
     "output_type": "stream",
     "text": [
      "  batch: 257/656  -  dt: 0:00:00.529914 - d_acc: 0.84\n"
     ]
    },
    {
     "name": "stdout",
     "output_type": "stream",
     "text": [
      "  batch: 258/656  -  dt: 0:00:00.550491 - d_acc: 0.77\n"
     ]
    },
    {
     "name": "stdout",
     "output_type": "stream",
     "text": [
      "  batch: 259/656  -  dt: 0:00:00.526291 - d_acc: 0.75\n"
     ]
    },
    {
     "name": "stdout",
     "output_type": "stream",
     "text": [
      "  batch: 260/656  -  dt: 0:00:00.523056 - d_acc: 0.73\n"
     ]
    },
    {
     "name": "stdout",
     "output_type": "stream",
     "text": [
      "  batch: 261/656  -  dt: 0:00:00.516879 - d_acc: 0.67\n"
     ]
    },
    {
     "name": "stdout",
     "output_type": "stream",
     "text": [
      "  batch: 262/656  -  dt: 0:00:00.523861 - d_acc: 0.78\n"
     ]
    },
    {
     "name": "stdout",
     "output_type": "stream",
     "text": [
      "  batch: 263/656  -  dt: 0:00:00.526226 - d_acc: 0.75\n"
     ]
    },
    {
     "name": "stdout",
     "output_type": "stream",
     "text": [
      "  batch: 264/656  -  dt: 0:00:00.524750 - d_acc: 0.75\n"
     ]
    },
    {
     "name": "stdout",
     "output_type": "stream",
     "text": [
      "  batch: 265/656  -  dt: 0:00:00.518592 - d_acc: 0.69\n"
     ]
    },
    {
     "name": "stdout",
     "output_type": "stream",
     "text": [
      "  batch: 266/656  -  dt: 0:00:00.526731 - d_acc: 0.73\n"
     ]
    },
    {
     "name": "stdout",
     "output_type": "stream",
     "text": [
      "  batch: 267/656  -  dt: 0:00:00.524202 - d_acc: 0.77\n"
     ]
    },
    {
     "name": "stdout",
     "output_type": "stream",
     "text": [
      "  batch: 268/656  -  dt: 0:00:00.525807 - d_acc: 0.71\n"
     ]
    },
    {
     "name": "stdout",
     "output_type": "stream",
     "text": [
      "  batch: 269/656  -  dt: 0:00:00.522324 - d_acc: 0.75\n"
     ]
    },
    {
     "name": "stdout",
     "output_type": "stream",
     "text": [
      "  batch: 270/656  -  dt: 0:00:00.526759 - d_acc: 0.77\n"
     ]
    },
    {
     "name": "stdout",
     "output_type": "stream",
     "text": [
      "  batch: 271/656  -  dt: 0:00:00.513525 - d_acc: 0.80\n"
     ]
    },
    {
     "name": "stdout",
     "output_type": "stream",
     "text": [
      "  batch: 272/656  -  dt: 0:00:00.530108 - d_acc: 0.85\n"
     ]
    },
    {
     "name": "stdout",
     "output_type": "stream",
     "text": [
      "  batch: 273/656  -  dt: 0:00:00.520837 - d_acc: 0.75\n"
     ]
    },
    {
     "name": "stdout",
     "output_type": "stream",
     "text": [
      "  batch: 274/656  -  dt: 0:00:00.528393 - d_acc: 0.71\n"
     ]
    },
    {
     "name": "stdout",
     "output_type": "stream",
     "text": [
      "  batch: 275/656  -  dt: 0:00:00.520648 - d_acc: 0.65\n"
     ]
    },
    {
     "name": "stdout",
     "output_type": "stream",
     "text": [
      "  batch: 276/656  -  dt: 0:00:00.527162 - d_acc: 0.77\n"
     ]
    },
    {
     "name": "stdout",
     "output_type": "stream",
     "text": [
      "  batch: 277/656  -  dt: 0:00:00.511402 - d_acc: 0.67\n"
     ]
    },
    {
     "name": "stdout",
     "output_type": "stream",
     "text": [
      "  batch: 278/656  -  dt: 0:00:00.528836 - d_acc: 0.68\n"
     ]
    },
    {
     "name": "stdout",
     "output_type": "stream",
     "text": [
      "  batch: 279/656  -  dt: 0:00:00.511505 - d_acc: 0.66\n"
     ]
    },
    {
     "name": "stdout",
     "output_type": "stream",
     "text": [
      "  batch: 280/656  -  dt: 0:00:00.530153 - d_acc: 0.72\n"
     ]
    },
    {
     "name": "stdout",
     "output_type": "stream",
     "text": [
      "  batch: 281/656  -  dt: 0:00:00.519685 - d_acc: 0.77\n"
     ]
    },
    {
     "name": "stdout",
     "output_type": "stream",
     "text": [
      "  batch: 282/656  -  dt: 0:00:00.530929 - d_acc: 0.70\n"
     ]
    },
    {
     "name": "stdout",
     "output_type": "stream",
     "text": [
      "  batch: 283/656  -  dt: 0:00:00.529181 - d_acc: 0.72\n"
     ]
    },
    {
     "name": "stdout",
     "output_type": "stream",
     "text": [
      "  batch: 284/656  -  dt: 0:00:00.520121 - d_acc: 0.76\n"
     ]
    },
    {
     "name": "stdout",
     "output_type": "stream",
     "text": [
      "  batch: 285/656  -  dt: 0:00:00.519833 - d_acc: 0.71\n"
     ]
    },
    {
     "name": "stdout",
     "output_type": "stream",
     "text": [
      "  batch: 286/656  -  dt: 0:00:00.520031 - d_acc: 0.71\n"
     ]
    },
    {
     "name": "stdout",
     "output_type": "stream",
     "text": [
      "  batch: 287/656  -  dt: 0:00:00.529745 - d_acc: 0.67\n"
     ]
    },
    {
     "name": "stdout",
     "output_type": "stream",
     "text": [
      "  batch: 288/656  -  dt: 0:00:00.524397 - d_acc: 0.66\n"
     ]
    },
    {
     "name": "stdout",
     "output_type": "stream",
     "text": [
      "  batch: 289/656  -  dt: 0:00:00.518854 - d_acc: 0.68\n"
     ]
    },
    {
     "name": "stdout",
     "output_type": "stream",
     "text": [
      "  batch: 290/656  -  dt: 0:00:00.516150 - d_acc: 0.76\n"
     ]
    },
    {
     "name": "stdout",
     "output_type": "stream",
     "text": [
      "  batch: 291/656  -  dt: 0:00:00.510250 - d_acc: 0.72\n"
     ]
    },
    {
     "name": "stdout",
     "output_type": "stream",
     "text": [
      "  batch: 292/656  -  dt: 0:00:00.523519 - d_acc: 0.62\n"
     ]
    },
    {
     "name": "stdout",
     "output_type": "stream",
     "text": [
      "  batch: 293/656  -  dt: 0:00:00.520388 - d_acc: 0.64\n"
     ]
    },
    {
     "name": "stdout",
     "output_type": "stream",
     "text": [
      "  batch: 294/656  -  dt: 0:00:00.530199 - d_acc: 0.66\n"
     ]
    },
    {
     "name": "stdout",
     "output_type": "stream",
     "text": [
      "  batch: 295/656  -  dt: 0:00:00.522277 - d_acc: 0.72\n"
     ]
    },
    {
     "name": "stdout",
     "output_type": "stream",
     "text": [
      "  batch: 296/656  -  dt: 0:00:00.520883 - d_acc: 0.71\n"
     ]
    },
    {
     "name": "stdout",
     "output_type": "stream",
     "text": [
      "  batch: 297/656  -  dt: 0:00:00.526039 - d_acc: 0.65\n"
     ]
    },
    {
     "name": "stdout",
     "output_type": "stream",
     "text": [
      "  batch: 298/656  -  dt: 0:00:00.525820 - d_acc: 0.67\n"
     ]
    },
    {
     "name": "stdout",
     "output_type": "stream",
     "text": [
      "  batch: 299/656  -  dt: 0:00:00.525072 - d_acc: 0.75\n"
     ]
    },
    {
     "name": "stderr",
     "output_type": "stream",
     "text": [
      "WARNING:root:Lossy conversion from float64 to uint8. Range [0, 1]. Convert image to uint8 prior to saving to suppress this warning.\n"
     ]
    },
    {
     "name": "stdout",
     "output_type": "stream",
     "text": [
      "  batch: 300/656  -  dt: 0:00:00.518741 - d_acc: 0.74\nsaving a sample...\n"
     ]
    },
    {
     "name": "stdout",
     "output_type": "stream",
     "text": [
      "  batch: 301/656  -  dt: 0:00:00.519944 - d_acc: 0.73\n"
     ]
    },
    {
     "name": "stdout",
     "output_type": "stream",
     "text": [
      "  batch: 302/656  -  dt: 0:00:00.514416 - d_acc: 0.70\n"
     ]
    },
    {
     "name": "stdout",
     "output_type": "stream",
     "text": [
      "  batch: 303/656  -  dt: 0:00:00.538580 - d_acc: 0.82\n"
     ]
    },
    {
     "name": "stdout",
     "output_type": "stream",
     "text": [
      "  batch: 304/656  -  dt: 0:00:00.530331 - d_acc: 0.72\n"
     ]
    },
    {
     "name": "stdout",
     "output_type": "stream",
     "text": [
      "  batch: 305/656  -  dt: 0:00:00.526654 - d_acc: 0.66\n"
     ]
    },
    {
     "name": "stdout",
     "output_type": "stream",
     "text": [
      "  batch: 306/656  -  dt: 0:00:00.513730 - d_acc: 0.69\n"
     ]
    },
    {
     "name": "stdout",
     "output_type": "stream",
     "text": [
      "  batch: 307/656  -  dt: 0:00:00.531864 - d_acc: 0.63\n"
     ]
    },
    {
     "name": "stdout",
     "output_type": "stream",
     "text": [
      "  batch: 308/656  -  dt: 0:00:00.515764 - d_acc: 0.68\n"
     ]
    },
    {
     "name": "stdout",
     "output_type": "stream",
     "text": [
      "  batch: 309/656  -  dt: 0:00:00.522676 - d_acc: 0.77\n"
     ]
    },
    {
     "name": "stdout",
     "output_type": "stream",
     "text": [
      "  batch: 310/656  -  dt: 0:00:00.519119 - d_acc: 0.70\n"
     ]
    },
    {
     "name": "stdout",
     "output_type": "stream",
     "text": [
      "  batch: 311/656  -  dt: 0:00:00.520952 - d_acc: 0.67\n"
     ]
    },
    {
     "name": "stdout",
     "output_type": "stream",
     "text": [
      "  batch: 312/656  -  dt: 0:00:00.525752 - d_acc: 0.66\n"
     ]
    },
    {
     "name": "stdout",
     "output_type": "stream",
     "text": [
      "  batch: 313/656  -  dt: 0:00:00.524247 - d_acc: 0.73\n"
     ]
    },
    {
     "name": "stdout",
     "output_type": "stream",
     "text": [
      "  batch: 314/656  -  dt: 0:00:00.526147 - d_acc: 0.73\n"
     ]
    },
    {
     "name": "stdout",
     "output_type": "stream",
     "text": [
      "  batch: 315/656  -  dt: 0:00:00.543208 - d_acc: 0.66\n"
     ]
    },
    {
     "name": "stdout",
     "output_type": "stream",
     "text": [
      "  batch: 316/656  -  dt: 0:00:00.528967 - d_acc: 0.80\n"
     ]
    },
    {
     "name": "stdout",
     "output_type": "stream",
     "text": [
      "  batch: 317/656  -  dt: 0:00:00.520742 - d_acc: 0.71\n"
     ]
    },
    {
     "name": "stdout",
     "output_type": "stream",
     "text": [
      "  batch: 318/656  -  dt: 0:00:00.520759 - d_acc: 0.71\n"
     ]
    },
    {
     "name": "stdout",
     "output_type": "stream",
     "text": [
      "  batch: 319/656  -  dt: 0:00:00.526182 - d_acc: 0.66\n"
     ]
    },
    {
     "name": "stdout",
     "output_type": "stream",
     "text": [
      "  batch: 320/656  -  dt: 0:00:00.523426 - d_acc: 0.66\n"
     ]
    },
    {
     "name": "stdout",
     "output_type": "stream",
     "text": [
      "  batch: 321/656  -  dt: 0:00:00.516374 - d_acc: 0.70\n"
     ]
    },
    {
     "name": "stdout",
     "output_type": "stream",
     "text": [
      "  batch: 322/656  -  dt: 0:00:00.523636 - d_acc: 0.70\n"
     ]
    },
    {
     "name": "stdout",
     "output_type": "stream",
     "text": [
      "  batch: 323/656  -  dt: 0:00:00.516835 - d_acc: 0.73\n"
     ]
    },
    {
     "name": "stdout",
     "output_type": "stream",
     "text": [
      "  batch: 324/656  -  dt: 0:00:00.529603 - d_acc: 0.73\n"
     ]
    },
    {
     "name": "stdout",
     "output_type": "stream",
     "text": [
      "  batch: 325/656  -  dt: 0:00:00.535305 - d_acc: 0.84\n"
     ]
    },
    {
     "name": "stdout",
     "output_type": "stream",
     "text": [
      "  batch: 326/656  -  dt: 0:00:00.527699 - d_acc: 0.73\n"
     ]
    },
    {
     "name": "stdout",
     "output_type": "stream",
     "text": [
      "  batch: 327/656  -  dt: 0:00:00.517320 - d_acc: 0.68\n"
     ]
    },
    {
     "name": "stdout",
     "output_type": "stream",
     "text": [
      "  batch: 328/656  -  dt: 0:00:00.522829 - d_acc: 0.62\n"
     ]
    },
    {
     "name": "stdout",
     "output_type": "stream",
     "text": [
      "  batch: 329/656  -  dt: 0:00:00.520412 - d_acc: 0.70\n"
     ]
    },
    {
     "name": "stdout",
     "output_type": "stream",
     "text": [
      "  batch: 330/656  -  dt: 0:00:00.524331 - d_acc: 0.76\n"
     ]
    },
    {
     "name": "stdout",
     "output_type": "stream",
     "text": [
      "  batch: 331/656  -  dt: 0:00:00.522219 - d_acc: 0.76\n"
     ]
    },
    {
     "name": "stdout",
     "output_type": "stream",
     "text": [
      "  batch: 332/656  -  dt: 0:00:00.528105 - d_acc: 0.75\n"
     ]
    },
    {
     "name": "stdout",
     "output_type": "stream",
     "text": [
      "  batch: 333/656  -  dt: 0:00:00.521854 - d_acc: 0.71\n"
     ]
    },
    {
     "name": "stdout",
     "output_type": "stream",
     "text": [
      "  batch: 334/656  -  dt: 0:00:00.528181 - d_acc: 0.63\n"
     ]
    },
    {
     "name": "stdout",
     "output_type": "stream",
     "text": [
      "  batch: 335/656  -  dt: 0:00:00.523675 - d_acc: 0.63\n"
     ]
    },
    {
     "name": "stdout",
     "output_type": "stream",
     "text": [
      "  batch: 336/656  -  dt: 0:00:00.526113 - d_acc: 0.69\n"
     ]
    },
    {
     "name": "stdout",
     "output_type": "stream",
     "text": [
      "  batch: 337/656  -  dt: 0:00:00.528023 - d_acc: 0.77\n"
     ]
    },
    {
     "name": "stdout",
     "output_type": "stream",
     "text": [
      "  batch: 338/656  -  dt: 0:00:00.525741 - d_acc: 0.80\n"
     ]
    },
    {
     "name": "stdout",
     "output_type": "stream",
     "text": [
      "  batch: 339/656  -  dt: 0:00:00.516435 - d_acc: 0.72\n"
     ]
    },
    {
     "name": "stdout",
     "output_type": "stream",
     "text": [
      "  batch: 340/656  -  dt: 0:00:00.539661 - d_acc: 0.77\n"
     ]
    },
    {
     "name": "stdout",
     "output_type": "stream",
     "text": [
      "  batch: 341/656  -  dt: 0:00:00.522173 - d_acc: 0.78\n"
     ]
    },
    {
     "name": "stdout",
     "output_type": "stream",
     "text": [
      "  batch: 342/656  -  dt: 0:00:00.520462 - d_acc: 0.62\n"
     ]
    },
    {
     "name": "stdout",
     "output_type": "stream",
     "text": [
      "  batch: 343/656  -  dt: 0:00:00.527736 - d_acc: 0.70\n"
     ]
    },
    {
     "name": "stdout",
     "output_type": "stream",
     "text": [
      "  batch: 344/656  -  dt: 0:00:00.523464 - d_acc: 0.70\n"
     ]
    },
    {
     "name": "stdout",
     "output_type": "stream",
     "text": [
      "  batch: 345/656  -  dt: 0:00:00.519441 - d_acc: 0.62\n"
     ]
    },
    {
     "name": "stdout",
     "output_type": "stream",
     "text": [
      "  batch: 346/656  -  dt: 0:00:00.526923 - d_acc: 0.70\n"
     ]
    },
    {
     "name": "stdout",
     "output_type": "stream",
     "text": [
      "  batch: 347/656  -  dt: 0:00:00.520100 - d_acc: 0.71\n"
     ]
    },
    {
     "name": "stdout",
     "output_type": "stream",
     "text": [
      "  batch: 348/656  -  dt: 0:00:00.513808 - d_acc: 0.71\n"
     ]
    },
    {
     "name": "stdout",
     "output_type": "stream",
     "text": [
      "  batch: 349/656  -  dt: 0:00:00.521481 - d_acc: 0.69\n"
     ]
    },
    {
     "name": "stderr",
     "output_type": "stream",
     "text": [
      "WARNING:root:Lossy conversion from float64 to uint8. Range [0, 1]. Convert image to uint8 prior to saving to suppress this warning.\n"
     ]
    },
    {
     "name": "stdout",
     "output_type": "stream",
     "text": [
      "  batch: 350/656  -  dt: 0:00:00.527845 - d_acc: 0.62\nsaving a sample...\n"
     ]
    },
    {
     "name": "stdout",
     "output_type": "stream",
     "text": [
      "  batch: 351/656  -  dt: 0:00:00.521217 - d_acc: 0.71\n"
     ]
    },
    {
     "name": "stdout",
     "output_type": "stream",
     "text": [
      "  batch: 352/656  -  dt: 0:00:00.538782 - d_acc: 0.71\n"
     ]
    },
    {
     "name": "stdout",
     "output_type": "stream",
     "text": [
      "  batch: 353/656  -  dt: 0:00:00.527675 - d_acc: 0.73\n"
     ]
    },
    {
     "name": "stdout",
     "output_type": "stream",
     "text": [
      "  batch: 354/656  -  dt: 0:00:00.522533 - d_acc: 0.68\n"
     ]
    },
    {
     "name": "stdout",
     "output_type": "stream",
     "text": [
      "  batch: 355/656  -  dt: 0:00:00.526242 - d_acc: 0.73\n"
     ]
    },
    {
     "name": "stdout",
     "output_type": "stream",
     "text": [
      "  batch: 356/656  -  dt: 0:00:00.522000 - d_acc: 0.57\n"
     ]
    },
    {
     "name": "stdout",
     "output_type": "stream",
     "text": [
      "  batch: 357/656  -  dt: 0:00:00.520067 - d_acc: 0.69\n"
     ]
    },
    {
     "name": "stdout",
     "output_type": "stream",
     "text": [
      "  batch: 358/656  -  dt: 0:00:00.516714 - d_acc: 0.68\n"
     ]
    },
    {
     "name": "stdout",
     "output_type": "stream",
     "text": [
      "  batch: 359/656  -  dt: 0:00:00.521373 - d_acc: 0.74\n"
     ]
    },
    {
     "name": "stdout",
     "output_type": "stream",
     "text": [
      "  batch: 360/656  -  dt: 0:00:00.531404 - d_acc: 0.66\n"
     ]
    },
    {
     "name": "stdout",
     "output_type": "stream",
     "text": [
      "  batch: 361/656  -  dt: 0:00:00.516166 - d_acc: 0.66\n"
     ]
    },
    {
     "name": "stdout",
     "output_type": "stream",
     "text": [
      "  batch: 362/656  -  dt: 0:00:00.516947 - d_acc: 0.73\n"
     ]
    },
    {
     "name": "stdout",
     "output_type": "stream",
     "text": [
      "  batch: 363/656  -  dt: 0:00:00.519945 - d_acc: 0.63\n"
     ]
    },
    {
     "name": "stdout",
     "output_type": "stream",
     "text": [
      "  batch: 364/656  -  dt: 0:00:00.520296 - d_acc: 0.68\n"
     ]
    },
    {
     "name": "stdout",
     "output_type": "stream",
     "text": [
      "  batch: 365/656  -  dt: 0:00:00.523535 - d_acc: 0.66\n"
     ]
    },
    {
     "name": "stdout",
     "output_type": "stream",
     "text": [
      "  batch: 366/656  -  dt: 0:00:00.529720 - d_acc: 0.62\n"
     ]
    },
    {
     "name": "stdout",
     "output_type": "stream",
     "text": [
      "  batch: 367/656  -  dt: 0:00:00.519843 - d_acc: 0.70\n"
     ]
    },
    {
     "name": "stdout",
     "output_type": "stream",
     "text": [
      "  batch: 368/656  -  dt: 0:00:00.525869 - d_acc: 0.73\n"
     ]
    },
    {
     "name": "stdout",
     "output_type": "stream",
     "text": [
      "  batch: 369/656  -  dt: 0:00:00.520657 - d_acc: 0.72\n"
     ]
    },
    {
     "name": "stdout",
     "output_type": "stream",
     "text": [
      "  batch: 370/656  -  dt: 0:00:00.523843 - d_acc: 0.66\n"
     ]
    },
    {
     "name": "stdout",
     "output_type": "stream",
     "text": [
      "  batch: 371/656  -  dt: 0:00:00.526240 - d_acc: 0.73\n"
     ]
    },
    {
     "name": "stdout",
     "output_type": "stream",
     "text": [
      "  batch: 372/656  -  dt: 0:00:00.520094 - d_acc: 0.71\n"
     ]
    },
    {
     "name": "stdout",
     "output_type": "stream",
     "text": [
      "  batch: 373/656  -  dt: 0:00:00.523726 - d_acc: 0.71\n"
     ]
    },
    {
     "name": "stdout",
     "output_type": "stream",
     "text": [
      "  batch: 374/656  -  dt: 0:00:00.520090 - d_acc: 0.71\n"
     ]
    },
    {
     "name": "stdout",
     "output_type": "stream",
     "text": [
      "  batch: 375/656  -  dt: 0:00:00.520286 - d_acc: 0.67\n"
     ]
    },
    {
     "name": "stdout",
     "output_type": "stream",
     "text": [
      "  batch: 376/656  -  dt: 0:00:00.522021 - d_acc: 0.66\n"
     ]
    },
    {
     "name": "stdout",
     "output_type": "stream",
     "text": [
      "  batch: 377/656  -  dt: 0:00:00.518146 - d_acc: 0.74\n"
     ]
    },
    {
     "name": "stdout",
     "output_type": "stream",
     "text": [
      "  batch: 378/656  -  dt: 0:00:00.533468 - d_acc: 0.65\n"
     ]
    },
    {
     "name": "stdout",
     "output_type": "stream",
     "text": [
      "  batch: 379/656  -  dt: 0:00:00.517652 - d_acc: 0.67\n"
     ]
    },
    {
     "name": "stdout",
     "output_type": "stream",
     "text": [
      "  batch: 380/656  -  dt: 0:00:00.532390 - d_acc: 0.69\n"
     ]
    },
    {
     "name": "stdout",
     "output_type": "stream",
     "text": [
      "  batch: 381/656  -  dt: 0:00:00.526491 - d_acc: 0.59\n"
     ]
    },
    {
     "name": "stdout",
     "output_type": "stream",
     "text": [
      "  batch: 382/656  -  dt: 0:00:00.519613 - d_acc: 0.59\n"
     ]
    },
    {
     "name": "stdout",
     "output_type": "stream",
     "text": [
      "  batch: 383/656  -  dt: 0:00:00.520211 - d_acc: 0.68\n"
     ]
    },
    {
     "name": "stdout",
     "output_type": "stream",
     "text": [
      "  batch: 384/656  -  dt: 0:00:00.520139 - d_acc: 0.67\n"
     ]
    },
    {
     "name": "stdout",
     "output_type": "stream",
     "text": [
      "  batch: 385/656  -  dt: 0:00:00.518538 - d_acc: 0.61\n"
     ]
    },
    {
     "name": "stdout",
     "output_type": "stream",
     "text": [
      "  batch: 386/656  -  dt: 0:00:00.524631 - d_acc: 0.66\n"
     ]
    },
    {
     "name": "stdout",
     "output_type": "stream",
     "text": [
      "  batch: 387/656  -  dt: 0:00:00.526591 - d_acc: 0.73\n"
     ]
    },
    {
     "name": "stdout",
     "output_type": "stream",
     "text": [
      "  batch: 388/656  -  dt: 0:00:00.523224 - d_acc: 0.65\n"
     ]
    },
    {
     "name": "stdout",
     "output_type": "stream",
     "text": [
      "  batch: 389/656  -  dt: 0:00:00.522768 - d_acc: 0.66\n"
     ]
    },
    {
     "name": "stdout",
     "output_type": "stream",
     "text": [
      "  batch: 390/656  -  dt: 0:00:00.523944 - d_acc: 0.68\n"
     ]
    },
    {
     "name": "stdout",
     "output_type": "stream",
     "text": [
      "  batch: 391/656  -  dt: 0:00:00.518029 - d_acc: 0.66\n"
     ]
    },
    {
     "name": "stdout",
     "output_type": "stream",
     "text": [
      "  batch: 392/656  -  dt: 0:00:00.516148 - d_acc: 0.74\n"
     ]
    },
    {
     "name": "stdout",
     "output_type": "stream",
     "text": [
      "  batch: 393/656  -  dt: 0:00:00.529743 - d_acc: 0.73\n"
     ]
    },
    {
     "name": "stdout",
     "output_type": "stream",
     "text": [
      "  batch: 394/656  -  dt: 0:00:00.523650 - d_acc: 0.68\n"
     ]
    },
    {
     "name": "stdout",
     "output_type": "stream",
     "text": [
      "  batch: 395/656  -  dt: 0:00:00.528840 - d_acc: 0.78\n"
     ]
    },
    {
     "name": "stdout",
     "output_type": "stream",
     "text": [
      "  batch: 396/656  -  dt: 0:00:00.520439 - d_acc: 0.70\n"
     ]
    },
    {
     "name": "stdout",
     "output_type": "stream",
     "text": [
      "  batch: 397/656  -  dt: 0:00:00.530576 - d_acc: 0.70\n"
     ]
    },
    {
     "name": "stdout",
     "output_type": "stream",
     "text": [
      "  batch: 398/656  -  dt: 0:00:00.522057 - d_acc: 0.74\n"
     ]
    },
    {
     "name": "stdout",
     "output_type": "stream",
     "text": [
      "  batch: 399/656  -  dt: 0:00:00.529283 - d_acc: 0.70\n"
     ]
    },
    {
     "name": "stderr",
     "output_type": "stream",
     "text": [
      "WARNING:root:Lossy conversion from float64 to uint8. Range [0, 1]. Convert image to uint8 prior to saving to suppress this warning.\n"
     ]
    },
    {
     "name": "stdout",
     "output_type": "stream",
     "text": [
      "  batch: 400/656  -  dt: 0:00:00.521186 - d_acc: 0.73\nsaving a sample...\n"
     ]
    },
    {
     "name": "stdout",
     "output_type": "stream",
     "text": [
      "  batch: 401/656  -  dt: 0:00:00.516308 - d_acc: 0.80\n"
     ]
    },
    {
     "name": "stdout",
     "output_type": "stream",
     "text": [
      "  batch: 402/656  -  dt: 0:00:00.529838 - d_acc: 0.71\n"
     ]
    },
    {
     "name": "stdout",
     "output_type": "stream",
     "text": [
      "  batch: 403/656  -  dt: 0:00:00.532039 - d_acc: 0.72\n"
     ]
    },
    {
     "name": "stdout",
     "output_type": "stream",
     "text": [
      "  batch: 404/656  -  dt: 0:00:00.528217 - d_acc: 0.67\n"
     ]
    },
    {
     "name": "stdout",
     "output_type": "stream",
     "text": [
      "  batch: 405/656  -  dt: 0:00:00.529802 - d_acc: 0.70\n"
     ]
    },
    {
     "name": "stdout",
     "output_type": "stream",
     "text": [
      "  batch: 406/656  -  dt: 0:00:00.522933 - d_acc: 0.64\n"
     ]
    },
    {
     "name": "stdout",
     "output_type": "stream",
     "text": [
      "  batch: 407/656  -  dt: 0:00:00.521884 - d_acc: 0.62\n"
     ]
    },
    {
     "name": "stdout",
     "output_type": "stream",
     "text": [
      "  batch: 408/656  -  dt: 0:00:00.517665 - d_acc: 0.65\n"
     ]
    },
    {
     "name": "stdout",
     "output_type": "stream",
     "text": [
      "  batch: 409/656  -  dt: 0:00:00.519786 - d_acc: 0.59\n"
     ]
    },
    {
     "name": "stdout",
     "output_type": "stream",
     "text": [
      "  batch: 410/656  -  dt: 0:00:00.533059 - d_acc: 0.59\n"
     ]
    },
    {
     "name": "stdout",
     "output_type": "stream",
     "text": [
      "  batch: 411/656  -  dt: 0:00:00.526954 - d_acc: 0.76\n"
     ]
    },
    {
     "name": "stdout",
     "output_type": "stream",
     "text": [
      "  batch: 412/656  -  dt: 0:00:00.523036 - d_acc: 0.61\n"
     ]
    },
    {
     "name": "stdout",
     "output_type": "stream",
     "text": [
      "  batch: 413/656  -  dt: 0:00:00.527214 - d_acc: 0.63\n"
     ]
    },
    {
     "name": "stdout",
     "output_type": "stream",
     "text": [
      "  batch: 414/656  -  dt: 0:00:00.530942 - d_acc: 0.67\n"
     ]
    },
    {
     "name": "stdout",
     "output_type": "stream",
     "text": [
      "  batch: 415/656  -  dt: 0:00:00.519135 - d_acc: 0.73\n"
     ]
    },
    {
     "name": "stdout",
     "output_type": "stream",
     "text": [
      "  batch: 416/656  -  dt: 0:00:00.520547 - d_acc: 0.70\n"
     ]
    },
    {
     "name": "stdout",
     "output_type": "stream",
     "text": [
      "  batch: 417/656  -  dt: 0:00:00.521220 - d_acc: 0.67\n"
     ]
    },
    {
     "name": "stdout",
     "output_type": "stream",
     "text": [
      "  batch: 418/656  -  dt: 0:00:00.527252 - d_acc: 0.66\n"
     ]
    },
    {
     "name": "stdout",
     "output_type": "stream",
     "text": [
      "  batch: 419/656  -  dt: 0:00:00.522723 - d_acc: 0.66\n"
     ]
    },
    {
     "name": "stdout",
     "output_type": "stream",
     "text": [
      "  batch: 420/656  -  dt: 0:00:00.520927 - d_acc: 0.72\n"
     ]
    },
    {
     "name": "stdout",
     "output_type": "stream",
     "text": [
      "  batch: 421/656  -  dt: 0:00:00.526326 - d_acc: 0.69\n"
     ]
    },
    {
     "name": "stdout",
     "output_type": "stream",
     "text": [
      "  batch: 422/656  -  dt: 0:00:00.514198 - d_acc: 0.66\n"
     ]
    },
    {
     "name": "stdout",
     "output_type": "stream",
     "text": [
      "  batch: 423/656  -  dt: 0:00:00.519994 - d_acc: 0.73\n"
     ]
    },
    {
     "name": "stdout",
     "output_type": "stream",
     "text": [
      "  batch: 424/656  -  dt: 0:00:00.521958 - d_acc: 0.74\n"
     ]
    },
    {
     "name": "stdout",
     "output_type": "stream",
     "text": [
      "  batch: 425/656  -  dt: 0:00:00.517109 - d_acc: 0.66\n"
     ]
    },
    {
     "name": "stdout",
     "output_type": "stream",
     "text": [
      "  batch: 426/656  -  dt: 0:00:00.520033 - d_acc: 0.69\n"
     ]
    },
    {
     "name": "stdout",
     "output_type": "stream",
     "text": [
      "  batch: 427/656  -  dt: 0:00:00.534637 - d_acc: 0.70\n"
     ]
    },
    {
     "name": "stdout",
     "output_type": "stream",
     "text": [
      "  batch: 428/656  -  dt: 0:00:00.524241 - d_acc: 0.66\n"
     ]
    },
    {
     "name": "stdout",
     "output_type": "stream",
     "text": [
      "  batch: 429/656  -  dt: 0:00:00.520246 - d_acc: 0.67\n"
     ]
    },
    {
     "name": "stdout",
     "output_type": "stream",
     "text": [
      "  batch: 430/656  -  dt: 0:00:00.519678 - d_acc: 0.67\n"
     ]
    },
    {
     "name": "stdout",
     "output_type": "stream",
     "text": [
      "  batch: 431/656  -  dt: 0:00:00.520478 - d_acc: 0.71\n"
     ]
    },
    {
     "name": "stdout",
     "output_type": "stream",
     "text": [
      "  batch: 432/656  -  dt: 0:00:00.540525 - d_acc: 0.75\n"
     ]
    },
    {
     "name": "stdout",
     "output_type": "stream",
     "text": [
      "  batch: 433/656  -  dt: 0:00:00.518133 - d_acc: 0.67\n"
     ]
    },
    {
     "name": "stdout",
     "output_type": "stream",
     "text": [
      "  batch: 434/656  -  dt: 0:00:00.518824 - d_acc: 0.70\n"
     ]
    },
    {
     "name": "stdout",
     "output_type": "stream",
     "text": [
      "  batch: 435/656  -  dt: 0:00:00.531085 - d_acc: 0.64\n"
     ]
    },
    {
     "name": "stdout",
     "output_type": "stream",
     "text": [
      "  batch: 436/656  -  dt: 0:00:00.539957 - d_acc: 0.65\n"
     ]
    },
    {
     "name": "stdout",
     "output_type": "stream",
     "text": [
      "  batch: 437/656  -  dt: 0:00:00.520306 - d_acc: 0.72\n"
     ]
    },
    {
     "name": "stdout",
     "output_type": "stream",
     "text": [
      "  batch: 438/656  -  dt: 0:00:00.519794 - d_acc: 0.70\n"
     ]
    },
    {
     "name": "stdout",
     "output_type": "stream",
     "text": [
      "  batch: 439/656  -  dt: 0:00:00.520233 - d_acc: 0.72\n"
     ]
    },
    {
     "name": "stdout",
     "output_type": "stream",
     "text": [
      "  batch: 440/656  -  dt: 0:00:00.523828 - d_acc: 0.67\n"
     ]
    },
    {
     "name": "stdout",
     "output_type": "stream",
     "text": [
      "  batch: 441/656  -  dt: 0:00:00.529305 - d_acc: 0.70\n"
     ]
    },
    {
     "name": "stdout",
     "output_type": "stream",
     "text": [
      "  batch: 442/656  -  dt: 0:00:00.525380 - d_acc: 0.74\n"
     ]
    },
    {
     "name": "stdout",
     "output_type": "stream",
     "text": [
      "  batch: 443/656  -  dt: 0:00:00.521402 - d_acc: 0.60\n"
     ]
    },
    {
     "name": "stdout",
     "output_type": "stream",
     "text": [
      "  batch: 444/656  -  dt: 0:00:00.539815 - d_acc: 0.64\n"
     ]
    },
    {
     "name": "stdout",
     "output_type": "stream",
     "text": [
      "  batch: 445/656  -  dt: 0:00:00.543413 - d_acc: 0.65\n"
     ]
    },
    {
     "name": "stdout",
     "output_type": "stream",
     "text": [
      "  batch: 446/656  -  dt: 0:00:00.546555 - d_acc: 0.66\n"
     ]
    },
    {
     "name": "stdout",
     "output_type": "stream",
     "text": [
      "  batch: 447/656  -  dt: 0:00:00.540026 - d_acc: 0.73\n"
     ]
    },
    {
     "name": "stdout",
     "output_type": "stream",
     "text": [
      "  batch: 448/656  -  dt: 0:00:00.540004 - d_acc: 0.72\n"
     ]
    },
    {
     "name": "stdout",
     "output_type": "stream",
     "text": [
      "  batch: 449/656  -  dt: 0:00:00.544084 - d_acc: 0.61\n"
     ]
    },
    {
     "name": "stderr",
     "output_type": "stream",
     "text": [
      "WARNING:root:Lossy conversion from float64 to uint8. Range [0, 1]. Convert image to uint8 prior to saving to suppress this warning.\n"
     ]
    },
    {
     "name": "stdout",
     "output_type": "stream",
     "text": [
      "  batch: 450/656  -  dt: 0:00:00.534287 - d_acc: 0.62\nsaving a sample...\n"
     ]
    },
    {
     "name": "stdout",
     "output_type": "stream",
     "text": [
      "  batch: 451/656  -  dt: 0:00:00.525950 - d_acc: 0.72\n"
     ]
    },
    {
     "name": "stdout",
     "output_type": "stream",
     "text": [
      "  batch: 452/656  -  dt: 0:00:00.519911 - d_acc: 0.62\n"
     ]
    },
    {
     "name": "stdout",
     "output_type": "stream",
     "text": [
      "  batch: 453/656  -  dt: 0:00:00.531471 - d_acc: 0.61\n"
     ]
    },
    {
     "name": "stdout",
     "output_type": "stream",
     "text": [
      "  batch: 454/656  -  dt: 0:00:00.517506 - d_acc: 0.60\n"
     ]
    },
    {
     "name": "stdout",
     "output_type": "stream",
     "text": [
      "  batch: 455/656  -  dt: 0:00:00.524019 - d_acc: 0.66\n"
     ]
    },
    {
     "name": "stdout",
     "output_type": "stream",
     "text": [
      "  batch: 456/656  -  dt: 0:00:00.529371 - d_acc: 0.64\n"
     ]
    },
    {
     "name": "stdout",
     "output_type": "stream",
     "text": [
      "  batch: 457/656  -  dt: 0:00:00.526948 - d_acc: 0.65\n"
     ]
    },
    {
     "name": "stdout",
     "output_type": "stream",
     "text": [
      "  batch: 458/656  -  dt: 0:00:00.533054 - d_acc: 0.66\n"
     ]
    },
    {
     "name": "stdout",
     "output_type": "stream",
     "text": [
      "  batch: 459/656  -  dt: 0:00:00.520540 - d_acc: 0.65\n"
     ]
    },
    {
     "name": "stdout",
     "output_type": "stream",
     "text": [
      "  batch: 460/656  -  dt: 0:00:00.526339 - d_acc: 0.65\n"
     ]
    },
    {
     "name": "stdout",
     "output_type": "stream",
     "text": [
      "  batch: 461/656  -  dt: 0:00:00.524544 - d_acc: 0.62\n"
     ]
    },
    {
     "name": "stdout",
     "output_type": "stream",
     "text": [
      "  batch: 462/656  -  dt: 0:00:00.525646 - d_acc: 0.66\n"
     ]
    },
    {
     "name": "stdout",
     "output_type": "stream",
     "text": [
      "  batch: 463/656  -  dt: 0:00:00.529422 - d_acc: 0.62\n"
     ]
    },
    {
     "name": "stdout",
     "output_type": "stream",
     "text": [
      "  batch: 464/656  -  dt: 0:00:00.532637 - d_acc: 0.62\n"
     ]
    },
    {
     "name": "stdout",
     "output_type": "stream",
     "text": [
      "  batch: 465/656  -  dt: 0:00:00.517914 - d_acc: 0.66\n"
     ]
    },
    {
     "name": "stdout",
     "output_type": "stream",
     "text": [
      "  batch: 466/656  -  dt: 0:00:00.523623 - d_acc: 0.66\n"
     ]
    },
    {
     "name": "stdout",
     "output_type": "stream",
     "text": [
      "  batch: 467/656  -  dt: 0:00:00.530201 - d_acc: 0.72\n"
     ]
    },
    {
     "name": "stdout",
     "output_type": "stream",
     "text": [
      "  batch: 468/656  -  dt: 0:00:00.524264 - d_acc: 0.74\n"
     ]
    },
    {
     "name": "stdout",
     "output_type": "stream",
     "text": [
      "  batch: 469/656  -  dt: 0:00:00.531888 - d_acc: 0.67\n"
     ]
    },
    {
     "name": "stdout",
     "output_type": "stream",
     "text": [
      "  batch: 470/656  -  dt: 0:00:00.519765 - d_acc: 0.64\n"
     ]
    },
    {
     "name": "stdout",
     "output_type": "stream",
     "text": [
      "  batch: 471/656  -  dt: 0:00:00.523859 - d_acc: 0.63\n"
     ]
    },
    {
     "name": "stdout",
     "output_type": "stream",
     "text": [
      "  batch: 472/656  -  dt: 0:00:00.520451 - d_acc: 0.67\n"
     ]
    },
    {
     "name": "stdout",
     "output_type": "stream",
     "text": [
      "  batch: 473/656  -  dt: 0:00:00.527941 - d_acc: 0.65\n"
     ]
    },
    {
     "name": "stdout",
     "output_type": "stream",
     "text": [
      "  batch: 474/656  -  dt: 0:00:00.522807 - d_acc: 0.73\n"
     ]
    },
    {
     "name": "stdout",
     "output_type": "stream",
     "text": [
      "  batch: 475/656  -  dt: 0:00:00.518320 - d_acc: 0.68\n"
     ]
    },
    {
     "name": "stdout",
     "output_type": "stream",
     "text": [
      "  batch: 476/656  -  dt: 0:00:00.535572 - d_acc: 0.71\n"
     ]
    },
    {
     "name": "stdout",
     "output_type": "stream",
     "text": [
      "  batch: 477/656  -  dt: 0:00:00.524427 - d_acc: 0.62\n"
     ]
    },
    {
     "name": "stdout",
     "output_type": "stream",
     "text": [
      "  batch: 478/656  -  dt: 0:00:00.519417 - d_acc: 0.69\n"
     ]
    },
    {
     "name": "stdout",
     "output_type": "stream",
     "text": [
      "  batch: 479/656  -  dt: 0:00:00.526285 - d_acc: 0.71\n"
     ]
    },
    {
     "name": "stdout",
     "output_type": "stream",
     "text": [
      "  batch: 480/656  -  dt: 0:00:00.518616 - d_acc: 0.67\n"
     ]
    },
    {
     "name": "stdout",
     "output_type": "stream",
     "text": [
      "  batch: 481/656  -  dt: 0:00:00.530332 - d_acc: 0.67\n"
     ]
    },
    {
     "name": "stdout",
     "output_type": "stream",
     "text": [
      "  batch: 482/656  -  dt: 0:00:00.519652 - d_acc: 0.61\n"
     ]
    },
    {
     "name": "stdout",
     "output_type": "stream",
     "text": [
      "  batch: 483/656  -  dt: 0:00:00.523881 - d_acc: 0.67\n"
     ]
    },
    {
     "name": "stdout",
     "output_type": "stream",
     "text": [
      "  batch: 484/656  -  dt: 0:00:00.526336 - d_acc: 0.70\n"
     ]
    },
    {
     "name": "stdout",
     "output_type": "stream",
     "text": [
      "  batch: 485/656  -  dt: 0:00:00.523600 - d_acc: 0.64\n"
     ]
    },
    {
     "name": "stdout",
     "output_type": "stream",
     "text": [
      "  batch: 486/656  -  dt: 0:00:00.538521 - d_acc: 0.70\n"
     ]
    },
    {
     "name": "stdout",
     "output_type": "stream",
     "text": [
      "  batch: 487/656  -  dt: 0:00:00.527909 - d_acc: 0.64\n"
     ]
    },
    {
     "name": "stdout",
     "output_type": "stream",
     "text": [
      "  batch: 488/656  -  dt: 0:00:00.523926 - d_acc: 0.70\n"
     ]
    },
    {
     "name": "stdout",
     "output_type": "stream",
     "text": [
      "  batch: 489/656  -  dt: 0:00:00.526864 - d_acc: 0.65\n"
     ]
    },
    {
     "name": "stdout",
     "output_type": "stream",
     "text": [
      "  batch: 490/656  -  dt: 0:00:00.520173 - d_acc: 0.62\n"
     ]
    },
    {
     "name": "stdout",
     "output_type": "stream",
     "text": [
      "  batch: 491/656  -  dt: 0:00:00.522531 - d_acc: 0.59\n"
     ]
    },
    {
     "name": "stdout",
     "output_type": "stream",
     "text": [
      "  batch: 492/656  -  dt: 0:00:00.519856 - d_acc: 0.61\n"
     ]
    },
    {
     "name": "stdout",
     "output_type": "stream",
     "text": [
      "  batch: 493/656  -  dt: 0:00:00.526819 - d_acc: 0.75\n"
     ]
    },
    {
     "name": "stdout",
     "output_type": "stream",
     "text": [
      "  batch: 494/656  -  dt: 0:00:00.529561 - d_acc: 0.72\n"
     ]
    },
    {
     "name": "stdout",
     "output_type": "stream",
     "text": [
      "  batch: 495/656  -  dt: 0:00:00.523807 - d_acc: 0.72\n"
     ]
    },
    {
     "name": "stdout",
     "output_type": "stream",
     "text": [
      "  batch: 496/656  -  dt: 0:00:00.539603 - d_acc: 0.59\n"
     ]
    },
    {
     "name": "stdout",
     "output_type": "stream",
     "text": [
      "  batch: 497/656  -  dt: 0:00:00.516656 - d_acc: 0.69\n"
     ]
    },
    {
     "name": "stdout",
     "output_type": "stream",
     "text": [
      "  batch: 498/656  -  dt: 0:00:00.523589 - d_acc: 0.62\n"
     ]
    },
    {
     "name": "stdout",
     "output_type": "stream",
     "text": [
      "  batch: 499/656  -  dt: 0:00:00.520493 - d_acc: 0.69\n"
     ]
    },
    {
     "name": "stderr",
     "output_type": "stream",
     "text": [
      "WARNING:root:Lossy conversion from float64 to uint8. Range [0, 1]. Convert image to uint8 prior to saving to suppress this warning.\n"
     ]
    },
    {
     "name": "stdout",
     "output_type": "stream",
     "text": [
      "  batch: 500/656  -  dt: 0:00:00.529527 - d_acc: 0.67\nsaving a sample...\n"
     ]
    },
    {
     "name": "stdout",
     "output_type": "stream",
     "text": [
      "  batch: 501/656  -  dt: 0:00:00.515085 - d_acc: 0.73\n"
     ]
    },
    {
     "name": "stdout",
     "output_type": "stream",
     "text": [
      "  batch: 502/656  -  dt: 0:00:00.523045 - d_acc: 0.62\n"
     ]
    },
    {
     "name": "stdout",
     "output_type": "stream",
     "text": [
      "  batch: 503/656  -  dt: 0:00:00.528927 - d_acc: 0.66\n"
     ]
    },
    {
     "name": "stdout",
     "output_type": "stream",
     "text": [
      "  batch: 504/656  -  dt: 0:00:00.528904 - d_acc: 0.62\n"
     ]
    },
    {
     "name": "stdout",
     "output_type": "stream",
     "text": [
      "  batch: 505/656  -  dt: 0:00:00.527879 - d_acc: 0.62\n"
     ]
    },
    {
     "name": "stdout",
     "output_type": "stream",
     "text": [
      "  batch: 506/656  -  dt: 0:00:00.525094 - d_acc: 0.70\n"
     ]
    },
    {
     "name": "stdout",
     "output_type": "stream",
     "text": [
      "  batch: 507/656  -  dt: 0:00:00.528765 - d_acc: 0.66\n"
     ]
    },
    {
     "name": "stdout",
     "output_type": "stream",
     "text": [
      "  batch: 508/656  -  dt: 0:00:00.521230 - d_acc: 0.60\n"
     ]
    },
    {
     "name": "stdout",
     "output_type": "stream",
     "text": [
      "  batch: 509/656  -  dt: 0:00:00.515295 - d_acc: 0.67\n"
     ]
    },
    {
     "name": "stdout",
     "output_type": "stream",
     "text": [
      "  batch: 510/656  -  dt: 0:00:00.532433 - d_acc: 0.74\n"
     ]
    },
    {
     "name": "stdout",
     "output_type": "stream",
     "text": [
      "  batch: 511/656  -  dt: 0:00:00.520988 - d_acc: 0.73\n"
     ]
    },
    {
     "name": "stdout",
     "output_type": "stream",
     "text": [
      "  batch: 512/656  -  dt: 0:00:00.531295 - d_acc: 0.55\n"
     ]
    },
    {
     "name": "stdout",
     "output_type": "stream",
     "text": [
      "  batch: 513/656  -  dt: 0:00:00.538147 - d_acc: 0.72\n"
     ]
    },
    {
     "name": "stdout",
     "output_type": "stream",
     "text": [
      "  batch: 514/656  -  dt: 0:00:00.527153 - d_acc: 0.62\n"
     ]
    },
    {
     "name": "stdout",
     "output_type": "stream",
     "text": [
      "  batch: 515/656  -  dt: 0:00:00.542277 - d_acc: 0.71\n"
     ]
    },
    {
     "name": "stdout",
     "output_type": "stream",
     "text": [
      "  batch: 516/656  -  dt: 0:00:00.537667 - d_acc: 0.69\n"
     ]
    },
    {
     "name": "stdout",
     "output_type": "stream",
     "text": [
      "  batch: 517/656  -  dt: 0:00:00.529822 - d_acc: 0.69\n"
     ]
    },
    {
     "name": "stdout",
     "output_type": "stream",
     "text": [
      "  batch: 518/656  -  dt: 0:00:00.529849 - d_acc: 0.65\n"
     ]
    },
    {
     "name": "stdout",
     "output_type": "stream",
     "text": [
      "  batch: 519/656  -  dt: 0:00:00.550382 - d_acc: 0.59\n"
     ]
    },
    {
     "name": "stdout",
     "output_type": "stream",
     "text": [
      "  batch: 520/656  -  dt: 0:00:00.559779 - d_acc: 0.65\n"
     ]
    },
    {
     "name": "stdout",
     "output_type": "stream",
     "text": [
      "  batch: 521/656  -  dt: 0:00:00.557065 - d_acc: 0.67\n"
     ]
    },
    {
     "name": "stdout",
     "output_type": "stream",
     "text": [
      "  batch: 522/656  -  dt: 0:00:00.542100 - d_acc: 0.65\n"
     ]
    },
    {
     "name": "stdout",
     "output_type": "stream",
     "text": [
      "  batch: 523/656  -  dt: 0:00:00.534168 - d_acc: 0.75\n"
     ]
    },
    {
     "name": "stdout",
     "output_type": "stream",
     "text": [
      "  batch: 524/656  -  dt: 0:00:00.544511 - d_acc: 0.62\n"
     ]
    },
    {
     "name": "stdout",
     "output_type": "stream",
     "text": [
      "  batch: 525/656  -  dt: 0:00:00.543525 - d_acc: 0.64\n"
     ]
    },
    {
     "name": "stdout",
     "output_type": "stream",
     "text": [
      "  batch: 526/656  -  dt: 0:00:00.563766 - d_acc: 0.67\n"
     ]
    },
    {
     "name": "stdout",
     "output_type": "stream",
     "text": [
      "  batch: 527/656  -  dt: 0:00:00.545146 - d_acc: 0.62\n"
     ]
    },
    {
     "name": "stdout",
     "output_type": "stream",
     "text": [
      "  batch: 528/656  -  dt: 0:00:00.536745 - d_acc: 0.66\n"
     ]
    },
    {
     "name": "stdout",
     "output_type": "stream",
     "text": [
      "  batch: 529/656  -  dt: 0:00:00.534394 - d_acc: 0.62\n"
     ]
    },
    {
     "name": "stdout",
     "output_type": "stream",
     "text": [
      "  batch: 530/656  -  dt: 0:00:00.652765 - d_acc: 0.67\n"
     ]
    },
    {
     "name": "stdout",
     "output_type": "stream",
     "text": [
      "  batch: 531/656  -  dt: 0:00:00.587427 - d_acc: 0.67\n"
     ]
    },
    {
     "name": "stdout",
     "output_type": "stream",
     "text": [
      "  batch: 532/656  -  dt: 0:00:00.585568 - d_acc: 0.65\n"
     ]
    },
    {
     "name": "stdout",
     "output_type": "stream",
     "text": [
      "  batch: 533/656  -  dt: 0:00:00.531494 - d_acc: 0.68\n"
     ]
    },
    {
     "name": "stdout",
     "output_type": "stream",
     "text": [
      "  batch: 534/656  -  dt: 0:00:00.566753 - d_acc: 0.69\n"
     ]
    },
    {
     "name": "stdout",
     "output_type": "stream",
     "text": [
      "  batch: 535/656  -  dt: 0:00:00.554030 - d_acc: 0.66\n"
     ]
    },
    {
     "name": "stdout",
     "output_type": "stream",
     "text": [
      "  batch: 536/656  -  dt: 0:00:00.602633 - d_acc: 0.59\n"
     ]
    },
    {
     "name": "stdout",
     "output_type": "stream",
     "text": [
      "  batch: 537/656  -  dt: 0:00:00.540697 - d_acc: 0.66\n"
     ]
    },
    {
     "name": "stdout",
     "output_type": "stream",
     "text": [
      "  batch: 538/656  -  dt: 0:00:00.538312 - d_acc: 0.67\n"
     ]
    },
    {
     "name": "stdout",
     "output_type": "stream",
     "text": [
      "  batch: 539/656  -  dt: 0:00:00.530152 - d_acc: 0.62\n"
     ]
    },
    {
     "name": "stdout",
     "output_type": "stream",
     "text": [
      "  batch: 540/656  -  dt: 0:00:00.542789 - d_acc: 0.70\n"
     ]
    },
    {
     "name": "stdout",
     "output_type": "stream",
     "text": [
      "  batch: 541/656  -  dt: 0:00:00.590198 - d_acc: 0.64\n"
     ]
    },
    {
     "name": "stdout",
     "output_type": "stream",
     "text": [
      "  batch: 542/656  -  dt: 0:00:00.529527 - d_acc: 0.62\n"
     ]
    },
    {
     "name": "stdout",
     "output_type": "stream",
     "text": [
      "  batch: 543/656  -  dt: 0:00:00.545332 - d_acc: 0.66\n"
     ]
    },
    {
     "name": "stdout",
     "output_type": "stream",
     "text": [
      "  batch: 544/656  -  dt: 0:00:00.555324 - d_acc: 0.72\n"
     ]
    },
    {
     "name": "stdout",
     "output_type": "stream",
     "text": [
      "  batch: 545/656  -  dt: 0:00:00.553830 - d_acc: 0.70\n"
     ]
    },
    {
     "name": "stdout",
     "output_type": "stream",
     "text": [
      "  batch: 546/656  -  dt: 0:00:00.539714 - d_acc: 0.59\n"
     ]
    },
    {
     "name": "stdout",
     "output_type": "stream",
     "text": [
      "  batch: 547/656  -  dt: 0:00:00.543127 - d_acc: 0.67\n"
     ]
    },
    {
     "name": "stdout",
     "output_type": "stream",
     "text": [
      "  batch: 548/656  -  dt: 0:00:00.561656 - d_acc: 0.66\n"
     ]
    },
    {
     "name": "stdout",
     "output_type": "stream",
     "text": [
      "  batch: 549/656  -  dt: 0:00:00.543033 - d_acc: 0.58\n"
     ]
    },
    {
     "name": "stderr",
     "output_type": "stream",
     "text": [
      "WARNING:root:Lossy conversion from float64 to uint8. Range [0, 1]. Convert image to uint8 prior to saving to suppress this warning.\n"
     ]
    },
    {
     "name": "stdout",
     "output_type": "stream",
     "text": [
      "  batch: 550/656  -  dt: 0:00:00.561004 - d_acc: 0.66\nsaving a sample...\n"
     ]
    },
    {
     "name": "stdout",
     "output_type": "stream",
     "text": [
      "  batch: 551/656  -  dt: 0:00:00.525594 - d_acc: 0.67\n"
     ]
    },
    {
     "name": "stdout",
     "output_type": "stream",
     "text": [
      "  batch: 552/656  -  dt: 0:00:00.570403 - d_acc: 0.64\n"
     ]
    },
    {
     "name": "stdout",
     "output_type": "stream",
     "text": [
      "  batch: 553/656  -  dt: 0:00:00.588972 - d_acc: 0.64\n"
     ]
    },
    {
     "name": "stdout",
     "output_type": "stream",
     "text": [
      "  batch: 554/656  -  dt: 0:00:00.594410 - d_acc: 0.65\n"
     ]
    },
    {
     "name": "stdout",
     "output_type": "stream",
     "text": [
      "  batch: 555/656  -  dt: 0:00:00.573466 - d_acc: 0.64\n"
     ]
    },
    {
     "name": "stdout",
     "output_type": "stream",
     "text": [
      "  batch: 556/656  -  dt: 0:00:00.605380 - d_acc: 0.67\n"
     ]
    },
    {
     "name": "stdout",
     "output_type": "stream",
     "text": [
      "  batch: 557/656  -  dt: 0:00:00.634303 - d_acc: 0.62\n"
     ]
    },
    {
     "name": "stdout",
     "output_type": "stream",
     "text": [
      "  batch: 558/656  -  dt: 0:00:00.628318 - d_acc: 0.66\n"
     ]
    },
    {
     "name": "stdout",
     "output_type": "stream",
     "text": [
      "  batch: 559/656  -  dt: 0:00:00.543655 - d_acc: 0.70\n"
     ]
    },
    {
     "name": "stdout",
     "output_type": "stream",
     "text": [
      "  batch: 560/656  -  dt: 0:00:00.524374 - d_acc: 0.65\n"
     ]
    },
    {
     "name": "stdout",
     "output_type": "stream",
     "text": [
      "  batch: 561/656  -  dt: 0:00:00.528687 - d_acc: 0.68\n"
     ]
    },
    {
     "name": "stdout",
     "output_type": "stream",
     "text": [
      "  batch: 562/656  -  dt: 0:00:00.538554 - d_acc: 0.67\n"
     ]
    },
    {
     "name": "stdout",
     "output_type": "stream",
     "text": [
      "  batch: 563/656  -  dt: 0:00:00.530602 - d_acc: 0.56\n"
     ]
    },
    {
     "name": "stdout",
     "output_type": "stream",
     "text": [
      "  batch: 564/656  -  dt: 0:00:00.530268 - d_acc: 0.55\n"
     ]
    },
    {
     "name": "stdout",
     "output_type": "stream",
     "text": [
      "  batch: 565/656  -  dt: 0:00:00.532172 - d_acc: 0.60\n"
     ]
    },
    {
     "name": "stdout",
     "output_type": "stream",
     "text": [
      "  batch: 566/656  -  dt: 0:00:00.530338 - d_acc: 0.61\n"
     ]
    },
    {
     "name": "stdout",
     "output_type": "stream",
     "text": [
      "  batch: 567/656  -  dt: 0:00:00.538030 - d_acc: 0.64\n"
     ]
    },
    {
     "name": "stdout",
     "output_type": "stream",
     "text": [
      "  batch: 568/656  -  dt: 0:00:00.535479 - d_acc: 0.68\n"
     ]
    },
    {
     "name": "stdout",
     "output_type": "stream",
     "text": [
      "  batch: 569/656  -  dt: 0:00:00.529640 - d_acc: 0.62\n"
     ]
    },
    {
     "name": "stdout",
     "output_type": "stream",
     "text": [
      "  batch: 570/656  -  dt: 0:00:00.522337 - d_acc: 0.68\n"
     ]
    },
    {
     "name": "stdout",
     "output_type": "stream",
     "text": [
      "  batch: 571/656  -  dt: 0:00:00.528256 - d_acc: 0.69\n"
     ]
    },
    {
     "name": "stdout",
     "output_type": "stream",
     "text": [
      "  batch: 572/656  -  dt: 0:00:00.530424 - d_acc: 0.61\n"
     ]
    },
    {
     "name": "stdout",
     "output_type": "stream",
     "text": [
      "  batch: 573/656  -  dt: 0:00:00.527208 - d_acc: 0.65\n"
     ]
    },
    {
     "name": "stdout",
     "output_type": "stream",
     "text": [
      "  batch: 574/656  -  dt: 0:00:00.552320 - d_acc: 0.62\n"
     ]
    },
    {
     "name": "stdout",
     "output_type": "stream",
     "text": [
      "  batch: 575/656  -  dt: 0:00:00.540064 - d_acc: 0.62\n"
     ]
    },
    {
     "name": "stdout",
     "output_type": "stream",
     "text": [
      "  batch: 576/656  -  dt: 0:00:00.616588 - d_acc: 0.66\n"
     ]
    },
    {
     "name": "stdout",
     "output_type": "stream",
     "text": [
      "  batch: 577/656  -  dt: 0:00:00.598557 - d_acc: 0.66\n"
     ]
    },
    {
     "name": "stdout",
     "output_type": "stream",
     "text": [
      "  batch: 578/656  -  dt: 0:00:00.569602 - d_acc: 0.71\n"
     ]
    },
    {
     "name": "stdout",
     "output_type": "stream",
     "text": [
      "  batch: 579/656  -  dt: 0:00:00.557510 - d_acc: 0.70\n"
     ]
    },
    {
     "name": "stdout",
     "output_type": "stream",
     "text": [
      "  batch: 580/656  -  dt: 0:00:00.536351 - d_acc: 0.62\n"
     ]
    },
    {
     "name": "stdout",
     "output_type": "stream",
     "text": [
      "  batch: 581/656  -  dt: 0:00:00.551526 - d_acc: 0.62\n"
     ]
    },
    {
     "name": "stdout",
     "output_type": "stream",
     "text": [
      "  batch: 582/656  -  dt: 0:00:00.542190 - d_acc: 0.66\n"
     ]
    },
    {
     "name": "stdout",
     "output_type": "stream",
     "text": [
      "  batch: 583/656  -  dt: 0:00:00.600282 - d_acc: 0.74\n"
     ]
    },
    {
     "name": "stdout",
     "output_type": "stream",
     "text": [
      "  batch: 584/656  -  dt: 0:00:00.626971 - d_acc: 0.60\n"
     ]
    },
    {
     "name": "stdout",
     "output_type": "stream",
     "text": [
      "  batch: 585/656  -  dt: 0:00:00.557684 - d_acc: 0.63\n"
     ]
    },
    {
     "name": "stdout",
     "output_type": "stream",
     "text": [
      "  batch: 586/656  -  dt: 0:00:00.534321 - d_acc: 0.66\n"
     ]
    },
    {
     "name": "stdout",
     "output_type": "stream",
     "text": [
      "  batch: 587/656  -  dt: 0:00:00.573609 - d_acc: 0.69\n"
     ]
    },
    {
     "name": "stdout",
     "output_type": "stream",
     "text": [
      "  batch: 588/656  -  dt: 0:00:00.561045 - d_acc: 0.67\n"
     ]
    },
    {
     "name": "stdout",
     "output_type": "stream",
     "text": [
      "  batch: 589/656  -  dt: 0:00:00.545275 - d_acc: 0.74\n"
     ]
    },
    {
     "name": "stdout",
     "output_type": "stream",
     "text": [
      "  batch: 590/656  -  dt: 0:00:00.560431 - d_acc: 0.63\n"
     ]
    },
    {
     "name": "stdout",
     "output_type": "stream",
     "text": [
      "  batch: 591/656  -  dt: 0:00:00.549914 - d_acc: 0.69\n"
     ]
    },
    {
     "name": "stdout",
     "output_type": "stream",
     "text": [
      "  batch: 592/656  -  dt: 0:00:00.548052 - d_acc: 0.71\n"
     ]
    },
    {
     "name": "stdout",
     "output_type": "stream",
     "text": [
      "  batch: 593/656  -  dt: 0:00:00.535787 - d_acc: 0.66\n"
     ]
    },
    {
     "name": "stdout",
     "output_type": "stream",
     "text": [
      "  batch: 594/656  -  dt: 0:00:00.532188 - d_acc: 0.69\n"
     ]
    },
    {
     "name": "stdout",
     "output_type": "stream",
     "text": [
      "  batch: 595/656  -  dt: 0:00:00.556134 - d_acc: 0.66\n"
     ]
    },
    {
     "name": "stdout",
     "output_type": "stream",
     "text": [
      "  batch: 596/656  -  dt: 0:00:00.548322 - d_acc: 0.66\n"
     ]
    },
    {
     "name": "stdout",
     "output_type": "stream",
     "text": [
      "  batch: 597/656  -  dt: 0:00:00.579667 - d_acc: 0.70\n"
     ]
    },
    {
     "name": "stdout",
     "output_type": "stream",
     "text": [
      "  batch: 598/656  -  dt: 0:00:00.609370 - d_acc: 0.68\n"
     ]
    },
    {
     "name": "stdout",
     "output_type": "stream",
     "text": [
      "  batch: 599/656  -  dt: 0:00:00.543076 - d_acc: 0.71\n"
     ]
    },
    {
     "name": "stderr",
     "output_type": "stream",
     "text": [
      "WARNING:root:Lossy conversion from float64 to uint8. Range [0, 1]. Convert image to uint8 prior to saving to suppress this warning.\n"
     ]
    },
    {
     "name": "stdout",
     "output_type": "stream",
     "text": [
      "  batch: 600/656  -  dt: 0:00:00.539175 - d_acc: 0.66\nsaving a sample...\n"
     ]
    },
    {
     "name": "stdout",
     "output_type": "stream",
     "text": [
      "  batch: 601/656  -  dt: 0:00:00.548394 - d_acc: 0.68\n"
     ]
    },
    {
     "name": "stdout",
     "output_type": "stream",
     "text": [
      "  batch: 602/656  -  dt: 0:00:00.591418 - d_acc: 0.65\n"
     ]
    },
    {
     "name": "stdout",
     "output_type": "stream",
     "text": [
      "  batch: 603/656  -  dt: 0:00:00.539017 - d_acc: 0.65\n"
     ]
    },
    {
     "name": "stdout",
     "output_type": "stream",
     "text": [
      "  batch: 604/656  -  dt: 0:00:00.528797 - d_acc: 0.59\n"
     ]
    },
    {
     "name": "stdout",
     "output_type": "stream",
     "text": [
      "  batch: 605/656  -  dt: 0:00:00.523986 - d_acc: 0.62\n"
     ]
    },
    {
     "name": "stdout",
     "output_type": "stream",
     "text": [
      "  batch: 606/656  -  dt: 0:00:00.576142 - d_acc: 0.67\n"
     ]
    },
    {
     "name": "stdout",
     "output_type": "stream",
     "text": [
      "  batch: 607/656  -  dt: 0:00:00.553500 - d_acc: 0.73\n"
     ]
    },
    {
     "name": "stdout",
     "output_type": "stream",
     "text": [
      "  batch: 608/656  -  dt: 0:00:00.551735 - d_acc: 0.69\n"
     ]
    },
    {
     "name": "stdout",
     "output_type": "stream",
     "text": [
      "  batch: 609/656  -  dt: 0:00:00.558016 - d_acc: 0.62\n"
     ]
    },
    {
     "name": "stdout",
     "output_type": "stream",
     "text": [
      "  batch: 610/656  -  dt: 0:00:00.611364 - d_acc: 0.64\n"
     ]
    },
    {
     "name": "stdout",
     "output_type": "stream",
     "text": [
      "  batch: 611/656  -  dt: 0:00:00.574977 - d_acc: 0.60\n"
     ]
    },
    {
     "name": "stdout",
     "output_type": "stream",
     "text": [
      "  batch: 612/656  -  dt: 0:00:00.584136 - d_acc: 0.68\n"
     ]
    },
    {
     "name": "stdout",
     "output_type": "stream",
     "text": [
      "  batch: 613/656  -  dt: 0:00:00.610367 - d_acc: 0.62\n"
     ]
    },
    {
     "name": "stdout",
     "output_type": "stream",
     "text": [
      "  batch: 614/656  -  dt: 0:00:00.545174 - d_acc: 0.63\n"
     ]
    },
    {
     "name": "stdout",
     "output_type": "stream",
     "text": [
      "  batch: 615/656  -  dt: 0:00:00.543545 - d_acc: 0.66\n"
     ]
    },
    {
     "name": "stdout",
     "output_type": "stream",
     "text": [
      "  batch: 616/656  -  dt: 0:00:00.546544 - d_acc: 0.70\n"
     ]
    },
    {
     "name": "stdout",
     "output_type": "stream",
     "text": [
      "  batch: 617/656  -  dt: 0:00:00.585847 - d_acc: 0.70\n"
     ]
    },
    {
     "name": "stdout",
     "output_type": "stream",
     "text": [
      "  batch: 618/656  -  dt: 0:00:00.622359 - d_acc: 0.64\n"
     ]
    },
    {
     "name": "stdout",
     "output_type": "stream",
     "text": [
      "  batch: 619/656  -  dt: 0:00:00.667215 - d_acc: 0.68\n"
     ]
    },
    {
     "name": "stdout",
     "output_type": "stream",
     "text": [
      "  batch: 620/656  -  dt: 0:00:00.713093 - d_acc: 0.65\n"
     ]
    },
    {
     "name": "stdout",
     "output_type": "stream",
     "text": [
      "  batch: 621/656  -  dt: 0:00:00.587428 - d_acc: 0.64\n"
     ]
    },
    {
     "name": "stdout",
     "output_type": "stream",
     "text": [
      "  batch: 622/656  -  dt: 0:00:00.572222 - d_acc: 0.55\n"
     ]
    },
    {
     "name": "stdout",
     "output_type": "stream",
     "text": [
      "  batch: 623/656  -  dt: 0:00:00.551525 - d_acc: 0.59\n"
     ]
    },
    {
     "name": "stdout",
     "output_type": "stream",
     "text": [
      "  batch: 624/656  -  dt: 0:00:00.581955 - d_acc: 0.60\n"
     ]
    },
    {
     "name": "stdout",
     "output_type": "stream",
     "text": [
      "  batch: 625/656  -  dt: 0:00:00.543975 - d_acc: 0.59\n"
     ]
    },
    {
     "name": "stdout",
     "output_type": "stream",
     "text": [
      "  batch: 626/656  -  dt: 0:00:00.536204 - d_acc: 0.62\n"
     ]
    },
    {
     "name": "stdout",
     "output_type": "stream",
     "text": [
      "  batch: 627/656  -  dt: 0:00:00.538616 - d_acc: 0.62\n"
     ]
    },
    {
     "name": "stdout",
     "output_type": "stream",
     "text": [
      "  batch: 628/656  -  dt: 0:00:00.525213 - d_acc: 0.71\n"
     ]
    },
    {
     "name": "stdout",
     "output_type": "stream",
     "text": [
      "  batch: 629/656  -  dt: 0:00:00.526029 - d_acc: 0.63\n"
     ]
    },
    {
     "name": "stdout",
     "output_type": "stream",
     "text": [
      "  batch: 630/656  -  dt: 0:00:00.538171 - d_acc: 0.63\n"
     ]
    },
    {
     "name": "stdout",
     "output_type": "stream",
     "text": [
      "  batch: 631/656  -  dt: 0:00:00.535722 - d_acc: 0.62\n"
     ]
    },
    {
     "name": "stdout",
     "output_type": "stream",
     "text": [
      "  batch: 632/656  -  dt: 0:00:00.683682 - d_acc: 0.68\n"
     ]
    },
    {
     "name": "stdout",
     "output_type": "stream",
     "text": [
      "  batch: 633/656  -  dt: 0:00:00.623964 - d_acc: 0.62\n"
     ]
    },
    {
     "name": "stdout",
     "output_type": "stream",
     "text": [
      "  batch: 634/656  -  dt: 0:00:00.608880 - d_acc: 0.63\n"
     ]
    },
    {
     "name": "stdout",
     "output_type": "stream",
     "text": [
      "  batch: 635/656  -  dt: 0:00:00.610887 - d_acc: 0.70\n"
     ]
    },
    {
     "name": "stdout",
     "output_type": "stream",
     "text": [
      "  batch: 636/656  -  dt: 0:00:00.570980 - d_acc: 0.70\n"
     ]
    },
    {
     "name": "stdout",
     "output_type": "stream",
     "text": [
      "  batch: 637/656  -  dt: 0:00:00.546531 - d_acc: 0.62\n"
     ]
    },
    {
     "name": "stdout",
     "output_type": "stream",
     "text": [
      "  batch: 638/656  -  dt: 0:00:00.535137 - d_acc: 0.61\n"
     ]
    },
    {
     "name": "stdout",
     "output_type": "stream",
     "text": [
      "  batch: 639/656  -  dt: 0:00:00.530144 - d_acc: 0.65\n"
     ]
    },
    {
     "name": "stdout",
     "output_type": "stream",
     "text": [
      "  batch: 640/656  -  dt: 0:00:00.523446 - d_acc: 0.66\n"
     ]
    },
    {
     "name": "stdout",
     "output_type": "stream",
     "text": [
      "  batch: 641/656  -  dt: 0:00:00.533748 - d_acc: 0.59\n"
     ]
    },
    {
     "name": "stdout",
     "output_type": "stream",
     "text": [
      "  batch: 642/656  -  dt: 0:00:00.561943 - d_acc: 0.67\n"
     ]
    },
    {
     "name": "stdout",
     "output_type": "stream",
     "text": [
      "  batch: 643/656  -  dt: 0:00:00.537401 - d_acc: 0.67\n"
     ]
    },
    {
     "name": "stdout",
     "output_type": "stream",
     "text": [
      "  batch: 644/656  -  dt: 0:00:00.547585 - d_acc: 0.67\n"
     ]
    },
    {
     "name": "stdout",
     "output_type": "stream",
     "text": [
      "  batch: 645/656  -  dt: 0:00:00.537526 - d_acc: 0.66\n"
     ]
    },
    {
     "name": "stdout",
     "output_type": "stream",
     "text": [
      "  batch: 646/656  -  dt: 0:00:00.533279 - d_acc: 0.72\n"
     ]
    },
    {
     "name": "stdout",
     "output_type": "stream",
     "text": [
      "  batch: 647/656  -  dt: 0:00:00.542870 - d_acc: 0.67\n"
     ]
    },
    {
     "name": "stdout",
     "output_type": "stream",
     "text": [
      "  batch: 648/656  -  dt: 0:00:00.530148 - d_acc: 0.65\n"
     ]
    },
    {
     "name": "stdout",
     "output_type": "stream",
     "text": [
      "  batch: 649/656  -  dt: 0:00:00.537925 - d_acc: 0.62\n"
     ]
    },
    {
     "name": "stderr",
     "output_type": "stream",
     "text": [
      "WARNING:root:Lossy conversion from float64 to uint8. Range [0, 1]. Convert image to uint8 prior to saving to suppress this warning.\n"
     ]
    },
    {
     "name": "stdout",
     "output_type": "stream",
     "text": [
      "  batch: 650/656  -  dt: 0:00:00.546324 - d_acc: 0.54\nsaving a sample...\n"
     ]
    },
    {
     "name": "stdout",
     "output_type": "stream",
     "text": [
      "  batch: 651/656  -  dt: 0:00:00.570523 - d_acc: 0.62\n"
     ]
    },
    {
     "name": "stdout",
     "output_type": "stream",
     "text": [
      "  batch: 652/656  -  dt: 0:00:00.660465 - d_acc: 0.62\n"
     ]
    },
    {
     "name": "stdout",
     "output_type": "stream",
     "text": [
      "  batch: 653/656  -  dt: 0:00:00.617789 - d_acc: 0.74\n"
     ]
    },
    {
     "name": "stdout",
     "output_type": "stream",
     "text": [
      "  batch: 654/656  -  dt: 0:00:00.595135 - d_acc: 0.59\n"
     ]
    },
    {
     "name": "stdout",
     "output_type": "stream",
     "text": [
      "  batch: 655/656  -  dt: 0:00:00.692909 - d_acc: 0.63\n"
     ]
    },
    {
     "name": "stdout",
     "output_type": "stream",
     "text": [
      "  batch: 656/656  -  dt: 0:00:00.585194 - d_acc: 0.66\nepoch: 1\n"
     ]
    },
    {
     "name": "stdout",
     "output_type": "stream",
     "text": [
      "  batch: 1/656  -  dt: 0:00:00.549918 - d_acc: 0.68\n"
     ]
    },
    {
     "name": "stdout",
     "output_type": "stream",
     "text": [
      "  batch: 2/656  -  dt: 0:00:00.563487 - d_acc: 0.54\n"
     ]
    },
    {
     "name": "stdout",
     "output_type": "stream",
     "text": [
      "  batch: 3/656  -  dt: 0:00:00.572966 - d_acc: 0.62\n"
     ]
    },
    {
     "name": "stdout",
     "output_type": "stream",
     "text": [
      "  batch: 4/656  -  dt: 0:00:00.542201 - d_acc: 0.62\n"
     ]
    },
    {
     "name": "stdout",
     "output_type": "stream",
     "text": [
      "  batch: 5/656  -  dt: 0:00:00.533735 - d_acc: 0.75\n"
     ]
    },
    {
     "name": "stdout",
     "output_type": "stream",
     "text": [
      "  batch: 6/656  -  dt: 0:00:00.526680 - d_acc: 0.67\n"
     ]
    },
    {
     "name": "stdout",
     "output_type": "stream",
     "text": [
      "  batch: 7/656  -  dt: 0:00:00.523262 - d_acc: 0.66\n"
     ]
    },
    {
     "name": "stdout",
     "output_type": "stream",
     "text": [
      "  batch: 8/656  -  dt: 0:00:00.520931 - d_acc: 0.59\n"
     ]
    },
    {
     "name": "stdout",
     "output_type": "stream",
     "text": [
      "  batch: 9/656  -  dt: 0:00:00.525484 - d_acc: 0.66\n"
     ]
    },
    {
     "name": "stdout",
     "output_type": "stream",
     "text": [
      "  batch: 10/656  -  dt: 0:00:00.530097 - d_acc: 0.64\n"
     ]
    },
    {
     "name": "stdout",
     "output_type": "stream",
     "text": [
      "  batch: 11/656  -  dt: 0:00:00.524006 - d_acc: 0.61\n"
     ]
    },
    {
     "name": "stdout",
     "output_type": "stream",
     "text": [
      "  batch: 12/656  -  dt: 0:00:00.536111 - d_acc: 0.67\n"
     ]
    },
    {
     "name": "stdout",
     "output_type": "stream",
     "text": [
      "  batch: 13/656  -  dt: 0:00:00.539133 - d_acc: 0.68\n"
     ]
    },
    {
     "name": "stdout",
     "output_type": "stream",
     "text": [
      "  batch: 14/656  -  dt: 0:00:00.529934 - d_acc: 0.61\n"
     ]
    },
    {
     "name": "stdout",
     "output_type": "stream",
     "text": [
      "  batch: 15/656  -  dt: 0:00:00.529434 - d_acc: 0.70\n"
     ]
    },
    {
     "name": "stdout",
     "output_type": "stream",
     "text": [
      "  batch: 16/656  -  dt: 0:00:00.534441 - d_acc: 0.68\n"
     ]
    },
    {
     "name": "stdout",
     "output_type": "stream",
     "text": [
      "  batch: 17/656  -  dt: 0:00:00.539484 - d_acc: 0.67\n"
     ]
    },
    {
     "name": "stdout",
     "output_type": "stream",
     "text": [
      "  batch: 18/656  -  dt: 0:00:00.526427 - d_acc: 0.66\n"
     ]
    },
    {
     "name": "stdout",
     "output_type": "stream",
     "text": [
      "  batch: 19/656  -  dt: 0:00:00.533313 - d_acc: 0.62\n"
     ]
    },
    {
     "name": "stdout",
     "output_type": "stream",
     "text": [
      "  batch: 20/656  -  dt: 0:00:00.526482 - d_acc: 0.67\n"
     ]
    },
    {
     "name": "stdout",
     "output_type": "stream",
     "text": [
      "  batch: 21/656  -  dt: 0:00:00.524295 - d_acc: 0.68\n"
     ]
    },
    {
     "name": "stdout",
     "output_type": "stream",
     "text": [
      "  batch: 22/656  -  dt: 0:00:00.525734 - d_acc: 0.62\n"
     ]
    },
    {
     "name": "stdout",
     "output_type": "stream",
     "text": [
      "  batch: 23/656  -  dt: 0:00:00.525787 - d_acc: 0.59\n"
     ]
    },
    {
     "name": "stdout",
     "output_type": "stream",
     "text": [
      "  batch: 24/656  -  dt: 0:00:00.527798 - d_acc: 0.69\n"
     ]
    },
    {
     "name": "stdout",
     "output_type": "stream",
     "text": [
      "  batch: 25/656  -  dt: 0:00:00.525761 - d_acc: 0.66\n"
     ]
    },
    {
     "name": "stdout",
     "output_type": "stream",
     "text": [
      "  batch: 26/656  -  dt: 0:00:00.539774 - d_acc: 0.62\n"
     ]
    },
    {
     "name": "stdout",
     "output_type": "stream",
     "text": [
      "  batch: 27/656  -  dt: 0:00:00.519913 - d_acc: 0.67\n"
     ]
    },
    {
     "name": "stdout",
     "output_type": "stream",
     "text": [
      "  batch: 28/656  -  dt: 0:00:00.535946 - d_acc: 0.59\n"
     ]
    },
    {
     "name": "stdout",
     "output_type": "stream",
     "text": [
      "  batch: 29/656  -  dt: 0:00:00.529196 - d_acc: 0.59\n"
     ]
    },
    {
     "name": "stdout",
     "output_type": "stream",
     "text": [
      "  batch: 30/656  -  dt: 0:00:00.534893 - d_acc: 0.60\n"
     ]
    },
    {
     "name": "stdout",
     "output_type": "stream",
     "text": [
      "  batch: 31/656  -  dt: 0:00:00.532952 - d_acc: 0.60\n"
     ]
    },
    {
     "name": "stdout",
     "output_type": "stream",
     "text": [
      "  batch: 32/656  -  dt: 0:00:00.527150 - d_acc: 0.61\n"
     ]
    },
    {
     "name": "stdout",
     "output_type": "stream",
     "text": [
      "  batch: 33/656  -  dt: 0:00:00.529773 - d_acc: 0.66\n"
     ]
    },
    {
     "name": "stdout",
     "output_type": "stream",
     "text": [
      "  batch: 34/656  -  dt: 0:00:00.531623 - d_acc: 0.67\n"
     ]
    },
    {
     "name": "stdout",
     "output_type": "stream",
     "text": [
      "  batch: 35/656  -  dt: 0:00:00.525543 - d_acc: 0.66\n"
     ]
    },
    {
     "name": "stdout",
     "output_type": "stream",
     "text": [
      "  batch: 36/656  -  dt: 0:00:00.533749 - d_acc: 0.69\n"
     ]
    },
    {
     "name": "stdout",
     "output_type": "stream",
     "text": [
      "  batch: 37/656  -  dt: 0:00:00.526518 - d_acc: 0.61\n"
     ]
    },
    {
     "name": "stdout",
     "output_type": "stream",
     "text": [
      "  batch: 38/656  -  dt: 0:00:00.539498 - d_acc: 0.73\n"
     ]
    },
    {
     "name": "stdout",
     "output_type": "stream",
     "text": [
      "  batch: 39/656  -  dt: 0:00:00.523408 - d_acc: 0.60\n"
     ]
    },
    {
     "name": "stdout",
     "output_type": "stream",
     "text": [
      "  batch: 40/656  -  dt: 0:00:00.536978 - d_acc: 0.71\n"
     ]
    },
    {
     "name": "stdout",
     "output_type": "stream",
     "text": [
      "  batch: 41/656  -  dt: 0:00:00.523211 - d_acc: 0.65\n"
     ]
    },
    {
     "name": "stdout",
     "output_type": "stream",
     "text": [
      "  batch: 42/656  -  dt: 0:00:00.526898 - d_acc: 0.70\n"
     ]
    },
    {
     "name": "stdout",
     "output_type": "stream",
     "text": [
      "  batch: 43/656  -  dt: 0:00:00.522498 - d_acc: 0.70\n"
     ]
    },
    {
     "name": "stderr",
     "output_type": "stream",
     "text": [
      "WARNING:root:Lossy conversion from float64 to uint8. Range [0, 1]. Convert image to uint8 prior to saving to suppress this warning.\n"
     ]
    },
    {
     "name": "stdout",
     "output_type": "stream",
     "text": [
      "  batch: 44/656  -  dt: 0:00:00.529896 - d_acc: 0.65\nsaving a sample...\n"
     ]
    },
    {
     "name": "stdout",
     "output_type": "stream",
     "text": [
      "  batch: 45/656  -  dt: 0:00:00.531063 - d_acc: 0.66\n"
     ]
    },
    {
     "name": "stdout",
     "output_type": "stream",
     "text": [
      "  batch: 46/656  -  dt: 0:00:00.531781 - d_acc: 0.65\n"
     ]
    },
    {
     "name": "stdout",
     "output_type": "stream",
     "text": [
      "  batch: 47/656  -  dt: 0:00:00.535057 - d_acc: 0.66\n"
     ]
    },
    {
     "name": "stdout",
     "output_type": "stream",
     "text": [
      "  batch: 48/656  -  dt: 0:00:00.529977 - d_acc: 0.54\n"
     ]
    },
    {
     "name": "stdout",
     "output_type": "stream",
     "text": [
      "  batch: 49/656  -  dt: 0:00:00.520063 - d_acc: 0.59\n"
     ]
    },
    {
     "name": "stdout",
     "output_type": "stream",
     "text": [
      "  batch: 50/656  -  dt: 0:00:00.532966 - d_acc: 0.63\n"
     ]
    },
    {
     "name": "stdout",
     "output_type": "stream",
     "text": [
      "  batch: 51/656  -  dt: 0:00:00.529482 - d_acc: 0.65\n"
     ]
    },
    {
     "name": "stdout",
     "output_type": "stream",
     "text": [
      "  batch: 52/656  -  dt: 0:00:00.531489 - d_acc: 0.66\n"
     ]
    },
    {
     "name": "stdout",
     "output_type": "stream",
     "text": [
      "  batch: 53/656  -  dt: 0:00:00.529416 - d_acc: 0.63\n"
     ]
    },
    {
     "name": "stdout",
     "output_type": "stream",
     "text": [
      "  batch: 54/656  -  dt: 0:00:00.516822 - d_acc: 0.56\n"
     ]
    },
    {
     "name": "stdout",
     "output_type": "stream",
     "text": [
      "  batch: 55/656  -  dt: 0:00:00.529931 - d_acc: 0.64\n"
     ]
    },
    {
     "name": "stdout",
     "output_type": "stream",
     "text": [
      "  batch: 56/656  -  dt: 0:00:00.529025 - d_acc: 0.67\n"
     ]
    },
    {
     "name": "stdout",
     "output_type": "stream",
     "text": [
      "  batch: 57/656  -  dt: 0:00:00.530507 - d_acc: 0.62\n"
     ]
    },
    {
     "name": "stdout",
     "output_type": "stream",
     "text": [
      "  batch: 58/656  -  dt: 0:00:00.528345 - d_acc: 0.66\n"
     ]
    },
    {
     "name": "stdout",
     "output_type": "stream",
     "text": [
      "  batch: 59/656  -  dt: 0:00:00.523820 - d_acc: 0.64\n"
     ]
    },
    {
     "name": "stdout",
     "output_type": "stream",
     "text": [
      "  batch: 60/656  -  dt: 0:00:00.534370 - d_acc: 0.62\n"
     ]
    },
    {
     "name": "stdout",
     "output_type": "stream",
     "text": [
      "  batch: 61/656  -  dt: 0:00:00.520754 - d_acc: 0.60\n"
     ]
    },
    {
     "name": "stdout",
     "output_type": "stream",
     "text": [
      "  batch: 62/656  -  dt: 0:00:00.529855 - d_acc: 0.64\n"
     ]
    },
    {
     "name": "stdout",
     "output_type": "stream",
     "text": [
      "  batch: 63/656  -  dt: 0:00:00.518700 - d_acc: 0.66\n"
     ]
    },
    {
     "name": "stdout",
     "output_type": "stream",
     "text": [
      "  batch: 64/656  -  dt: 0:00:00.531822 - d_acc: 0.69\n"
     ]
    },
    {
     "name": "stdout",
     "output_type": "stream",
     "text": [
      "  batch: 65/656  -  dt: 0:00:00.533727 - d_acc: 0.58\n"
     ]
    },
    {
     "name": "stdout",
     "output_type": "stream",
     "text": [
      "  batch: 66/656  -  dt: 0:00:00.523697 - d_acc: 0.62\n"
     ]
    },
    {
     "name": "stdout",
     "output_type": "stream",
     "text": [
      "  batch: 67/656  -  dt: 0:00:00.526175 - d_acc: 0.66\n"
     ]
    },
    {
     "name": "stdout",
     "output_type": "stream",
     "text": [
      "  batch: 68/656  -  dt: 0:00:00.530233 - d_acc: 0.71\n"
     ]
    },
    {
     "name": "stdout",
     "output_type": "stream",
     "text": [
      "  batch: 69/656  -  dt: 0:00:00.531922 - d_acc: 0.63\n"
     ]
    },
    {
     "name": "stdout",
     "output_type": "stream",
     "text": [
      "  batch: 70/656  -  dt: 0:00:00.522528 - d_acc: 0.66\n"
     ]
    },
    {
     "name": "stdout",
     "output_type": "stream",
     "text": [
      "  batch: 71/656  -  dt: 0:00:00.524497 - d_acc: 0.66\n"
     ]
    },
    {
     "name": "stdout",
     "output_type": "stream",
     "text": [
      "  batch: 72/656  -  dt: 0:00:00.523404 - d_acc: 0.59\n"
     ]
    },
    {
     "name": "stdout",
     "output_type": "stream",
     "text": [
      "  batch: 73/656  -  dt: 0:00:00.526449 - d_acc: 0.59\n"
     ]
    },
    {
     "name": "stdout",
     "output_type": "stream",
     "text": [
      "  batch: 74/656  -  dt: 0:00:00.530094 - d_acc: 0.70\n"
     ]
    },
    {
     "name": "stdout",
     "output_type": "stream",
     "text": [
      "  batch: 75/656  -  dt: 0:00:00.519989 - d_acc: 0.65\n"
     ]
    },
    {
     "name": "stdout",
     "output_type": "stream",
     "text": [
      "  batch: 76/656  -  dt: 0:00:00.529318 - d_acc: 0.65\n"
     ]
    },
    {
     "name": "stdout",
     "output_type": "stream",
     "text": [
      "  batch: 77/656  -  dt: 0:00:00.524383 - d_acc: 0.63\n"
     ]
    },
    {
     "name": "stdout",
     "output_type": "stream",
     "text": [
      "  batch: 78/656  -  dt: 0:00:00.527914 - d_acc: 0.61\n"
     ]
    },
    {
     "name": "stdout",
     "output_type": "stream",
     "text": [
      "  batch: 79/656  -  dt: 0:00:00.518473 - d_acc: 0.66\n"
     ]
    },
    {
     "name": "stdout",
     "output_type": "stream",
     "text": [
      "  batch: 80/656  -  dt: 0:00:00.529203 - d_acc: 0.67\n"
     ]
    },
    {
     "name": "stdout",
     "output_type": "stream",
     "text": [
      "  batch: 81/656  -  dt: 0:00:00.533049 - d_acc: 0.65\n"
     ]
    },
    {
     "name": "stdout",
     "output_type": "stream",
     "text": [
      "  batch: 82/656  -  dt: 0:00:00.526076 - d_acc: 0.59\n"
     ]
    },
    {
     "name": "stdout",
     "output_type": "stream",
     "text": [
      "  batch: 83/656  -  dt: 0:00:00.522551 - d_acc: 0.63\n"
     ]
    },
    {
     "name": "stdout",
     "output_type": "stream",
     "text": [
      "  batch: 84/656  -  dt: 0:00:00.527286 - d_acc: 0.65\n"
     ]
    },
    {
     "name": "stdout",
     "output_type": "stream",
     "text": [
      "  batch: 85/656  -  dt: 0:00:00.529685 - d_acc: 0.67\n"
     ]
    },
    {
     "name": "stdout",
     "output_type": "stream",
     "text": [
      "  batch: 86/656  -  dt: 0:00:00.533730 - d_acc: 0.73\n"
     ]
    },
    {
     "name": "stdout",
     "output_type": "stream",
     "text": [
      "  batch: 87/656  -  dt: 0:00:00.532119 - d_acc: 0.69\n"
     ]
    },
    {
     "name": "stdout",
     "output_type": "stream",
     "text": [
      "  batch: 88/656  -  dt: 0:00:00.533121 - d_acc: 0.64\n"
     ]
    },
    {
     "name": "stdout",
     "output_type": "stream",
     "text": [
      "  batch: 89/656  -  dt: 0:00:00.533424 - d_acc: 0.59\n"
     ]
    },
    {
     "name": "stdout",
     "output_type": "stream",
     "text": [
      "  batch: 90/656  -  dt: 0:00:00.519593 - d_acc: 0.74\n"
     ]
    },
    {
     "name": "stdout",
     "output_type": "stream",
     "text": [
      "  batch: 91/656  -  dt: 0:00:00.530511 - d_acc: 0.63\n"
     ]
    },
    {
     "name": "stdout",
     "output_type": "stream",
     "text": [
      "  batch: 92/656  -  dt: 0:00:00.522433 - d_acc: 0.62\n"
     ]
    },
    {
     "name": "stdout",
     "output_type": "stream",
     "text": [
      "  batch: 93/656  -  dt: 0:00:00.537881 - d_acc: 0.59\n"
     ]
    },
    {
     "name": "stderr",
     "output_type": "stream",
     "text": [
      "WARNING:root:Lossy conversion from float64 to uint8. Range [0, 1]. Convert image to uint8 prior to saving to suppress this warning.\n"
     ]
    },
    {
     "name": "stdout",
     "output_type": "stream",
     "text": [
      "  batch: 94/656  -  dt: 0:00:00.521240 - d_acc: 0.62\nsaving a sample...\n"
     ]
    },
    {
     "name": "stdout",
     "output_type": "stream",
     "text": [
      "  batch: 95/656  -  dt: 0:00:00.519787 - d_acc: 0.66\n"
     ]
    },
    {
     "name": "stdout",
     "output_type": "stream",
     "text": [
      "  batch: 96/656  -  dt: 0:00:00.542679 - d_acc: 0.63\n"
     ]
    },
    {
     "name": "stdout",
     "output_type": "stream",
     "text": [
      "  batch: 97/656  -  dt: 0:00:00.541399 - d_acc: 0.62\n"
     ]
    },
    {
     "name": "stdout",
     "output_type": "stream",
     "text": [
      "  batch: 98/656  -  dt: 0:00:00.529297 - d_acc: 0.62\n"
     ]
    },
    {
     "name": "stdout",
     "output_type": "stream",
     "text": [
      "  batch: 99/656  -  dt: 0:00:00.526435 - d_acc: 0.66\n"
     ]
    },
    {
     "name": "stdout",
     "output_type": "stream",
     "text": [
      "  batch: 100/656  -  dt: 0:00:00.534158 - d_acc: 0.57\n"
     ]
    },
    {
     "name": "stdout",
     "output_type": "stream",
     "text": [
      "  batch: 101/656  -  dt: 0:00:00.520162 - d_acc: 0.59\n"
     ]
    },
    {
     "name": "stdout",
     "output_type": "stream",
     "text": [
      "  batch: 102/656  -  dt: 0:00:00.539655 - d_acc: 0.65\n"
     ]
    },
    {
     "name": "stdout",
     "output_type": "stream",
     "text": [
      "  batch: 103/656  -  dt: 0:00:00.523157 - d_acc: 0.59\n"
     ]
    },
    {
     "name": "stdout",
     "output_type": "stream",
     "text": [
      "  batch: 104/656  -  dt: 0:00:00.529189 - d_acc: 0.64\n"
     ]
    },
    {
     "name": "stdout",
     "output_type": "stream",
     "text": [
      "  batch: 105/656  -  dt: 0:00:00.532277 - d_acc: 0.68\n"
     ]
    },
    {
     "name": "stdout",
     "output_type": "stream",
     "text": [
      "  batch: 106/656  -  dt: 0:00:00.527066 - d_acc: 0.61\n"
     ]
    },
    {
     "name": "stdout",
     "output_type": "stream",
     "text": [
      "  batch: 107/656  -  dt: 0:00:00.531082 - d_acc: 0.70\n"
     ]
    },
    {
     "name": "stdout",
     "output_type": "stream",
     "text": [
      "  batch: 108/656  -  dt: 0:00:00.531429 - d_acc: 0.61\n"
     ]
    },
    {
     "name": "stdout",
     "output_type": "stream",
     "text": [
      "  batch: 109/656  -  dt: 0:00:00.523063 - d_acc: 0.65\n"
     ]
    },
    {
     "name": "stdout",
     "output_type": "stream",
     "text": [
      "  batch: 110/656  -  dt: 0:00:00.522441 - d_acc: 0.66\n"
     ]
    },
    {
     "name": "stdout",
     "output_type": "stream",
     "text": [
      "  batch: 111/656  -  dt: 0:00:00.528795 - d_acc: 0.68\n"
     ]
    },
    {
     "name": "stdout",
     "output_type": "stream",
     "text": [
      "  batch: 112/656  -  dt: 0:00:00.529669 - d_acc: 0.61\n"
     ]
    },
    {
     "name": "stdout",
     "output_type": "stream",
     "text": [
      "  batch: 113/656  -  dt: 0:00:00.523820 - d_acc: 0.64\n"
     ]
    },
    {
     "name": "stdout",
     "output_type": "stream",
     "text": [
      "  batch: 114/656  -  dt: 0:00:00.520027 - d_acc: 0.64\n"
     ]
    },
    {
     "name": "stdout",
     "output_type": "stream",
     "text": [
      "  batch: 115/656  -  dt: 0:00:00.529972 - d_acc: 0.64\n"
     ]
    },
    {
     "name": "stdout",
     "output_type": "stream",
     "text": [
      "  batch: 116/656  -  dt: 0:00:00.530091 - d_acc: 0.67\n"
     ]
    },
    {
     "name": "stdout",
     "output_type": "stream",
     "text": [
      "  batch: 117/656  -  dt: 0:00:00.543892 - d_acc: 0.68\n"
     ]
    },
    {
     "name": "stdout",
     "output_type": "stream",
     "text": [
      "  batch: 118/656  -  dt: 0:00:00.536333 - d_acc: 0.66\n"
     ]
    },
    {
     "name": "stdout",
     "output_type": "stream",
     "text": [
      "  batch: 119/656  -  dt: 0:00:00.523694 - d_acc: 0.65\n"
     ]
    },
    {
     "name": "stdout",
     "output_type": "stream",
     "text": [
      "  batch: 120/656  -  dt: 0:00:00.569708 - d_acc: 0.66\n"
     ]
    },
    {
     "name": "stdout",
     "output_type": "stream",
     "text": [
      "  batch: 121/656  -  dt: 0:00:00.649721 - d_acc: 0.51\n"
     ]
    },
    {
     "name": "stdout",
     "output_type": "stream",
     "text": [
      "  batch: 122/656  -  dt: 0:00:00.610472 - d_acc: 0.57\n"
     ]
    },
    {
     "name": "stdout",
     "output_type": "stream",
     "text": [
      "  batch: 123/656  -  dt: 0:00:00.614195 - d_acc: 0.65\n"
     ]
    },
    {
     "name": "stdout",
     "output_type": "stream",
     "text": [
      "  batch: 124/656  -  dt: 0:00:00.590880 - d_acc: 0.60\n"
     ]
    },
    {
     "name": "stdout",
     "output_type": "stream",
     "text": [
      "  batch: 125/656  -  dt: 0:00:00.564156 - d_acc: 0.54\n"
     ]
    },
    {
     "name": "stdout",
     "output_type": "stream",
     "text": [
      "  batch: 126/656  -  dt: 0:00:00.523536 - d_acc: 0.70\n"
     ]
    },
    {
     "name": "stdout",
     "output_type": "stream",
     "text": [
      "  batch: 127/656  -  dt: 0:00:00.536373 - d_acc: 0.67\n"
     ]
    },
    {
     "name": "stdout",
     "output_type": "stream",
     "text": [
      "  batch: 128/656  -  dt: 0:00:00.544358 - d_acc: 0.62\n"
     ]
    },
    {
     "name": "stdout",
     "output_type": "stream",
     "text": [
      "  batch: 129/656  -  dt: 0:00:00.545735 - d_acc: 0.59\n"
     ]
    },
    {
     "name": "stdout",
     "output_type": "stream",
     "text": [
      "  batch: 130/656  -  dt: 0:00:00.538859 - d_acc: 0.59\n"
     ]
    },
    {
     "name": "stdout",
     "output_type": "stream",
     "text": [
      "  batch: 131/656  -  dt: 0:00:00.531074 - d_acc: 0.67\n"
     ]
    },
    {
     "name": "stdout",
     "output_type": "stream",
     "text": [
      "  batch: 132/656  -  dt: 0:00:00.543141 - d_acc: 0.66\n"
     ]
    },
    {
     "name": "stdout",
     "output_type": "stream",
     "text": [
      "  batch: 133/656  -  dt: 0:00:00.527073 - d_acc: 0.63\n"
     ]
    },
    {
     "name": "stdout",
     "output_type": "stream",
     "text": [
      "  batch: 134/656  -  dt: 0:00:00.532738 - d_acc: 0.68\n"
     ]
    },
    {
     "name": "stdout",
     "output_type": "stream",
     "text": [
      "  batch: 135/656  -  dt: 0:00:00.532982 - d_acc: 0.58\n"
     ]
    },
    {
     "name": "stdout",
     "output_type": "stream",
     "text": [
      "  batch: 136/656  -  dt: 0:00:00.527955 - d_acc: 0.75\n"
     ]
    },
    {
     "name": "stdout",
     "output_type": "stream",
     "text": [
      "  batch: 137/656  -  dt: 0:00:00.568549 - d_acc: 0.62\n"
     ]
    },
    {
     "name": "stdout",
     "output_type": "stream",
     "text": [
      "  batch: 138/656  -  dt: 0:00:00.558582 - d_acc: 0.61\n"
     ]
    },
    {
     "name": "stdout",
     "output_type": "stream",
     "text": [
      "  batch: 139/656  -  dt: 0:00:00.521283 - d_acc: 0.62\n"
     ]
    },
    {
     "name": "stdout",
     "output_type": "stream",
     "text": [
      "  batch: 140/656  -  dt: 0:00:00.530540 - d_acc: 0.59\n"
     ]
    },
    {
     "name": "stdout",
     "output_type": "stream",
     "text": [
      "  batch: 141/656  -  dt: 0:00:00.536555 - d_acc: 0.62\n"
     ]
    },
    {
     "name": "stdout",
     "output_type": "stream",
     "text": [
      "  batch: 142/656  -  dt: 0:00:00.528831 - d_acc: 0.59\n"
     ]
    },
    {
     "name": "stdout",
     "output_type": "stream",
     "text": [
      "  batch: 143/656  -  dt: 0:00:00.556103 - d_acc: 0.61\n"
     ]
    },
    {
     "name": "stderr",
     "output_type": "stream",
     "text": [
      "WARNING:root:Lossy conversion from float64 to uint8. Range [0, 1]. Convert image to uint8 prior to saving to suppress this warning.\n"
     ]
    },
    {
     "name": "stdout",
     "output_type": "stream",
     "text": [
      "  batch: 144/656  -  dt: 0:00:00.583700 - d_acc: 0.67\nsaving a sample...\n"
     ]
    },
    {
     "name": "stdout",
     "output_type": "stream",
     "text": [
      "  batch: 145/656  -  dt: 0:00:00.665540 - d_acc: 0.62\n"
     ]
    },
    {
     "name": "stdout",
     "output_type": "stream",
     "text": [
      "  batch: 146/656  -  dt: 0:00:00.701667 - d_acc: 0.64\n"
     ]
    },
    {
     "name": "stdout",
     "output_type": "stream",
     "text": [
      "  batch: 147/656  -  dt: 0:00:00.660618 - d_acc: 0.65\n"
     ]
    },
    {
     "name": "stdout",
     "output_type": "stream",
     "text": [
      "  batch: 148/656  -  dt: 0:00:00.676591 - d_acc: 0.58\n"
     ]
    },
    {
     "name": "stdout",
     "output_type": "stream",
     "text": [
      "  batch: 149/656  -  dt: 0:00:00.611005 - d_acc: 0.64\n"
     ]
    },
    {
     "name": "stdout",
     "output_type": "stream",
     "text": [
      "  batch: 150/656  -  dt: 0:00:00.732941 - d_acc: 0.66\n"
     ]
    },
    {
     "name": "stdout",
     "output_type": "stream",
     "text": [
      "  batch: 151/656  -  dt: 0:00:00.657101 - d_acc: 0.62\n"
     ]
    },
    {
     "name": "stdout",
     "output_type": "stream",
     "text": [
      "  batch: 152/656  -  dt: 0:00:00.589961 - d_acc: 0.58\n"
     ]
    },
    {
     "name": "stdout",
     "output_type": "stream",
     "text": [
      "  batch: 153/656  -  dt: 0:00:00.573400 - d_acc: 0.65\n"
     ]
    },
    {
     "name": "stdout",
     "output_type": "stream",
     "text": [
      "  batch: 154/656  -  dt: 0:00:00.564428 - d_acc: 0.66\n"
     ]
    },
    {
     "name": "stdout",
     "output_type": "stream",
     "text": [
      "  batch: 155/656  -  dt: 0:00:00.561769 - d_acc: 0.62\n"
     ]
    },
    {
     "name": "stdout",
     "output_type": "stream",
     "text": [
      "  batch: 156/656  -  dt: 0:00:00.550382 - d_acc: 0.56\n"
     ]
    },
    {
     "name": "stdout",
     "output_type": "stream",
     "text": [
      "  batch: 157/656  -  dt: 0:00:00.542942 - d_acc: 0.68\n"
     ]
    },
    {
     "name": "stdout",
     "output_type": "stream",
     "text": [
      "  batch: 158/656  -  dt: 0:00:00.526733 - d_acc: 0.66\n"
     ]
    },
    {
     "name": "stdout",
     "output_type": "stream",
     "text": [
      "  batch: 159/656  -  dt: 0:00:00.523675 - d_acc: 0.70\n"
     ]
    },
    {
     "name": "stdout",
     "output_type": "stream",
     "text": [
      "  batch: 160/656  -  dt: 0:00:00.516454 - d_acc: 0.62\n"
     ]
    },
    {
     "name": "stdout",
     "output_type": "stream",
     "text": [
      "  batch: 161/656  -  dt: 0:00:00.540094 - d_acc: 0.59\n"
     ]
    },
    {
     "name": "stdout",
     "output_type": "stream",
     "text": [
      "  batch: 162/656  -  dt: 0:00:00.552739 - d_acc: 0.65\n"
     ]
    },
    {
     "name": "stdout",
     "output_type": "stream",
     "text": [
      "  batch: 163/656  -  dt: 0:00:00.525967 - d_acc: 0.63\n"
     ]
    },
    {
     "name": "stdout",
     "output_type": "stream",
     "text": [
      "  batch: 164/656  -  dt: 0:00:00.540345 - d_acc: 0.64\n"
     ]
    },
    {
     "name": "stdout",
     "output_type": "stream",
     "text": [
      "  batch: 165/656  -  dt: 0:00:00.529403 - d_acc: 0.55\n"
     ]
    },
    {
     "name": "stdout",
     "output_type": "stream",
     "text": [
      "  batch: 166/656  -  dt: 0:00:00.530318 - d_acc: 0.65\n"
     ]
    },
    {
     "name": "stdout",
     "output_type": "stream",
     "text": [
      "  batch: 167/656  -  dt: 0:00:00.523491 - d_acc: 0.57\n"
     ]
    },
    {
     "name": "stdout",
     "output_type": "stream",
     "text": [
      "  batch: 168/656  -  dt: 0:00:00.600172 - d_acc: 0.61\n"
     ]
    },
    {
     "name": "stdout",
     "output_type": "stream",
     "text": [
      "  batch: 169/656  -  dt: 0:00:00.669338 - d_acc: 0.71\n"
     ]
    },
    {
     "name": "stdout",
     "output_type": "stream",
     "text": [
      "  batch: 170/656  -  dt: 0:00:00.587747 - d_acc: 0.61\n"
     ]
    },
    {
     "name": "stdout",
     "output_type": "stream",
     "text": [
      "  batch: 171/656  -  dt: 0:00:00.538298 - d_acc: 0.61\n"
     ]
    },
    {
     "name": "stdout",
     "output_type": "stream",
     "text": [
      "  batch: 172/656  -  dt: 0:00:00.539842 - d_acc: 0.64\n"
     ]
    },
    {
     "name": "stdout",
     "output_type": "stream",
     "text": [
      "  batch: 173/656  -  dt: 0:00:00.560415 - d_acc: 0.55\n"
     ]
    },
    {
     "name": "stdout",
     "output_type": "stream",
     "text": [
      "  batch: 174/656  -  dt: 0:00:00.568315 - d_acc: 0.66\n"
     ]
    },
    {
     "name": "stdout",
     "output_type": "stream",
     "text": [
      "  batch: 175/656  -  dt: 0:00:00.561680 - d_acc: 0.58\n"
     ]
    },
    {
     "name": "stdout",
     "output_type": "stream",
     "text": [
      "  batch: 176/656  -  dt: 0:00:00.563569 - d_acc: 0.64\n"
     ]
    },
    {
     "name": "stdout",
     "output_type": "stream",
     "text": [
      "  batch: 177/656  -  dt: 0:00:00.569402 - d_acc: 0.62\n"
     ]
    },
    {
     "name": "stdout",
     "output_type": "stream",
     "text": [
      "  batch: 178/656  -  dt: 0:00:00.577737 - d_acc: 0.64\n"
     ]
    },
    {
     "name": "stdout",
     "output_type": "stream",
     "text": [
      "  batch: 179/656  -  dt: 0:00:00.557985 - d_acc: 0.62\n"
     ]
    },
    {
     "name": "stdout",
     "output_type": "stream",
     "text": [
      "  batch: 180/656  -  dt: 0:00:00.546970 - d_acc: 0.63\n"
     ]
    },
    {
     "name": "stdout",
     "output_type": "stream",
     "text": [
      "  batch: 181/656  -  dt: 0:00:00.536593 - d_acc: 0.63\n"
     ]
    },
    {
     "name": "stdout",
     "output_type": "stream",
     "text": [
      "  batch: 182/656  -  dt: 0:00:00.536366 - d_acc: 0.59\n"
     ]
    },
    {
     "name": "stdout",
     "output_type": "stream",
     "text": [
      "  batch: 183/656  -  dt: 0:00:00.530026 - d_acc: 0.62\n"
     ]
    },
    {
     "name": "stdout",
     "output_type": "stream",
     "text": [
      "  batch: 184/656  -  dt: 0:00:00.523893 - d_acc: 0.66\n"
     ]
    },
    {
     "name": "stdout",
     "output_type": "stream",
     "text": [
      "  batch: 185/656  -  dt: 0:00:00.542807 - d_acc: 0.61\n"
     ]
    },
    {
     "name": "stdout",
     "output_type": "stream",
     "text": [
      "  batch: 186/656  -  dt: 0:00:00.527272 - d_acc: 0.62\n"
     ]
    },
    {
     "name": "stdout",
     "output_type": "stream",
     "text": [
      "  batch: 187/656  -  dt: 0:00:00.541296 - d_acc: 0.62\n"
     ]
    },
    {
     "name": "stdout",
     "output_type": "stream",
     "text": [
      "  batch: 188/656  -  dt: 0:00:00.538852 - d_acc: 0.64\n"
     ]
    },
    {
     "name": "stdout",
     "output_type": "stream",
     "text": [
      "  batch: 189/656  -  dt: 0:00:00.533381 - d_acc: 0.62\n"
     ]
    },
    {
     "name": "stdout",
     "output_type": "stream",
     "text": [
      "  batch: 190/656  -  dt: 0:00:00.534639 - d_acc: 0.71\n"
     ]
    },
    {
     "name": "stdout",
     "output_type": "stream",
     "text": [
      "  batch: 191/656  -  dt: 0:00:00.521996 - d_acc: 0.55\n"
     ]
    },
    {
     "name": "stdout",
     "output_type": "stream",
     "text": [
      "  batch: 192/656  -  dt: 0:00:00.539769 - d_acc: 0.64\n"
     ]
    },
    {
     "name": "stdout",
     "output_type": "stream",
     "text": [
      "  batch: 193/656  -  dt: 0:00:00.560034 - d_acc: 0.64\n"
     ]
    },
    {
     "name": "stderr",
     "output_type": "stream",
     "text": [
      "WARNING:root:Lossy conversion from float64 to uint8. Range [0, 1]. Convert image to uint8 prior to saving to suppress this warning.\n"
     ]
    },
    {
     "name": "stdout",
     "output_type": "stream",
     "text": [
      "  batch: 194/656  -  dt: 0:00:00.570132 - d_acc: 0.63\nsaving a sample...\n"
     ]
    },
    {
     "name": "stdout",
     "output_type": "stream",
     "text": [
      "  batch: 195/656  -  dt: 0:00:00.559471 - d_acc: 0.65\n"
     ]
    },
    {
     "name": "stdout",
     "output_type": "stream",
     "text": [
      "  batch: 196/656  -  dt: 0:00:00.571229 - d_acc: 0.68\n"
     ]
    },
    {
     "name": "stdout",
     "output_type": "stream",
     "text": [
      "  batch: 197/656  -  dt: 0:00:00.583338 - d_acc: 0.68\n"
     ]
    },
    {
     "name": "stdout",
     "output_type": "stream",
     "text": [
      "  batch: 198/656  -  dt: 0:00:00.545511 - d_acc: 0.69\n"
     ]
    },
    {
     "name": "stdout",
     "output_type": "stream",
     "text": [
      "  batch: 199/656  -  dt: 0:00:00.559610 - d_acc: 0.66\n"
     ]
    },
    {
     "name": "stdout",
     "output_type": "stream",
     "text": [
      "  batch: 200/656  -  dt: 0:00:00.543039 - d_acc: 0.59\n"
     ]
    },
    {
     "name": "stdout",
     "output_type": "stream",
     "text": [
      "  batch: 201/656  -  dt: 0:00:00.546034 - d_acc: 0.61\n"
     ]
    },
    {
     "name": "stdout",
     "output_type": "stream",
     "text": [
      "  batch: 202/656  -  dt: 0:00:00.564113 - d_acc: 0.58\n"
     ]
    },
    {
     "name": "stdout",
     "output_type": "stream",
     "text": [
      "  batch: 203/656  -  dt: 0:00:00.586287 - d_acc: 0.61\n"
     ]
    },
    {
     "name": "stdout",
     "output_type": "stream",
     "text": [
      "  batch: 204/656  -  dt: 0:00:00.569921 - d_acc: 0.59\n"
     ]
    },
    {
     "name": "stdout",
     "output_type": "stream",
     "text": [
      "  batch: 205/656  -  dt: 0:00:00.573604 - d_acc: 0.66\n"
     ]
    },
    {
     "name": "stdout",
     "output_type": "stream",
     "text": [
      "  batch: 206/656  -  dt: 0:00:00.559510 - d_acc: 0.68\n"
     ]
    },
    {
     "name": "stdout",
     "output_type": "stream",
     "text": [
      "  batch: 207/656  -  dt: 0:00:00.546502 - d_acc: 0.55\n"
     ]
    },
    {
     "name": "stdout",
     "output_type": "stream",
     "text": [
      "  batch: 208/656  -  dt: 0:00:00.533463 - d_acc: 0.63\n"
     ]
    },
    {
     "name": "stdout",
     "output_type": "stream",
     "text": [
      "  batch: 209/656  -  dt: 0:00:00.530488 - d_acc: 0.52\n"
     ]
    },
    {
     "name": "stdout",
     "output_type": "stream",
     "text": [
      "  batch: 210/656  -  dt: 0:00:00.529925 - d_acc: 0.62\n"
     ]
    },
    {
     "name": "stdout",
     "output_type": "stream",
     "text": [
      "  batch: 211/656  -  dt: 0:00:00.534739 - d_acc: 0.58\n"
     ]
    },
    {
     "name": "stdout",
     "output_type": "stream",
     "text": [
      "  batch: 212/656  -  dt: 0:00:00.531427 - d_acc: 0.58\n"
     ]
    },
    {
     "name": "stdout",
     "output_type": "stream",
     "text": [
      "  batch: 213/656  -  dt: 0:00:00.560138 - d_acc: 0.63\n"
     ]
    },
    {
     "name": "stdout",
     "output_type": "stream",
     "text": [
      "  batch: 214/656  -  dt: 0:00:00.549826 - d_acc: 0.62\n"
     ]
    },
    {
     "name": "stdout",
     "output_type": "stream",
     "text": [
      "  batch: 215/656  -  dt: 0:00:00.520351 - d_acc: 0.61\n"
     ]
    },
    {
     "name": "stdout",
     "output_type": "stream",
     "text": [
      "  batch: 216/656  -  dt: 0:00:00.533321 - d_acc: 0.62\n"
     ]
    },
    {
     "name": "stdout",
     "output_type": "stream",
     "text": [
      "  batch: 217/656  -  dt: 0:00:00.527831 - d_acc: 0.69\n"
     ]
    },
    {
     "name": "stdout",
     "output_type": "stream",
     "text": [
      "  batch: 218/656  -  dt: 0:00:00.528534 - d_acc: 0.62\n"
     ]
    },
    {
     "name": "stdout",
     "output_type": "stream",
     "text": [
      "  batch: 219/656  -  dt: 0:00:00.529999 - d_acc: 0.66\n"
     ]
    },
    {
     "name": "stdout",
     "output_type": "stream",
     "text": [
      "  batch: 220/656  -  dt: 0:00:00.530407 - d_acc: 0.60\n"
     ]
    },
    {
     "name": "stdout",
     "output_type": "stream",
     "text": [
      "  batch: 221/656  -  dt: 0:00:00.524848 - d_acc: 0.64\n"
     ]
    },
    {
     "name": "stdout",
     "output_type": "stream",
     "text": [
      "  batch: 222/656  -  dt: 0:00:00.535046 - d_acc: 0.60\n"
     ]
    },
    {
     "name": "stdout",
     "output_type": "stream",
     "text": [
      "  batch: 223/656  -  dt: 0:00:00.529654 - d_acc: 0.61\n"
     ]
    },
    {
     "name": "stdout",
     "output_type": "stream",
     "text": [
      "  batch: 224/656  -  dt: 0:00:00.533327 - d_acc: 0.60\n"
     ]
    },
    {
     "name": "stdout",
     "output_type": "stream",
     "text": [
      "  batch: 225/656  -  dt: 0:00:00.520860 - d_acc: 0.60\n"
     ]
    },
    {
     "name": "stdout",
     "output_type": "stream",
     "text": [
      "  batch: 226/656  -  dt: 0:00:00.524853 - d_acc: 0.62\n"
     ]
    },
    {
     "name": "stdout",
     "output_type": "stream",
     "text": [
      "  batch: 227/656  -  dt: 0:00:00.530501 - d_acc: 0.62\n"
     ]
    },
    {
     "name": "stdout",
     "output_type": "stream",
     "text": [
      "  batch: 228/656  -  dt: 0:00:00.541720 - d_acc: 0.62\n"
     ]
    },
    {
     "name": "stdout",
     "output_type": "stream",
     "text": [
      "  batch: 229/656  -  dt: 0:00:00.528320 - d_acc: 0.65\n"
     ]
    },
    {
     "name": "stdout",
     "output_type": "stream",
     "text": [
      "  batch: 230/656  -  dt: 0:00:00.539570 - d_acc: 0.63\n"
     ]
    },
    {
     "name": "stdout",
     "output_type": "stream",
     "text": [
      "  batch: 231/656  -  dt: 0:00:00.539880 - d_acc: 0.65\n"
     ]
    },
    {
     "name": "stdout",
     "output_type": "stream",
     "text": [
      "  batch: 232/656  -  dt: 0:00:00.543889 - d_acc: 0.59\n"
     ]
    },
    {
     "name": "stdout",
     "output_type": "stream",
     "text": [
      "  batch: 233/656  -  dt: 0:00:00.614010 - d_acc: 0.63\n"
     ]
    },
    {
     "name": "stdout",
     "output_type": "stream",
     "text": [
      "  batch: 234/656  -  dt: 0:00:00.596277 - d_acc: 0.70\n"
     ]
    },
    {
     "name": "stdout",
     "output_type": "stream",
     "text": [
      "  batch: 235/656  -  dt: 0:00:00.558622 - d_acc: 0.62\n"
     ]
    },
    {
     "name": "stdout",
     "output_type": "stream",
     "text": [
      "  batch: 236/656  -  dt: 0:00:00.560845 - d_acc: 0.60\n"
     ]
    },
    {
     "name": "stdout",
     "output_type": "stream",
     "text": [
      "  batch: 237/656  -  dt: 0:00:00.551467 - d_acc: 0.65\n"
     ]
    },
    {
     "name": "stdout",
     "output_type": "stream",
     "text": [
      "  batch: 238/656  -  dt: 0:00:00.535100 - d_acc: 0.63\n"
     ]
    },
    {
     "name": "stdout",
     "output_type": "stream",
     "text": [
      "  batch: 239/656  -  dt: 0:00:00.530126 - d_acc: 0.58\n"
     ]
    },
    {
     "name": "stdout",
     "output_type": "stream",
     "text": [
      "  batch: 240/656  -  dt: 0:00:00.523221 - d_acc: 0.56\n"
     ]
    },
    {
     "name": "stdout",
     "output_type": "stream",
     "text": [
      "  batch: 241/656  -  dt: 0:00:00.540823 - d_acc: 0.66\n"
     ]
    },
    {
     "name": "stdout",
     "output_type": "stream",
     "text": [
      "  batch: 242/656  -  dt: 0:00:00.538633 - d_acc: 0.62\n"
     ]
    },
    {
     "name": "stdout",
     "output_type": "stream",
     "text": [
      "  batch: 243/656  -  dt: 0:00:00.587316 - d_acc: 0.62\n"
     ]
    },
    {
     "name": "stderr",
     "output_type": "stream",
     "text": [
      "WARNING:root:Lossy conversion from float64 to uint8. Range [0, 1]. Convert image to uint8 prior to saving to suppress this warning.\n"
     ]
    },
    {
     "name": "stdout",
     "output_type": "stream",
     "text": [
      "  batch: 244/656  -  dt: 0:00:00.653648 - d_acc: 0.68\nsaving a sample...\n"
     ]
    },
    {
     "name": "stdout",
     "output_type": "stream",
     "text": [
      "  batch: 245/656  -  dt: 0:00:00.590621 - d_acc: 0.62\n"
     ]
    },
    {
     "name": "stdout",
     "output_type": "stream",
     "text": [
      "  batch: 246/656  -  dt: 0:00:00.614144 - d_acc: 0.66\n"
     ]
    },
    {
     "name": "stdout",
     "output_type": "stream",
     "text": [
      "  batch: 247/656  -  dt: 0:00:00.574405 - d_acc: 0.64\n"
     ]
    },
    {
     "name": "stdout",
     "output_type": "stream",
     "text": [
      "  batch: 248/656  -  dt: 0:00:00.578291 - d_acc: 0.66\n"
     ]
    },
    {
     "name": "stdout",
     "output_type": "stream",
     "text": [
      "  batch: 249/656  -  dt: 0:00:00.555507 - d_acc: 0.73\n"
     ]
    },
    {
     "name": "stdout",
     "output_type": "stream",
     "text": [
      "  batch: 250/656  -  dt: 0:00:00.538439 - d_acc: 0.66\n"
     ]
    },
    {
     "name": "stdout",
     "output_type": "stream",
     "text": [
      "  batch: 251/656  -  dt: 0:00:00.539879 - d_acc: 0.58\n"
     ]
    },
    {
     "name": "stdout",
     "output_type": "stream",
     "text": [
      "  batch: 252/656  -  dt: 0:00:00.532383 - d_acc: 0.73\n"
     ]
    },
    {
     "name": "stdout",
     "output_type": "stream",
     "text": [
      "  batch: 253/656  -  dt: 0:00:00.541508 - d_acc: 0.63\n"
     ]
    },
    {
     "name": "stdout",
     "output_type": "stream",
     "text": [
      "  batch: 254/656  -  dt: 0:00:00.555061 - d_acc: 0.73\n"
     ]
    },
    {
     "name": "stdout",
     "output_type": "stream",
     "text": [
      "  batch: 255/656  -  dt: 0:00:00.530076 - d_acc: 0.49\n"
     ]
    },
    {
     "name": "stdout",
     "output_type": "stream",
     "text": [
      "  batch: 256/656  -  dt: 0:00:00.533255 - d_acc: 0.59\n"
     ]
    },
    {
     "name": "stdout",
     "output_type": "stream",
     "text": [
      "  batch: 257/656  -  dt: 0:00:00.529727 - d_acc: 0.67\n"
     ]
    },
    {
     "name": "stdout",
     "output_type": "stream",
     "text": [
      "  batch: 258/656  -  dt: 0:00:00.531840 - d_acc: 0.62\n"
     ]
    },
    {
     "name": "stdout",
     "output_type": "stream",
     "text": [
      "  batch: 259/656  -  dt: 0:00:00.549423 - d_acc: 0.69\n"
     ]
    },
    {
     "name": "stdout",
     "output_type": "stream",
     "text": [
      "  batch: 260/656  -  dt: 0:00:00.534816 - d_acc: 0.63\n"
     ]
    },
    {
     "name": "stdout",
     "output_type": "stream",
     "text": [
      "  batch: 261/656  -  dt: 0:00:00.543484 - d_acc: 0.67\n"
     ]
    },
    {
     "name": "stdout",
     "output_type": "stream",
     "text": [
      "  batch: 262/656  -  dt: 0:00:00.529520 - d_acc: 0.66\n"
     ]
    },
    {
     "name": "stdout",
     "output_type": "stream",
     "text": [
      "  batch: 263/656  -  dt: 0:00:00.540695 - d_acc: 0.53\n"
     ]
    },
    {
     "name": "stdout",
     "output_type": "stream",
     "text": [
      "  batch: 264/656  -  dt: 0:00:00.526324 - d_acc: 0.64\n"
     ]
    },
    {
     "name": "stdout",
     "output_type": "stream",
     "text": [
      "  batch: 265/656  -  dt: 0:00:00.523368 - d_acc: 0.54\n"
     ]
    },
    {
     "name": "stdout",
     "output_type": "stream",
     "text": [
      "  batch: 266/656  -  dt: 0:00:00.530507 - d_acc: 0.60\n"
     ]
    },
    {
     "name": "stdout",
     "output_type": "stream",
     "text": [
      "  batch: 267/656  -  dt: 0:00:00.525006 - d_acc: 0.64\n"
     ]
    },
    {
     "name": "stdout",
     "output_type": "stream",
     "text": [
      "  batch: 268/656  -  dt: 0:00:00.532830 - d_acc: 0.55\n"
     ]
    },
    {
     "name": "stdout",
     "output_type": "stream",
     "text": [
      "  batch: 269/656  -  dt: 0:00:00.536337 - d_acc: 0.59\n"
     ]
    },
    {
     "name": "stdout",
     "output_type": "stream",
     "text": [
      "  batch: 270/656  -  dt: 0:00:00.531134 - d_acc: 0.59\n"
     ]
    },
    {
     "name": "stdout",
     "output_type": "stream",
     "text": [
      "  batch: 271/656  -  dt: 0:00:00.530585 - d_acc: 0.62\n"
     ]
    },
    {
     "name": "stdout",
     "output_type": "stream",
     "text": [
      "  batch: 272/656  -  dt: 0:00:00.522230 - d_acc: 0.57\n"
     ]
    },
    {
     "name": "stdout",
     "output_type": "stream",
     "text": [
      "  batch: 273/656  -  dt: 0:00:00.547116 - d_acc: 0.64\n"
     ]
    },
    {
     "name": "stdout",
     "output_type": "stream",
     "text": [
      "  batch: 274/656  -  dt: 0:00:00.545514 - d_acc: 0.62\n"
     ]
    },
    {
     "name": "stdout",
     "output_type": "stream",
     "text": [
      "  batch: 275/656  -  dt: 0:00:00.526824 - d_acc: 0.58\n"
     ]
    },
    {
     "name": "stdout",
     "output_type": "stream",
     "text": [
      "  batch: 276/656  -  dt: 0:00:00.526436 - d_acc: 0.63\n"
     ]
    },
    {
     "name": "stdout",
     "output_type": "stream",
     "text": [
      "  batch: 277/656  -  dt: 0:00:00.544765 - d_acc: 0.57\n"
     ]
    },
    {
     "name": "stdout",
     "output_type": "stream",
     "text": [
      "  batch: 278/656  -  dt: 0:00:00.525420 - d_acc: 0.61\n"
     ]
    },
    {
     "name": "stdout",
     "output_type": "stream",
     "text": [
      "  batch: 279/656  -  dt: 0:00:00.529980 - d_acc: 0.64\n"
     ]
    },
    {
     "name": "stdout",
     "output_type": "stream",
     "text": [
      "  batch: 280/656  -  dt: 0:00:00.534044 - d_acc: 0.59\n"
     ]
    },
    {
     "name": "stdout",
     "output_type": "stream",
     "text": [
      "  batch: 281/656  -  dt: 0:00:00.539969 - d_acc: 0.59\n"
     ]
    },
    {
     "name": "stdout",
     "output_type": "stream",
     "text": [
      "  batch: 282/656  -  dt: 0:00:00.525484 - d_acc: 0.59\n"
     ]
    },
    {
     "name": "stdout",
     "output_type": "stream",
     "text": [
      "  batch: 283/656  -  dt: 0:00:00.550259 - d_acc: 0.58\n"
     ]
    },
    {
     "name": "stdout",
     "output_type": "stream",
     "text": [
      "  batch: 284/656  -  dt: 0:00:00.536877 - d_acc: 0.62\n"
     ]
    },
    {
     "name": "stdout",
     "output_type": "stream",
     "text": [
      "  batch: 285/656  -  dt: 0:00:00.536508 - d_acc: 0.62\n"
     ]
    },
    {
     "name": "stdout",
     "output_type": "stream",
     "text": [
      "  batch: 286/656  -  dt: 0:00:00.614048 - d_acc: 0.63\n"
     ]
    },
    {
     "name": "stdout",
     "output_type": "stream",
     "text": [
      "  batch: 287/656  -  dt: 0:00:00.564867 - d_acc: 0.58\n"
     ]
    },
    {
     "name": "stdout",
     "output_type": "stream",
     "text": [
      "  batch: 288/656  -  dt: 0:00:00.563590 - d_acc: 0.64\n"
     ]
    },
    {
     "name": "stdout",
     "output_type": "stream",
     "text": [
      "  batch: 289/656  -  dt: 0:00:00.551820 - d_acc: 0.62\n"
     ]
    },
    {
     "name": "stdout",
     "output_type": "stream",
     "text": [
      "  batch: 290/656  -  dt: 0:00:00.559678 - d_acc: 0.66\n"
     ]
    },
    {
     "name": "stdout",
     "output_type": "stream",
     "text": [
      "  batch: 291/656  -  dt: 0:00:00.555539 - d_acc: 0.68\n"
     ]
    },
    {
     "name": "stdout",
     "output_type": "stream",
     "text": [
      "  batch: 292/656  -  dt: 0:00:00.528915 - d_acc: 0.67\n"
     ]
    },
    {
     "name": "stdout",
     "output_type": "stream",
     "text": [
      "  batch: 293/656  -  dt: 0:00:00.534584 - d_acc: 0.62\n"
     ]
    },
    {
     "name": "stderr",
     "output_type": "stream",
     "text": [
      "WARNING:root:Lossy conversion from float64 to uint8. Range [0, 1]. Convert image to uint8 prior to saving to suppress this warning.\n"
     ]
    },
    {
     "name": "stdout",
     "output_type": "stream",
     "text": [
      "  batch: 294/656  -  dt: 0:00:00.558527 - d_acc: 0.65\nsaving a sample...\n"
     ]
    },
    {
     "name": "stdout",
     "output_type": "stream",
     "text": [
      "  batch: 295/656  -  dt: 0:00:00.554178 - d_acc: 0.66\n"
     ]
    },
    {
     "name": "stdout",
     "output_type": "stream",
     "text": [
      "  batch: 296/656  -  dt: 0:00:00.574269 - d_acc: 0.64\n"
     ]
    },
    {
     "name": "stdout",
     "output_type": "stream",
     "text": [
      "  batch: 297/656  -  dt: 0:00:00.539103 - d_acc: 0.59\n"
     ]
    },
    {
     "name": "stdout",
     "output_type": "stream",
     "text": [
      "  batch: 298/656  -  dt: 0:00:00.538091 - d_acc: 0.60\n"
     ]
    },
    {
     "name": "stdout",
     "output_type": "stream",
     "text": [
      "  batch: 299/656  -  dt: 0:00:00.527130 - d_acc: 0.62\n"
     ]
    },
    {
     "name": "stdout",
     "output_type": "stream",
     "text": [
      "  batch: 300/656  -  dt: 0:00:00.534325 - d_acc: 0.63\n"
     ]
    },
    {
     "name": "stdout",
     "output_type": "stream",
     "text": [
      "  batch: 301/656  -  dt: 0:00:00.543714 - d_acc: 0.60\n"
     ]
    },
    {
     "name": "stdout",
     "output_type": "stream",
     "text": [
      "  batch: 302/656  -  dt: 0:00:00.535195 - d_acc: 0.60\n"
     ]
    },
    {
     "name": "stdout",
     "output_type": "stream",
     "text": [
      "  batch: 303/656  -  dt: 0:00:00.526798 - d_acc: 0.66\n"
     ]
    },
    {
     "name": "stdout",
     "output_type": "stream",
     "text": [
      "  batch: 304/656  -  dt: 0:00:00.534583 - d_acc: 0.64\n"
     ]
    },
    {
     "name": "stdout",
     "output_type": "stream",
     "text": [
      "  batch: 305/656  -  dt: 0:00:00.535615 - d_acc: 0.67\n"
     ]
    },
    {
     "name": "stdout",
     "output_type": "stream",
     "text": [
      "  batch: 306/656  -  dt: 0:00:00.553988 - d_acc: 0.56\n"
     ]
    },
    {
     "name": "stdout",
     "output_type": "stream",
     "text": [
      "  batch: 307/656  -  dt: 0:00:00.549388 - d_acc: 0.63\n"
     ]
    },
    {
     "name": "stdout",
     "output_type": "stream",
     "text": [
      "  batch: 308/656  -  dt: 0:00:00.536544 - d_acc: 0.60\n"
     ]
    },
    {
     "name": "stdout",
     "output_type": "stream",
     "text": [
      "  batch: 309/656  -  dt: 0:00:00.551859 - d_acc: 0.61\n"
     ]
    },
    {
     "name": "stdout",
     "output_type": "stream",
     "text": [
      "  batch: 310/656  -  dt: 0:00:00.520478 - d_acc: 0.65\n"
     ]
    },
    {
     "name": "stdout",
     "output_type": "stream",
     "text": [
      "  batch: 311/656  -  dt: 0:00:00.523496 - d_acc: 0.55\n"
     ]
    },
    {
     "name": "stdout",
     "output_type": "stream",
     "text": [
      "  batch: 312/656  -  dt: 0:00:00.530034 - d_acc: 0.65\n"
     ]
    },
    {
     "name": "stdout",
     "output_type": "stream",
     "text": [
      "  batch: 313/656  -  dt: 0:00:00.536531 - d_acc: 0.62\n"
     ]
    },
    {
     "name": "stdout",
     "output_type": "stream",
     "text": [
      "  batch: 314/656  -  dt: 0:00:00.531039 - d_acc: 0.59\n"
     ]
    },
    {
     "name": "stdout",
     "output_type": "stream",
     "text": [
      "  batch: 315/656  -  dt: 0:00:00.522062 - d_acc: 0.65\n"
     ]
    },
    {
     "name": "stdout",
     "output_type": "stream",
     "text": [
      "  batch: 316/656  -  dt: 0:00:00.527870 - d_acc: 0.60\n"
     ]
    },
    {
     "name": "stdout",
     "output_type": "stream",
     "text": [
      "  batch: 317/656  -  dt: 0:00:00.520030 - d_acc: 0.61\n"
     ]
    },
    {
     "name": "stdout",
     "output_type": "stream",
     "text": [
      "  batch: 318/656  -  dt: 0:00:00.534563 - d_acc: 0.69\n"
     ]
    },
    {
     "name": "stdout",
     "output_type": "stream",
     "text": [
      "  batch: 319/656  -  dt: 0:00:00.525703 - d_acc: 0.65\n"
     ]
    },
    {
     "name": "stdout",
     "output_type": "stream",
     "text": [
      "  batch: 320/656  -  dt: 0:00:00.536611 - d_acc: 0.55\n"
     ]
    },
    {
     "name": "stdout",
     "output_type": "stream",
     "text": [
      "  batch: 321/656  -  dt: 0:00:00.528220 - d_acc: 0.61\n"
     ]
    },
    {
     "name": "stdout",
     "output_type": "stream",
     "text": [
      "  batch: 322/656  -  dt: 0:00:00.525835 - d_acc: 0.65\n"
     ]
    },
    {
     "name": "stdout",
     "output_type": "stream",
     "text": [
      "  batch: 323/656  -  dt: 0:00:00.540452 - d_acc: 0.64\n"
     ]
    },
    {
     "name": "stdout",
     "output_type": "stream",
     "text": [
      "  batch: 324/656  -  dt: 0:00:00.531004 - d_acc: 0.61\n"
     ]
    },
    {
     "name": "stdout",
     "output_type": "stream",
     "text": [
      "  batch: 325/656  -  dt: 0:00:00.541314 - d_acc: 0.64\n"
     ]
    },
    {
     "name": "stdout",
     "output_type": "stream",
     "text": [
      "  batch: 326/656  -  dt: 0:00:00.528804 - d_acc: 0.55\n"
     ]
    },
    {
     "name": "stdout",
     "output_type": "stream",
     "text": [
      "  batch: 327/656  -  dt: 0:00:00.543070 - d_acc: 0.69\n"
     ]
    },
    {
     "name": "stdout",
     "output_type": "stream",
     "text": [
      "  batch: 328/656  -  dt: 0:00:00.564969 - d_acc: 0.58\n"
     ]
    },
    {
     "name": "stdout",
     "output_type": "stream",
     "text": [
      "  batch: 329/656  -  dt: 0:00:00.558142 - d_acc: 0.61\n"
     ]
    },
    {
     "name": "stdout",
     "output_type": "stream",
     "text": [
      "  batch: 330/656  -  dt: 0:00:00.548309 - d_acc: 0.50\n"
     ]
    },
    {
     "name": "stdout",
     "output_type": "stream",
     "text": [
      "  batch: 331/656  -  dt: 0:00:00.522297 - d_acc: 0.62\n"
     ]
    },
    {
     "name": "stdout",
     "output_type": "stream",
     "text": [
      "  batch: 332/656  -  dt: 0:00:00.541298 - d_acc: 0.63\n"
     ]
    },
    {
     "name": "stdout",
     "output_type": "stream",
     "text": [
      "  batch: 333/656  -  dt: 0:00:00.552140 - d_acc: 0.61\n"
     ]
    },
    {
     "name": "stdout",
     "output_type": "stream",
     "text": [
      "  batch: 334/656  -  dt: 0:00:00.517718 - d_acc: 0.63\n"
     ]
    },
    {
     "name": "stdout",
     "output_type": "stream",
     "text": [
      "  batch: 335/656  -  dt: 0:00:00.540106 - d_acc: 0.59\n"
     ]
    },
    {
     "name": "stdout",
     "output_type": "stream",
     "text": [
      "  batch: 336/656  -  dt: 0:00:00.552639 - d_acc: 0.62\n"
     ]
    },
    {
     "name": "stdout",
     "output_type": "stream",
     "text": [
      "  batch: 337/656  -  dt: 0:00:00.537591 - d_acc: 0.52\n"
     ]
    },
    {
     "name": "stdout",
     "output_type": "stream",
     "text": [
      "  batch: 338/656  -  dt: 0:00:00.522572 - d_acc: 0.60\n"
     ]
    },
    {
     "name": "stdout",
     "output_type": "stream",
     "text": [
      "  batch: 339/656  -  dt: 0:00:00.525326 - d_acc: 0.61\n"
     ]
    },
    {
     "name": "stdout",
     "output_type": "stream",
     "text": [
      "  batch: 340/656  -  dt: 0:00:00.521777 - d_acc: 0.58\n"
     ]
    },
    {
     "name": "stdout",
     "output_type": "stream",
     "text": [
      "  batch: 341/656  -  dt: 0:00:00.530420 - d_acc: 0.70\n"
     ]
    },
    {
     "name": "stdout",
     "output_type": "stream",
     "text": [
      "  batch: 342/656  -  dt: 0:00:00.529597 - d_acc: 0.58\n"
     ]
    },
    {
     "name": "stdout",
     "output_type": "stream",
     "text": [
      "  batch: 343/656  -  dt: 0:00:00.531700 - d_acc: 0.62\n"
     ]
    },
    {
     "name": "stderr",
     "output_type": "stream",
     "text": [
      "WARNING:root:Lossy conversion from float64 to uint8. Range [0, 1]. Convert image to uint8 prior to saving to suppress this warning.\n"
     ]
    },
    {
     "name": "stdout",
     "output_type": "stream",
     "text": [
      "  batch: 344/656  -  dt: 0:00:00.526580 - d_acc: 0.62\nsaving a sample...\n"
     ]
    },
    {
     "name": "stdout",
     "output_type": "stream",
     "text": [
      "  batch: 345/656  -  dt: 0:00:00.530885 - d_acc: 0.61\n"
     ]
    },
    {
     "name": "stdout",
     "output_type": "stream",
     "text": [
      "  batch: 346/656  -  dt: 0:00:00.534143 - d_acc: 0.58\n"
     ]
    },
    {
     "name": "stdout",
     "output_type": "stream",
     "text": [
      "  batch: 347/656  -  dt: 0:00:00.534424 - d_acc: 0.66\n"
     ]
    },
    {
     "name": "stdout",
     "output_type": "stream",
     "text": [
      "  batch: 348/656  -  dt: 0:00:00.525755 - d_acc: 0.63\n"
     ]
    },
    {
     "name": "stdout",
     "output_type": "stream",
     "text": [
      "  batch: 349/656  -  dt: 0:00:00.535907 - d_acc: 0.51\n"
     ]
    },
    {
     "name": "stdout",
     "output_type": "stream",
     "text": [
      "  batch: 350/656  -  dt: 0:00:00.526964 - d_acc: 0.70\n"
     ]
    },
    {
     "name": "stdout",
     "output_type": "stream",
     "text": [
      "  batch: 351/656  -  dt: 0:00:00.528196 - d_acc: 0.66\n"
     ]
    },
    {
     "name": "stdout",
     "output_type": "stream",
     "text": [
      "  batch: 352/656  -  dt: 0:00:00.527511 - d_acc: 0.62\n"
     ]
    },
    {
     "name": "stdout",
     "output_type": "stream",
     "text": [
      "  batch: 353/656  -  dt: 0:00:00.522907 - d_acc: 0.66\n"
     ]
    },
    {
     "name": "stdout",
     "output_type": "stream",
     "text": [
      "  batch: 354/656  -  dt: 0:00:00.540513 - d_acc: 0.66\n"
     ]
    },
    {
     "name": "stdout",
     "output_type": "stream",
     "text": [
      "  batch: 355/656  -  dt: 0:00:00.527159 - d_acc: 0.58\n"
     ]
    },
    {
     "name": "stdout",
     "output_type": "stream",
     "text": [
      "  batch: 356/656  -  dt: 0:00:00.523704 - d_acc: 0.60\n"
     ]
    },
    {
     "name": "stdout",
     "output_type": "stream",
     "text": [
      "  batch: 357/656  -  dt: 0:00:00.526263 - d_acc: 0.56\n"
     ]
    },
    {
     "name": "stdout",
     "output_type": "stream",
     "text": [
      "  batch: 358/656  -  dt: 0:00:00.523402 - d_acc: 0.58\n"
     ]
    },
    {
     "name": "stdout",
     "output_type": "stream",
     "text": [
      "  batch: 359/656  -  dt: 0:00:00.530709 - d_acc: 0.66\n"
     ]
    },
    {
     "name": "stdout",
     "output_type": "stream",
     "text": [
      "  batch: 360/656  -  dt: 0:00:00.528568 - d_acc: 0.66\n"
     ]
    },
    {
     "name": "stdout",
     "output_type": "stream",
     "text": [
      "  batch: 361/656  -  dt: 0:00:00.534200 - d_acc: 0.65\n"
     ]
    },
    {
     "name": "stdout",
     "output_type": "stream",
     "text": [
      "  batch: 362/656  -  dt: 0:00:00.537035 - d_acc: 0.54\n"
     ]
    },
    {
     "name": "stdout",
     "output_type": "stream",
     "text": [
      "  batch: 363/656  -  dt: 0:00:00.537261 - d_acc: 0.65\n"
     ]
    },
    {
     "name": "stdout",
     "output_type": "stream",
     "text": [
      "  batch: 364/656  -  dt: 0:00:00.530447 - d_acc: 0.56\n"
     ]
    },
    {
     "name": "stdout",
     "output_type": "stream",
     "text": [
      "  batch: 365/656  -  dt: 0:00:00.539556 - d_acc: 0.59\n"
     ]
    },
    {
     "name": "stdout",
     "output_type": "stream",
     "text": [
      "  batch: 366/656  -  dt: 0:00:00.570851 - d_acc: 0.59\n"
     ]
    },
    {
     "name": "stdout",
     "output_type": "stream",
     "text": [
      "  batch: 367/656  -  dt: 0:00:00.560941 - d_acc: 0.54\n"
     ]
    },
    {
     "name": "stdout",
     "output_type": "stream",
     "text": [
      "  batch: 368/656  -  dt: 0:00:00.547587 - d_acc: 0.58\n"
     ]
    },
    {
     "name": "stdout",
     "output_type": "stream",
     "text": [
      "  batch: 369/656  -  dt: 0:00:00.524701 - d_acc: 0.62\n"
     ]
    },
    {
     "name": "stdout",
     "output_type": "stream",
     "text": [
      "  batch: 370/656  -  dt: 0:00:00.559337 - d_acc: 0.60\n"
     ]
    },
    {
     "name": "stdout",
     "output_type": "stream",
     "text": [
      "  batch: 371/656  -  dt: 0:00:00.552770 - d_acc: 0.67\n"
     ]
    },
    {
     "name": "stdout",
     "output_type": "stream",
     "text": [
      "  batch: 372/656  -  dt: 0:00:00.546536 - d_acc: 0.56\n"
     ]
    },
    {
     "name": "stdout",
     "output_type": "stream",
     "text": [
      "  batch: 373/656  -  dt: 0:00:00.601310 - d_acc: 0.60\n"
     ]
    },
    {
     "name": "stdout",
     "output_type": "stream",
     "text": [
      "  batch: 374/656  -  dt: 0:00:00.592928 - d_acc: 0.61\n"
     ]
    },
    {
     "name": "stdout",
     "output_type": "stream",
     "text": [
      "  batch: 375/656  -  dt: 0:00:00.542964 - d_acc: 0.65\n"
     ]
    },
    {
     "name": "stdout",
     "output_type": "stream",
     "text": [
      "  batch: 376/656  -  dt: 0:00:00.524091 - d_acc: 0.60\n"
     ]
    },
    {
     "name": "stdout",
     "output_type": "stream",
     "text": [
      "  batch: 377/656  -  dt: 0:00:00.533016 - d_acc: 0.59\n"
     ]
    },
    {
     "name": "stdout",
     "output_type": "stream",
     "text": [
      "  batch: 378/656  -  dt: 0:00:00.570465 - d_acc: 0.59\n"
     ]
    },
    {
     "name": "stdout",
     "output_type": "stream",
     "text": [
      "  batch: 379/656  -  dt: 0:00:00.554444 - d_acc: 0.58\n"
     ]
    },
    {
     "name": "stdout",
     "output_type": "stream",
     "text": [
      "  batch: 380/656  -  dt: 0:00:00.532897 - d_acc: 0.58\n"
     ]
    },
    {
     "name": "stdout",
     "output_type": "stream",
     "text": [
      "  batch: 381/656  -  dt: 0:00:00.538168 - d_acc: 0.69\n"
     ]
    },
    {
     "name": "stdout",
     "output_type": "stream",
     "text": [
      "  batch: 382/656  -  dt: 0:00:00.571834 - d_acc: 0.65\n"
     ]
    },
    {
     "name": "stdout",
     "output_type": "stream",
     "text": [
      "  batch: 383/656  -  dt: 0:00:00.537032 - d_acc: 0.53\n"
     ]
    },
    {
     "name": "stdout",
     "output_type": "stream",
     "text": [
      "  batch: 384/656  -  dt: 0:00:00.551121 - d_acc: 0.63\n"
     ]
    },
    {
     "name": "stdout",
     "output_type": "stream",
     "text": [
      "  batch: 385/656  -  dt: 0:00:00.538906 - d_acc: 0.63\n"
     ]
    },
    {
     "name": "stdout",
     "output_type": "stream",
     "text": [
      "  batch: 386/656  -  dt: 0:00:00.529759 - d_acc: 0.58\n"
     ]
    },
    {
     "name": "stdout",
     "output_type": "stream",
     "text": [
      "  batch: 387/656  -  dt: 0:00:00.519338 - d_acc: 0.58\n"
     ]
    },
    {
     "name": "stdout",
     "output_type": "stream",
     "text": [
      "  batch: 388/656  -  dt: 0:00:00.532734 - d_acc: 0.58\n"
     ]
    },
    {
     "name": "stdout",
     "output_type": "stream",
     "text": [
      "  batch: 389/656  -  dt: 0:00:00.535214 - d_acc: 0.61\n"
     ]
    },
    {
     "name": "stdout",
     "output_type": "stream",
     "text": [
      "  batch: 390/656  -  dt: 0:00:00.529893 - d_acc: 0.57\n"
     ]
    },
    {
     "name": "stdout",
     "output_type": "stream",
     "text": [
      "  batch: 391/656  -  dt: 0:00:00.529148 - d_acc: 0.64\n"
     ]
    },
    {
     "name": "stdout",
     "output_type": "stream",
     "text": [
      "  batch: 392/656  -  dt: 0:00:00.524993 - d_acc: 0.64\n"
     ]
    },
    {
     "name": "stdout",
     "output_type": "stream",
     "text": [
      "  batch: 393/656  -  dt: 0:00:00.528635 - d_acc: 0.62\n"
     ]
    },
    {
     "name": "stderr",
     "output_type": "stream",
     "text": [
      "WARNING:root:Lossy conversion from float64 to uint8. Range [0, 1]. Convert image to uint8 prior to saving to suppress this warning.\n"
     ]
    },
    {
     "name": "stdout",
     "output_type": "stream",
     "text": [
      "  batch: 394/656  -  dt: 0:00:00.530061 - d_acc: 0.61\nsaving a sample...\n"
     ]
    },
    {
     "name": "stdout",
     "output_type": "stream",
     "text": [
      "  batch: 395/656  -  dt: 0:00:00.531417 - d_acc: 0.65\n"
     ]
    },
    {
     "name": "stdout",
     "output_type": "stream",
     "text": [
      "  batch: 396/656  -  dt: 0:00:00.530265 - d_acc: 0.60\n"
     ]
    },
    {
     "name": "stdout",
     "output_type": "stream",
     "text": [
      "  batch: 397/656  -  dt: 0:00:00.540621 - d_acc: 0.67\n"
     ]
    },
    {
     "name": "stdout",
     "output_type": "stream",
     "text": [
      "  batch: 398/656  -  dt: 0:00:00.542880 - d_acc: 0.64\n"
     ]
    },
    {
     "name": "stdout",
     "output_type": "stream",
     "text": [
      "  batch: 399/656  -  dt: 0:00:00.546824 - d_acc: 0.58\n"
     ]
    },
    {
     "name": "stdout",
     "output_type": "stream",
     "text": [
      "  batch: 400/656  -  dt: 0:00:00.540858 - d_acc: 0.59\n"
     ]
    },
    {
     "name": "stdout",
     "output_type": "stream",
     "text": [
      "  batch: 401/656  -  dt: 0:00:00.549668 - d_acc: 0.61\n"
     ]
    },
    {
     "name": "stdout",
     "output_type": "stream",
     "text": [
      "  batch: 402/656  -  dt: 0:00:00.546770 - d_acc: 0.68\n"
     ]
    },
    {
     "name": "stdout",
     "output_type": "stream",
     "text": [
      "  batch: 403/656  -  dt: 0:00:00.543236 - d_acc: 0.60\n"
     ]
    },
    {
     "name": "stdout",
     "output_type": "stream",
     "text": [
      "  batch: 404/656  -  dt: 0:00:00.566660 - d_acc: 0.62\n"
     ]
    },
    {
     "name": "stdout",
     "output_type": "stream",
     "text": [
      "  batch: 405/656  -  dt: 0:00:00.555249 - d_acc: 0.64\n"
     ]
    },
    {
     "name": "stdout",
     "output_type": "stream",
     "text": [
      "  batch: 406/656  -  dt: 0:00:00.560038 - d_acc: 0.63\n"
     ]
    },
    {
     "name": "stdout",
     "output_type": "stream",
     "text": [
      "  batch: 407/656  -  dt: 0:00:00.546916 - d_acc: 0.60\n"
     ]
    },
    {
     "name": "stdout",
     "output_type": "stream",
     "text": [
      "  batch: 408/656  -  dt: 0:00:00.546835 - d_acc: 0.64\n"
     ]
    },
    {
     "name": "stdout",
     "output_type": "stream",
     "text": [
      "  batch: 409/656  -  dt: 0:00:00.548561 - d_acc: 0.59\n"
     ]
    },
    {
     "name": "stdout",
     "output_type": "stream",
     "text": [
      "  batch: 410/656  -  dt: 0:00:00.541608 - d_acc: 0.67\n"
     ]
    },
    {
     "name": "stdout",
     "output_type": "stream",
     "text": [
      "  batch: 411/656  -  dt: 0:00:00.549570 - d_acc: 0.65\n"
     ]
    },
    {
     "name": "stdout",
     "output_type": "stream",
     "text": [
      "  batch: 412/656  -  dt: 0:00:00.540577 - d_acc: 0.59\n"
     ]
    },
    {
     "name": "stdout",
     "output_type": "stream",
     "text": [
      "  batch: 413/656  -  dt: 0:00:00.542007 - d_acc: 0.58\n"
     ]
    },
    {
     "name": "stdout",
     "output_type": "stream",
     "text": [
      "  batch: 414/656  -  dt: 0:00:00.546561 - d_acc: 0.61\n"
     ]
    },
    {
     "name": "stdout",
     "output_type": "stream",
     "text": [
      "  batch: 415/656  -  dt: 0:00:00.563743 - d_acc: 0.60\n"
     ]
    },
    {
     "name": "stdout",
     "output_type": "stream",
     "text": [
      "  batch: 416/656  -  dt: 0:00:00.549765 - d_acc: 0.58\n"
     ]
    },
    {
     "name": "stdout",
     "output_type": "stream",
     "text": [
      "  batch: 417/656  -  dt: 0:00:00.560385 - d_acc: 0.64\n"
     ]
    },
    {
     "name": "stdout",
     "output_type": "stream",
     "text": [
      "  batch: 418/656  -  dt: 0:00:00.556141 - d_acc: 0.56\n"
     ]
    },
    {
     "name": "stdout",
     "output_type": "stream",
     "text": [
      "  batch: 419/656  -  dt: 0:00:00.550066 - d_acc: 0.62\n"
     ]
    },
    {
     "name": "stdout",
     "output_type": "stream",
     "text": [
      "  batch: 420/656  -  dt: 0:00:00.544061 - d_acc: 0.56\n"
     ]
    },
    {
     "name": "stdout",
     "output_type": "stream",
     "text": [
      "  batch: 421/656  -  dt: 0:00:00.535933 - d_acc: 0.55\n"
     ]
    },
    {
     "name": "stdout",
     "output_type": "stream",
     "text": [
      "  batch: 422/656  -  dt: 0:00:00.538447 - d_acc: 0.58\n"
     ]
    },
    {
     "name": "stdout",
     "output_type": "stream",
     "text": [
      "  batch: 423/656  -  dt: 0:00:00.554327 - d_acc: 0.59\n"
     ]
    },
    {
     "name": "stdout",
     "output_type": "stream",
     "text": [
      "  batch: 424/656  -  dt: 0:00:00.531166 - d_acc: 0.58\n"
     ]
    },
    {
     "name": "stdout",
     "output_type": "stream",
     "text": [
      "  batch: 425/656  -  dt: 0:00:00.559629 - d_acc: 0.61\n"
     ]
    },
    {
     "name": "stdout",
     "output_type": "stream",
     "text": [
      "  batch: 426/656  -  dt: 0:00:00.529592 - d_acc: 0.66\n"
     ]
    },
    {
     "name": "stdout",
     "output_type": "stream",
     "text": [
      "  batch: 427/656  -  dt: 0:00:00.533983 - d_acc: 0.69\n"
     ]
    },
    {
     "name": "stdout",
     "output_type": "stream",
     "text": [
      "  batch: 428/656  -  dt: 0:00:00.546040 - d_acc: 0.69\n"
     ]
    },
    {
     "name": "stdout",
     "output_type": "stream",
     "text": [
      "  batch: 429/656  -  dt: 0:00:00.538252 - d_acc: 0.61\n"
     ]
    },
    {
     "name": "stdout",
     "output_type": "stream",
     "text": [
      "  batch: 430/656  -  dt: 0:00:00.547703 - d_acc: 0.60\n"
     ]
    },
    {
     "name": "stdout",
     "output_type": "stream",
     "text": [
      "  batch: 431/656  -  dt: 0:00:00.529929 - d_acc: 0.62\n"
     ]
    },
    {
     "name": "stdout",
     "output_type": "stream",
     "text": [
      "  batch: 432/656  -  dt: 0:00:00.551473 - d_acc: 0.61\n"
     ]
    },
    {
     "name": "stdout",
     "output_type": "stream",
     "text": [
      "  batch: 433/656  -  dt: 0:00:00.527684 - d_acc: 0.66\n"
     ]
    },
    {
     "name": "stdout",
     "output_type": "stream",
     "text": [
      "  batch: 434/656  -  dt: 0:00:00.562895 - d_acc: 0.59\n"
     ]
    },
    {
     "name": "stdout",
     "output_type": "stream",
     "text": [
      "  batch: 435/656  -  dt: 0:00:00.528892 - d_acc: 0.60\n"
     ]
    },
    {
     "name": "stdout",
     "output_type": "stream",
     "text": [
      "  batch: 436/656  -  dt: 0:00:00.521633 - d_acc: 0.62\n"
     ]
    },
    {
     "name": "stdout",
     "output_type": "stream",
     "text": [
      "  batch: 437/656  -  dt: 0:00:00.530115 - d_acc: 0.55\n"
     ]
    },
    {
     "name": "stdout",
     "output_type": "stream",
     "text": [
      "  batch: 438/656  -  dt: 0:00:00.560978 - d_acc: 0.61\n"
     ]
    },
    {
     "name": "stdout",
     "output_type": "stream",
     "text": [
      "  batch: 439/656  -  dt: 0:00:00.562570 - d_acc: 0.59\n"
     ]
    },
    {
     "name": "stdout",
     "output_type": "stream",
     "text": [
      "  batch: 440/656  -  dt: 0:00:00.548985 - d_acc: 0.59\n"
     ]
    },
    {
     "name": "stdout",
     "output_type": "stream",
     "text": [
      "  batch: 441/656  -  dt: 0:00:00.555934 - d_acc: 0.59\n"
     ]
    },
    {
     "name": "stdout",
     "output_type": "stream",
     "text": [
      "  batch: 442/656  -  dt: 0:00:00.575000 - d_acc: 0.62\n"
     ]
    },
    {
     "name": "stdout",
     "output_type": "stream",
     "text": [
      "  batch: 443/656  -  dt: 0:00:00.530755 - d_acc: 0.55\n"
     ]
    },
    {
     "name": "stderr",
     "output_type": "stream",
     "text": [
      "WARNING:root:Lossy conversion from float64 to uint8. Range [0, 1]. Convert image to uint8 prior to saving to suppress this warning.\n"
     ]
    },
    {
     "name": "stdout",
     "output_type": "stream",
     "text": [
      "  batch: 444/656  -  dt: 0:00:00.548503 - d_acc: 0.64\nsaving a sample...\n"
     ]
    },
    {
     "name": "stdout",
     "output_type": "stream",
     "text": [
      "  batch: 445/656  -  dt: 0:00:00.526167 - d_acc: 0.57\n"
     ]
    },
    {
     "name": "stdout",
     "output_type": "stream",
     "text": [
      "  batch: 446/656  -  dt: 0:00:00.530178 - d_acc: 0.61\n"
     ]
    },
    {
     "name": "stdout",
     "output_type": "stream",
     "text": [
      "  batch: 447/656  -  dt: 0:00:00.539843 - d_acc: 0.54\n"
     ]
    },
    {
     "name": "stdout",
     "output_type": "stream",
     "text": [
      "  batch: 448/656  -  dt: 0:00:00.530078 - d_acc: 0.63\n"
     ]
    },
    {
     "name": "stdout",
     "output_type": "stream",
     "text": [
      "  batch: 449/656  -  dt: 0:00:00.530092 - d_acc: 0.56\n"
     ]
    },
    {
     "name": "stdout",
     "output_type": "stream",
     "text": [
      "  batch: 450/656  -  dt: 0:00:00.535197 - d_acc: 0.63\n"
     ]
    },
    {
     "name": "stdout",
     "output_type": "stream",
     "text": [
      "  batch: 451/656  -  dt: 0:00:00.537852 - d_acc: 0.55\n"
     ]
    },
    {
     "name": "stdout",
     "output_type": "stream",
     "text": [
      "  batch: 452/656  -  dt: 0:00:00.531080 - d_acc: 0.57\n"
     ]
    },
    {
     "name": "stdout",
     "output_type": "stream",
     "text": [
      "  batch: 453/656  -  dt: 0:00:00.525850 - d_acc: 0.61\n"
     ]
    },
    {
     "name": "stdout",
     "output_type": "stream",
     "text": [
      "  batch: 454/656  -  dt: 0:00:00.519908 - d_acc: 0.62\n"
     ]
    },
    {
     "name": "stdout",
     "output_type": "stream",
     "text": [
      "  batch: 455/656  -  dt: 0:00:00.532426 - d_acc: 0.58\n"
     ]
    },
    {
     "name": "stdout",
     "output_type": "stream",
     "text": [
      "  batch: 456/656  -  dt: 0:00:00.534632 - d_acc: 0.65\n"
     ]
    },
    {
     "name": "stdout",
     "output_type": "stream",
     "text": [
      "  batch: 457/656  -  dt: 0:00:00.527128 - d_acc: 0.62\n"
     ]
    },
    {
     "name": "stdout",
     "output_type": "stream",
     "text": [
      "  batch: 458/656  -  dt: 0:00:00.525799 - d_acc: 0.64\n"
     ]
    },
    {
     "name": "stdout",
     "output_type": "stream",
     "text": [
      "  batch: 459/656  -  dt: 0:00:00.579675 - d_acc: 0.69\n"
     ]
    },
    {
     "name": "stdout",
     "output_type": "stream",
     "text": [
      "  batch: 460/656  -  dt: 0:00:00.580870 - d_acc: 0.59\n"
     ]
    },
    {
     "name": "stdout",
     "output_type": "stream",
     "text": [
      "  batch: 461/656  -  dt: 0:00:00.534583 - d_acc: 0.57\n"
     ]
    },
    {
     "name": "stdout",
     "output_type": "stream",
     "text": [
      "  batch: 462/656  -  dt: 0:00:00.529889 - d_acc: 0.59\n"
     ]
    },
    {
     "name": "stdout",
     "output_type": "stream",
     "text": [
      "  batch: 463/656  -  dt: 0:00:00.531525 - d_acc: 0.56\n"
     ]
    },
    {
     "name": "stdout",
     "output_type": "stream",
     "text": [
      "  batch: 464/656  -  dt: 0:00:00.535077 - d_acc: 0.62\n"
     ]
    },
    {
     "name": "stdout",
     "output_type": "stream",
     "text": [
      "  batch: 465/656  -  dt: 0:00:00.538150 - d_acc: 0.59\n"
     ]
    },
    {
     "name": "stdout",
     "output_type": "stream",
     "text": [
      "  batch: 466/656  -  dt: 0:00:00.533293 - d_acc: 0.60\n"
     ]
    },
    {
     "name": "stdout",
     "output_type": "stream",
     "text": [
      "  batch: 467/656  -  dt: 0:00:00.547581 - d_acc: 0.59\n"
     ]
    },
    {
     "name": "stdout",
     "output_type": "stream",
     "text": [
      "  batch: 468/656  -  dt: 0:00:00.533683 - d_acc: 0.62\n"
     ]
    },
    {
     "name": "stdout",
     "output_type": "stream",
     "text": [
      "  batch: 469/656  -  dt: 0:00:00.536585 - d_acc: 0.60\n"
     ]
    },
    {
     "name": "stdout",
     "output_type": "stream",
     "text": [
      "  batch: 470/656  -  dt: 0:00:00.546619 - d_acc: 0.56\n"
     ]
    },
    {
     "name": "stdout",
     "output_type": "stream",
     "text": [
      "  batch: 471/656  -  dt: 0:00:00.565489 - d_acc: 0.61\n"
     ]
    },
    {
     "name": "stdout",
     "output_type": "stream",
     "text": [
      "  batch: 472/656  -  dt: 0:00:00.541507 - d_acc: 0.59\n"
     ]
    },
    {
     "name": "stdout",
     "output_type": "stream",
     "text": [
      "  batch: 473/656  -  dt: 0:00:00.532290 - d_acc: 0.61\n"
     ]
    },
    {
     "name": "stdout",
     "output_type": "stream",
     "text": [
      "  batch: 474/656  -  dt: 0:00:00.526255 - d_acc: 0.61\n"
     ]
    },
    {
     "name": "stdout",
     "output_type": "stream",
     "text": [
      "  batch: 475/656  -  dt: 0:00:00.530066 - d_acc: 0.59\n"
     ]
    },
    {
     "name": "stdout",
     "output_type": "stream",
     "text": [
      "  batch: 476/656  -  dt: 0:00:00.533357 - d_acc: 0.60\n"
     ]
    },
    {
     "name": "stdout",
     "output_type": "stream",
     "text": [
      "  batch: 477/656  -  dt: 0:00:00.530798 - d_acc: 0.66\n"
     ]
    },
    {
     "name": "stdout",
     "output_type": "stream",
     "text": [
      "  batch: 478/656  -  dt: 0:00:00.530179 - d_acc: 0.59\n"
     ]
    },
    {
     "name": "stdout",
     "output_type": "stream",
     "text": [
      "  batch: 479/656  -  dt: 0:00:00.527107 - d_acc: 0.64\n"
     ]
    },
    {
     "name": "stdout",
     "output_type": "stream",
     "text": [
      "  batch: 480/656  -  dt: 0:00:00.528848 - d_acc: 0.61\n"
     ]
    },
    {
     "name": "stdout",
     "output_type": "stream",
     "text": [
      "  batch: 481/656  -  dt: 0:00:00.533179 - d_acc: 0.63\n"
     ]
    },
    {
     "name": "stdout",
     "output_type": "stream",
     "text": [
      "  batch: 482/656  -  dt: 0:00:00.536508 - d_acc: 0.63\n"
     ]
    },
    {
     "name": "stdout",
     "output_type": "stream",
     "text": [
      "  batch: 483/656  -  dt: 0:00:00.530222 - d_acc: 0.66\n"
     ]
    },
    {
     "name": "stdout",
     "output_type": "stream",
     "text": [
      "  batch: 484/656  -  dt: 0:00:00.529888 - d_acc: 0.58\n"
     ]
    },
    {
     "name": "stdout",
     "output_type": "stream",
     "text": [
      "  batch: 485/656  -  dt: 0:00:00.530197 - d_acc: 0.67\n"
     ]
    },
    {
     "name": "stdout",
     "output_type": "stream",
     "text": [
      "  batch: 486/656  -  dt: 0:00:00.529379 - d_acc: 0.60\n"
     ]
    },
    {
     "name": "stdout",
     "output_type": "stream",
     "text": [
      "  batch: 487/656  -  dt: 0:00:00.549221 - d_acc: 0.59\n"
     ]
    },
    {
     "name": "stdout",
     "output_type": "stream",
     "text": [
      "  batch: 488/656  -  dt: 0:00:00.547374 - d_acc: 0.62\n"
     ]
    },
    {
     "name": "stdout",
     "output_type": "stream",
     "text": [
      "  batch: 489/656  -  dt: 0:00:00.541669 - d_acc: 0.61\n"
     ]
    },
    {
     "name": "stdout",
     "output_type": "stream",
     "text": [
      "  batch: 490/656  -  dt: 0:00:00.601413 - d_acc: 0.66\n"
     ]
    },
    {
     "name": "stdout",
     "output_type": "stream",
     "text": [
      "  batch: 491/656  -  dt: 0:00:00.621338 - d_acc: 0.60\n"
     ]
    },
    {
     "name": "stdout",
     "output_type": "stream",
     "text": [
      "  batch: 492/656  -  dt: 0:00:00.617517 - d_acc: 0.61\n"
     ]
    },
    {
     "name": "stdout",
     "output_type": "stream",
     "text": [
      "  batch: 493/656  -  dt: 0:00:00.558949 - d_acc: 0.55\n"
     ]
    },
    {
     "name": "stderr",
     "output_type": "stream",
     "text": [
      "WARNING:root:Lossy conversion from float64 to uint8. Range [0, 1]. Convert image to uint8 prior to saving to suppress this warning.\n"
     ]
    },
    {
     "name": "stdout",
     "output_type": "stream",
     "text": [
      "  batch: 494/656  -  dt: 0:00:00.548257 - d_acc: 0.62\nsaving a sample...\n"
     ]
    },
    {
     "name": "stdout",
     "output_type": "stream",
     "text": [
      "  batch: 495/656  -  dt: 0:00:00.544118 - d_acc: 0.61\n"
     ]
    },
    {
     "name": "stdout",
     "output_type": "stream",
     "text": [
      "  batch: 496/656  -  dt: 0:00:00.572863 - d_acc: 0.59\n"
     ]
    },
    {
     "name": "stdout",
     "output_type": "stream",
     "text": [
      "  batch: 497/656  -  dt: 0:00:00.569027 - d_acc: 0.55\n"
     ]
    },
    {
     "name": "stdout",
     "output_type": "stream",
     "text": [
      "  batch: 498/656  -  dt: 0:00:00.524207 - d_acc: 0.64\n"
     ]
    },
    {
     "name": "stdout",
     "output_type": "stream",
     "text": [
      "  batch: 499/656  -  dt: 0:00:00.527896 - d_acc: 0.64\n"
     ]
    },
    {
     "name": "stdout",
     "output_type": "stream",
     "text": [
      "  batch: 500/656  -  dt: 0:00:00.522157 - d_acc: 0.57\n"
     ]
    },
    {
     "name": "stdout",
     "output_type": "stream",
     "text": [
      "  batch: 501/656  -  dt: 0:00:00.545717 - d_acc: 0.62\n"
     ]
    },
    {
     "name": "stdout",
     "output_type": "stream",
     "text": [
      "  batch: 502/656  -  dt: 0:00:00.529847 - d_acc: 0.59\n"
     ]
    },
    {
     "name": "stdout",
     "output_type": "stream",
     "text": [
      "  batch: 503/656  -  dt: 0:00:00.540721 - d_acc: 0.60\n"
     ]
    },
    {
     "name": "stdout",
     "output_type": "stream",
     "text": [
      "  batch: 504/656  -  dt: 0:00:00.530561 - d_acc: 0.59\n"
     ]
    },
    {
     "name": "stdout",
     "output_type": "stream",
     "text": [
      "  batch: 505/656  -  dt: 0:00:00.529712 - d_acc: 0.61\n"
     ]
    },
    {
     "name": "stdout",
     "output_type": "stream",
     "text": [
      "  batch: 506/656  -  dt: 0:00:00.527304 - d_acc: 0.61\n"
     ]
    },
    {
     "name": "stdout",
     "output_type": "stream",
     "text": [
      "  batch: 507/656  -  dt: 0:00:00.519474 - d_acc: 0.60\n"
     ]
    },
    {
     "name": "stdout",
     "output_type": "stream",
     "text": [
      "  batch: 508/656  -  dt: 0:00:00.533115 - d_acc: 0.61\n"
     ]
    },
    {
     "name": "stdout",
     "output_type": "stream",
     "text": [
      "  batch: 509/656  -  dt: 0:00:00.547361 - d_acc: 0.64\n"
     ]
    },
    {
     "name": "stdout",
     "output_type": "stream",
     "text": [
      "  batch: 510/656  -  dt: 0:00:00.536725 - d_acc: 0.60\n"
     ]
    },
    {
     "name": "stdout",
     "output_type": "stream",
     "text": [
      "  batch: 511/656  -  dt: 0:00:00.530138 - d_acc: 0.55\n"
     ]
    },
    {
     "name": "stdout",
     "output_type": "stream",
     "text": [
      "  batch: 512/656  -  dt: 0:00:00.553318 - d_acc: 0.61\n"
     ]
    },
    {
     "name": "stdout",
     "output_type": "stream",
     "text": [
      "  batch: 513/656  -  dt: 0:00:00.546472 - d_acc: 0.57\n"
     ]
    },
    {
     "name": "stdout",
     "output_type": "stream",
     "text": [
      "  batch: 514/656  -  dt: 0:00:00.561902 - d_acc: 0.59\n"
     ]
    },
    {
     "name": "stdout",
     "output_type": "stream",
     "text": [
      "  batch: 515/656  -  dt: 0:00:00.529536 - d_acc: 0.66\n"
     ]
    },
    {
     "name": "stdout",
     "output_type": "stream",
     "text": [
      "  batch: 516/656  -  dt: 0:00:00.528915 - d_acc: 0.59\n"
     ]
    },
    {
     "name": "stdout",
     "output_type": "stream",
     "text": [
      "  batch: 517/656  -  dt: 0:00:00.529550 - d_acc: 0.59\n"
     ]
    },
    {
     "name": "stdout",
     "output_type": "stream",
     "text": [
      "  batch: 518/656  -  dt: 0:00:00.530014 - d_acc: 0.67\n"
     ]
    },
    {
     "name": "stdout",
     "output_type": "stream",
     "text": [
      "  batch: 519/656  -  dt: 0:00:00.554761 - d_acc: 0.59\n"
     ]
    },
    {
     "name": "stdout",
     "output_type": "stream",
     "text": [
      "  batch: 520/656  -  dt: 0:00:00.528681 - d_acc: 0.55\n"
     ]
    },
    {
     "name": "stdout",
     "output_type": "stream",
     "text": [
      "  batch: 521/656  -  dt: 0:00:00.529426 - d_acc: 0.57\n"
     ]
    },
    {
     "name": "stdout",
     "output_type": "stream",
     "text": [
      "  batch: 522/656  -  dt: 0:00:00.535619 - d_acc: 0.61\n"
     ]
    },
    {
     "name": "stdout",
     "output_type": "stream",
     "text": [
      "  batch: 523/656  -  dt: 0:00:00.530849 - d_acc: 0.61\n"
     ]
    },
    {
     "name": "stdout",
     "output_type": "stream",
     "text": [
      "  batch: 524/656  -  dt: 0:00:00.533509 - d_acc: 0.57\n"
     ]
    },
    {
     "name": "stdout",
     "output_type": "stream",
     "text": [
      "  batch: 525/656  -  dt: 0:00:00.554421 - d_acc: 0.66\n"
     ]
    },
    {
     "name": "stdout",
     "output_type": "stream",
     "text": [
      "  batch: 526/656  -  dt: 0:00:00.538559 - d_acc: 0.51\n"
     ]
    },
    {
     "name": "stdout",
     "output_type": "stream",
     "text": [
      "  batch: 527/656  -  dt: 0:00:00.536220 - d_acc: 0.62\n"
     ]
    },
    {
     "name": "stdout",
     "output_type": "stream",
     "text": [
      "  batch: 528/656  -  dt: 0:00:00.528678 - d_acc: 0.61\n"
     ]
    },
    {
     "name": "stdout",
     "output_type": "stream",
     "text": [
      "  batch: 529/656  -  dt: 0:00:00.537923 - d_acc: 0.61\n"
     ]
    },
    {
     "name": "stdout",
     "output_type": "stream",
     "text": [
      "  batch: 530/656  -  dt: 0:00:00.550527 - d_acc: 0.57\n"
     ]
    },
    {
     "name": "stdout",
     "output_type": "stream",
     "text": [
      "  batch: 531/656  -  dt: 0:00:00.548665 - d_acc: 0.59\n"
     ]
    },
    {
     "name": "stdout",
     "output_type": "stream",
     "text": [
      "  batch: 532/656  -  dt: 0:00:00.669214 - d_acc: 0.62\n"
     ]
    },
    {
     "name": "stdout",
     "output_type": "stream",
     "text": [
      "  batch: 533/656  -  dt: 0:00:00.594497 - d_acc: 0.63\n"
     ]
    },
    {
     "name": "stdout",
     "output_type": "stream",
     "text": [
      "  batch: 534/656  -  dt: 0:00:00.599902 - d_acc: 0.59\n"
     ]
    },
    {
     "name": "stdout",
     "output_type": "stream",
     "text": [
      "  batch: 535/656  -  dt: 0:00:00.600096 - d_acc: 0.58\n"
     ]
    },
    {
     "name": "stdout",
     "output_type": "stream",
     "text": [
      "  batch: 536/656  -  dt: 0:00:00.533753 - d_acc: 0.58\n"
     ]
    },
    {
     "name": "stdout",
     "output_type": "stream",
     "text": [
      "  batch: 537/656  -  dt: 0:00:00.533191 - d_acc: 0.56\n"
     ]
    },
    {
     "name": "stdout",
     "output_type": "stream",
     "text": [
      "  batch: 538/656  -  dt: 0:00:00.528566 - d_acc: 0.67\n"
     ]
    },
    {
     "name": "stdout",
     "output_type": "stream",
     "text": [
      "  batch: 539/656  -  dt: 0:00:00.526290 - d_acc: 0.62\n"
     ]
    },
    {
     "name": "stdout",
     "output_type": "stream",
     "text": [
      "  batch: 540/656  -  dt: 0:00:00.535416 - d_acc: 0.58\n"
     ]
    },
    {
     "name": "stdout",
     "output_type": "stream",
     "text": [
      "  batch: 541/656  -  dt: 0:00:00.534547 - d_acc: 0.66\n"
     ]
    },
    {
     "name": "stdout",
     "output_type": "stream",
     "text": [
      "  batch: 542/656  -  dt: 0:00:00.529703 - d_acc: 0.57\n"
     ]
    },
    {
     "name": "stdout",
     "output_type": "stream",
     "text": [
      "  batch: 543/656  -  dt: 0:00:00.543377 - d_acc: 0.55\n"
     ]
    },
    {
     "name": "stderr",
     "output_type": "stream",
     "text": [
      "WARNING:root:Lossy conversion from float64 to uint8. Range [0, 1]. Convert image to uint8 prior to saving to suppress this warning.\n"
     ]
    },
    {
     "name": "stdout",
     "output_type": "stream",
     "text": [
      "  batch: 544/656  -  dt: 0:00:00.531237 - d_acc: 0.58\nsaving a sample...\n"
     ]
    },
    {
     "name": "stdout",
     "output_type": "stream",
     "text": [
      "  batch: 545/656  -  dt: 0:00:00.534327 - d_acc: 0.56\n"
     ]
    },
    {
     "name": "stdout",
     "output_type": "stream",
     "text": [
      "  batch: 546/656  -  dt: 0:00:00.538015 - d_acc: 0.66\n"
     ]
    },
    {
     "name": "stdout",
     "output_type": "stream",
     "text": [
      "  batch: 547/656  -  dt: 0:00:00.550164 - d_acc: 0.62\n"
     ]
    },
    {
     "name": "stdout",
     "output_type": "stream",
     "text": [
      "  batch: 548/656  -  dt: 0:00:00.536413 - d_acc: 0.52\n"
     ]
    },
    {
     "name": "stdout",
     "output_type": "stream",
     "text": [
      "  batch: 549/656  -  dt: 0:00:00.530243 - d_acc: 0.62\n"
     ]
    },
    {
     "name": "stdout",
     "output_type": "stream",
     "text": [
      "  batch: 550/656  -  dt: 0:00:00.552362 - d_acc: 0.65\n"
     ]
    },
    {
     "name": "stdout",
     "output_type": "stream",
     "text": [
      "  batch: 551/656  -  dt: 0:00:00.566667 - d_acc: 0.62\n"
     ]
    },
    {
     "name": "stdout",
     "output_type": "stream",
     "text": [
      "  batch: 552/656  -  dt: 0:00:00.616860 - d_acc: 0.62\n"
     ]
    },
    {
     "name": "stdout",
     "output_type": "stream",
     "text": [
      "  batch: 553/656  -  dt: 0:00:00.556206 - d_acc: 0.55\n"
     ]
    },
    {
     "name": "stdout",
     "output_type": "stream",
     "text": [
      "  batch: 554/656  -  dt: 0:00:00.591925 - d_acc: 0.57\n"
     ]
    },
    {
     "name": "stdout",
     "output_type": "stream",
     "text": [
      "  batch: 555/656  -  dt: 0:00:00.552245 - d_acc: 0.69\n"
     ]
    },
    {
     "name": "stdout",
     "output_type": "stream",
     "text": [
      "  batch: 556/656  -  dt: 0:00:00.553884 - d_acc: 0.70\n"
     ]
    },
    {
     "name": "stdout",
     "output_type": "stream",
     "text": [
      "  batch: 557/656  -  dt: 0:00:00.539240 - d_acc: 0.59\n"
     ]
    },
    {
     "name": "stdout",
     "output_type": "stream",
     "text": [
      "  batch: 558/656  -  dt: 0:00:00.540609 - d_acc: 0.58\n"
     ]
    },
    {
     "name": "stdout",
     "output_type": "stream",
     "text": [
      "  batch: 559/656  -  dt: 0:00:00.528365 - d_acc: 0.59\n"
     ]
    },
    {
     "name": "stdout",
     "output_type": "stream",
     "text": [
      "  batch: 560/656  -  dt: 0:00:00.536673 - d_acc: 0.56\n"
     ]
    },
    {
     "name": "stdout",
     "output_type": "stream",
     "text": [
      "  batch: 561/656  -  dt: 0:00:00.541492 - d_acc: 0.61\n"
     ]
    },
    {
     "name": "stdout",
     "output_type": "stream",
     "text": [
      "  batch: 562/656  -  dt: 0:00:00.562013 - d_acc: 0.63\n"
     ]
    },
    {
     "name": "stdout",
     "output_type": "stream",
     "text": [
      "  batch: 563/656  -  dt: 0:00:00.567862 - d_acc: 0.62\n"
     ]
    },
    {
     "name": "stdout",
     "output_type": "stream",
     "text": [
      "  batch: 564/656  -  dt: 0:00:00.535610 - d_acc: 0.59\n"
     ]
    },
    {
     "name": "stdout",
     "output_type": "stream",
     "text": [
      "  batch: 565/656  -  dt: 0:00:00.533936 - d_acc: 0.60\n"
     ]
    },
    {
     "name": "stdout",
     "output_type": "stream",
     "text": [
      "  batch: 566/656  -  dt: 0:00:00.537940 - d_acc: 0.64\n"
     ]
    },
    {
     "name": "stdout",
     "output_type": "stream",
     "text": [
      "  batch: 567/656  -  dt: 0:00:00.536320 - d_acc: 0.56\n"
     ]
    },
    {
     "name": "stdout",
     "output_type": "stream",
     "text": [
      "  batch: 568/656  -  dt: 0:00:00.540613 - d_acc: 0.57\n"
     ]
    },
    {
     "name": "stdout",
     "output_type": "stream",
     "text": [
      "  batch: 569/656  -  dt: 0:00:00.542254 - d_acc: 0.60\n"
     ]
    },
    {
     "name": "stdout",
     "output_type": "stream",
     "text": [
      "  batch: 570/656  -  dt: 0:00:00.538466 - d_acc: 0.62\n"
     ]
    },
    {
     "name": "stdout",
     "output_type": "stream",
     "text": [
      "  batch: 571/656  -  dt: 0:00:00.522017 - d_acc: 0.61\n"
     ]
    },
    {
     "name": "stdout",
     "output_type": "stream",
     "text": [
      "  batch: 572/656  -  dt: 0:00:00.529071 - d_acc: 0.59\n"
     ]
    },
    {
     "name": "stdout",
     "output_type": "stream",
     "text": [
      "  batch: 573/656  -  dt: 0:00:00.525131 - d_acc: 0.65\n"
     ]
    },
    {
     "name": "stdout",
     "output_type": "stream",
     "text": [
      "  batch: 574/656  -  dt: 0:00:00.543835 - d_acc: 0.67\n"
     ]
    },
    {
     "name": "stdout",
     "output_type": "stream",
     "text": [
      "  batch: 575/656  -  dt: 0:00:00.534964 - d_acc: 0.56\n"
     ]
    },
    {
     "name": "stdout",
     "output_type": "stream",
     "text": [
      "  batch: 576/656  -  dt: 0:00:00.540948 - d_acc: 0.61\n"
     ]
    },
    {
     "name": "stdout",
     "output_type": "stream",
     "text": [
      "  batch: 577/656  -  dt: 0:00:00.532875 - d_acc: 0.60\n"
     ]
    },
    {
     "name": "stdout",
     "output_type": "stream",
     "text": [
      "  batch: 578/656  -  dt: 0:00:00.526516 - d_acc: 0.65\n"
     ]
    },
    {
     "name": "stdout",
     "output_type": "stream",
     "text": [
      "  batch: 579/656  -  dt: 0:00:00.529770 - d_acc: 0.58\n"
     ]
    },
    {
     "name": "stdout",
     "output_type": "stream",
     "text": [
      "  batch: 580/656  -  dt: 0:00:00.523697 - d_acc: 0.58\n"
     ]
    },
    {
     "name": "stdout",
     "output_type": "stream",
     "text": [
      "  batch: 581/656  -  dt: 0:00:00.532493 - d_acc: 0.59\n"
     ]
    },
    {
     "name": "stdout",
     "output_type": "stream",
     "text": [
      "  batch: 582/656  -  dt: 0:00:00.522842 - d_acc: 0.59\n"
     ]
    },
    {
     "name": "stdout",
     "output_type": "stream",
     "text": [
      "  batch: 583/656  -  dt: 0:00:00.534213 - d_acc: 0.61\n"
     ]
    },
    {
     "name": "stdout",
     "output_type": "stream",
     "text": [
      "  batch: 584/656  -  dt: 0:00:00.525815 - d_acc: 0.66\n"
     ]
    },
    {
     "name": "stdout",
     "output_type": "stream",
     "text": [
      "  batch: 585/656  -  dt: 0:00:00.529865 - d_acc: 0.63\n"
     ]
    },
    {
     "name": "stdout",
     "output_type": "stream",
     "text": [
      "  batch: 586/656  -  dt: 0:00:00.524826 - d_acc: 0.61\n"
     ]
    },
    {
     "name": "stdout",
     "output_type": "stream",
     "text": [
      "  batch: 587/656  -  dt: 0:00:00.527883 - d_acc: 0.58\n"
     ]
    },
    {
     "name": "stdout",
     "output_type": "stream",
     "text": [
      "  batch: 588/656  -  dt: 0:00:00.542238 - d_acc: 0.71\n"
     ]
    },
    {
     "name": "stdout",
     "output_type": "stream",
     "text": [
      "  batch: 589/656  -  dt: 0:00:00.545643 - d_acc: 0.67\n"
     ]
    },
    {
     "name": "stdout",
     "output_type": "stream",
     "text": [
      "  batch: 590/656  -  dt: 0:00:00.557278 - d_acc: 0.63\n"
     ]
    },
    {
     "name": "stdout",
     "output_type": "stream",
     "text": [
      "  batch: 591/656  -  dt: 0:00:00.538490 - d_acc: 0.60\n"
     ]
    },
    {
     "name": "stdout",
     "output_type": "stream",
     "text": [
      "  batch: 592/656  -  dt: 0:00:00.564998 - d_acc: 0.62\n"
     ]
    },
    {
     "name": "stdout",
     "output_type": "stream",
     "text": [
      "  batch: 593/656  -  dt: 0:00:00.563468 - d_acc: 0.62\n"
     ]
    },
    {
     "name": "stderr",
     "output_type": "stream",
     "text": [
      "WARNING:root:Lossy conversion from float64 to uint8. Range [0, 1]. Convert image to uint8 prior to saving to suppress this warning.\n"
     ]
    },
    {
     "name": "stdout",
     "output_type": "stream",
     "text": [
      "  batch: 594/656  -  dt: 0:00:00.535872 - d_acc: 0.67\nsaving a sample...\n"
     ]
    },
    {
     "name": "stdout",
     "output_type": "stream",
     "text": [
      "  batch: 595/656  -  dt: 0:00:00.554386 - d_acc: 0.65\n"
     ]
    },
    {
     "name": "stdout",
     "output_type": "stream",
     "text": [
      "  batch: 596/656  -  dt: 0:00:00.548451 - d_acc: 0.58\n"
     ]
    },
    {
     "name": "stdout",
     "output_type": "stream",
     "text": [
      "  batch: 597/656  -  dt: 0:00:00.555777 - d_acc: 0.59\n"
     ]
    },
    {
     "name": "stdout",
     "output_type": "stream",
     "text": [
      "  batch: 598/656  -  dt: 0:00:00.534121 - d_acc: 0.62\n"
     ]
    },
    {
     "name": "stdout",
     "output_type": "stream",
     "text": [
      "  batch: 599/656  -  dt: 0:00:00.539556 - d_acc: 0.64\n"
     ]
    },
    {
     "name": "stdout",
     "output_type": "stream",
     "text": [
      "  batch: 600/656  -  dt: 0:00:00.548183 - d_acc: 0.57\n"
     ]
    },
    {
     "name": "stdout",
     "output_type": "stream",
     "text": [
      "  batch: 601/656  -  dt: 0:00:00.544540 - d_acc: 0.65\n"
     ]
    },
    {
     "name": "stdout",
     "output_type": "stream",
     "text": [
      "  batch: 602/656  -  dt: 0:00:00.547901 - d_acc: 0.64\n"
     ]
    },
    {
     "name": "stdout",
     "output_type": "stream",
     "text": [
      "  batch: 603/656  -  dt: 0:00:00.547818 - d_acc: 0.66\n"
     ]
    },
    {
     "name": "stdout",
     "output_type": "stream",
     "text": [
      "  batch: 604/656  -  dt: 0:00:00.543545 - d_acc: 0.53\n"
     ]
    },
    {
     "name": "stdout",
     "output_type": "stream",
     "text": [
      "  batch: 605/656  -  dt: 0:00:00.529586 - d_acc: 0.58\n"
     ]
    },
    {
     "name": "stdout",
     "output_type": "stream",
     "text": [
      "  batch: 606/656  -  dt: 0:00:00.531781 - d_acc: 0.56\n"
     ]
    },
    {
     "name": "stdout",
     "output_type": "stream",
     "text": [
      "  batch: 607/656  -  dt: 0:00:00.553460 - d_acc: 0.62\n"
     ]
    },
    {
     "name": "stdout",
     "output_type": "stream",
     "text": [
      "  batch: 608/656  -  dt: 0:00:00.551959 - d_acc: 0.58\n"
     ]
    },
    {
     "name": "stdout",
     "output_type": "stream",
     "text": [
      "  batch: 609/656  -  dt: 0:00:00.552547 - d_acc: 0.55\n"
     ]
    },
    {
     "name": "stdout",
     "output_type": "stream",
     "text": [
      "  batch: 610/656  -  dt: 0:00:00.530995 - d_acc: 0.61\n"
     ]
    },
    {
     "name": "stdout",
     "output_type": "stream",
     "text": [
      "  batch: 611/656  -  dt: 0:00:00.534047 - d_acc: 0.63\n"
     ]
    },
    {
     "name": "stdout",
     "output_type": "stream",
     "text": [
      "  batch: 612/656  -  dt: 0:00:00.535242 - d_acc: 0.55\n"
     ]
    },
    {
     "name": "stdout",
     "output_type": "stream",
     "text": [
      "  batch: 613/656  -  dt: 0:00:00.528808 - d_acc: 0.63\n"
     ]
    },
    {
     "name": "stdout",
     "output_type": "stream",
     "text": [
      "  batch: 614/656  -  dt: 0:00:00.527394 - d_acc: 0.62\n"
     ]
    },
    {
     "name": "stdout",
     "output_type": "stream",
     "text": [
      "  batch: 615/656  -  dt: 0:00:00.526772 - d_acc: 0.60\n"
     ]
    },
    {
     "name": "stdout",
     "output_type": "stream",
     "text": [
      "  batch: 616/656  -  dt: 0:00:00.535811 - d_acc: 0.59\n"
     ]
    },
    {
     "name": "stdout",
     "output_type": "stream",
     "text": [
      "  batch: 617/656  -  dt: 0:00:00.530837 - d_acc: 0.62\n"
     ]
    },
    {
     "name": "stdout",
     "output_type": "stream",
     "text": [
      "  batch: 618/656  -  dt: 0:00:00.530472 - d_acc: 0.55\n"
     ]
    },
    {
     "name": "stdout",
     "output_type": "stream",
     "text": [
      "  batch: 619/656  -  dt: 0:00:00.551891 - d_acc: 0.61\n"
     ]
    },
    {
     "name": "stdout",
     "output_type": "stream",
     "text": [
      "  batch: 620/656  -  dt: 0:00:00.524137 - d_acc: 0.55\n"
     ]
    },
    {
     "name": "stdout",
     "output_type": "stream",
     "text": [
      "  batch: 621/656  -  dt: 0:00:00.541457 - d_acc: 0.59\n"
     ]
    },
    {
     "name": "stdout",
     "output_type": "stream",
     "text": [
      "  batch: 622/656  -  dt: 0:00:00.542620 - d_acc: 0.66\n"
     ]
    },
    {
     "name": "stdout",
     "output_type": "stream",
     "text": [
      "  batch: 623/656  -  dt: 0:00:00.559506 - d_acc: 0.67\n"
     ]
    },
    {
     "name": "stdout",
     "output_type": "stream",
     "text": [
      "  batch: 624/656  -  dt: 0:00:00.527098 - d_acc: 0.63\n"
     ]
    },
    {
     "name": "stdout",
     "output_type": "stream",
     "text": [
      "  batch: 625/656  -  dt: 0:00:00.542350 - d_acc: 0.66\n"
     ]
    },
    {
     "name": "stdout",
     "output_type": "stream",
     "text": [
      "  batch: 626/656  -  dt: 0:00:00.550499 - d_acc: 0.65\n"
     ]
    },
    {
     "name": "stdout",
     "output_type": "stream",
     "text": [
      "  batch: 627/656  -  dt: 0:00:00.529578 - d_acc: 0.62\n"
     ]
    },
    {
     "name": "stdout",
     "output_type": "stream",
     "text": [
      "  batch: 628/656  -  dt: 0:00:00.530500 - d_acc: 0.62\n"
     ]
    },
    {
     "name": "stdout",
     "output_type": "stream",
     "text": [
      "  batch: 629/656  -  dt: 0:00:00.536094 - d_acc: 0.61\n"
     ]
    },
    {
     "name": "stdout",
     "output_type": "stream",
     "text": [
      "  batch: 630/656  -  dt: 0:00:00.533968 - d_acc: 0.61\n"
     ]
    },
    {
     "name": "stdout",
     "output_type": "stream",
     "text": [
      "  batch: 631/656  -  dt: 0:00:00.550127 - d_acc: 0.60\n"
     ]
    },
    {
     "name": "stdout",
     "output_type": "stream",
     "text": [
      "  batch: 632/656  -  dt: 0:00:00.536128 - d_acc: 0.55\n"
     ]
    },
    {
     "name": "stdout",
     "output_type": "stream",
     "text": [
      "  batch: 633/656  -  dt: 0:00:00.541014 - d_acc: 0.58\n"
     ]
    },
    {
     "name": "stdout",
     "output_type": "stream",
     "text": [
      "  batch: 634/656  -  dt: 0:00:00.553496 - d_acc: 0.55\n"
     ]
    },
    {
     "name": "stdout",
     "output_type": "stream",
     "text": [
      "  batch: 635/656  -  dt: 0:00:00.548907 - d_acc: 0.64\n"
     ]
    },
    {
     "name": "stdout",
     "output_type": "stream",
     "text": [
      "  batch: 636/656  -  dt: 0:00:00.546135 - d_acc: 0.55\n"
     ]
    },
    {
     "name": "stdout",
     "output_type": "stream",
     "text": [
      "  batch: 637/656  -  dt: 0:00:00.554631 - d_acc: 0.62\n"
     ]
    },
    {
     "name": "stdout",
     "output_type": "stream",
     "text": [
      "  batch: 638/656  -  dt: 0:00:00.546696 - d_acc: 0.57\n"
     ]
    },
    {
     "name": "stdout",
     "output_type": "stream",
     "text": [
      "  batch: 639/656  -  dt: 0:00:00.560501 - d_acc: 0.60\n"
     ]
    },
    {
     "name": "stdout",
     "output_type": "stream",
     "text": [
      "  batch: 640/656  -  dt: 0:00:00.558312 - d_acc: 0.65\n"
     ]
    },
    {
     "name": "stdout",
     "output_type": "stream",
     "text": [
      "  batch: 641/656  -  dt: 0:00:00.543911 - d_acc: 0.59\n"
     ]
    },
    {
     "name": "stdout",
     "output_type": "stream",
     "text": [
      "  batch: 642/656  -  dt: 0:00:00.563896 - d_acc: 0.59\n"
     ]
    },
    {
     "name": "stdout",
     "output_type": "stream",
     "text": [
      "  batch: 643/656  -  dt: 0:00:00.539340 - d_acc: 0.59\n"
     ]
    },
    {
     "name": "stderr",
     "output_type": "stream",
     "text": [
      "WARNING:root:Lossy conversion from float64 to uint8. Range [0, 1]. Convert image to uint8 prior to saving to suppress this warning.\n"
     ]
    },
    {
     "name": "stdout",
     "output_type": "stream",
     "text": [
      "  batch: 644/656  -  dt: 0:00:00.550032 - d_acc: 0.59\nsaving a sample...\n"
     ]
    },
    {
     "name": "stdout",
     "output_type": "stream",
     "text": [
      "  batch: 645/656  -  dt: 0:00:00.535796 - d_acc: 0.64\n"
     ]
    },
    {
     "name": "stdout",
     "output_type": "stream",
     "text": [
      "  batch: 646/656  -  dt: 0:00:00.560710 - d_acc: 0.60\n"
     ]
    },
    {
     "name": "stdout",
     "output_type": "stream",
     "text": [
      "  batch: 647/656  -  dt: 0:00:00.563076 - d_acc: 0.52\n"
     ]
    },
    {
     "name": "stdout",
     "output_type": "stream",
     "text": [
      "  batch: 648/656  -  dt: 0:00:00.549440 - d_acc: 0.59\n"
     ]
    },
    {
     "name": "stdout",
     "output_type": "stream",
     "text": [
      "  batch: 649/656  -  dt: 0:00:00.552370 - d_acc: 0.55\n"
     ]
    },
    {
     "name": "stdout",
     "output_type": "stream",
     "text": [
      "  batch: 650/656  -  dt: 0:00:00.554998 - d_acc: 0.59\n"
     ]
    },
    {
     "name": "stdout",
     "output_type": "stream",
     "text": [
      "  batch: 651/656  -  dt: 0:00:00.559817 - d_acc: 0.62\n"
     ]
    },
    {
     "name": "stdout",
     "output_type": "stream",
     "text": [
      "  batch: 652/656  -  dt: 0:00:00.531460 - d_acc: 0.55\n"
     ]
    },
    {
     "name": "stdout",
     "output_type": "stream",
     "text": [
      "  batch: 653/656  -  dt: 0:00:00.557673 - d_acc: 0.60\n"
     ]
    },
    {
     "name": "stdout",
     "output_type": "stream",
     "text": [
      "  batch: 654/656  -  dt: 0:00:00.533640 - d_acc: 0.59\n"
     ]
    },
    {
     "name": "stdout",
     "output_type": "stream",
     "text": [
      "  batch: 655/656  -  dt: 0:00:00.549805 - d_acc: 0.62\n"
     ]
    },
    {
     "name": "stdout",
     "output_type": "stream",
     "text": [
      "  batch: 656/656  -  dt: 0:00:00.526322 - d_acc: 0.62\n"
     ]
    },
    {
     "ename": "NameError",
     "evalue": "name 'model' is not defined",
     "traceback": [
      "\u001b[0;31m---------------------------------------------------------------------------\u001b[0m",
      "\u001b[0;31mNameError\u001b[0m                                 Traceback (most recent call last)",
      "\u001b[0;32m<ipython-input-12-c215f943b2a2>\u001b[0m in \u001b[0;36m<module>\u001b[0;34m()\u001b[0m\n\u001b[1;32m     32\u001b[0m     \u001b[0mi\u001b[0m \u001b[0;34m=\u001b[0m \u001b[0mnp\u001b[0m\u001b[0;34m.\u001b[0m\u001b[0mrandom\u001b[0m\u001b[0;34m.\u001b[0m\u001b[0mchoice\u001b[0m\u001b[0;34m(\u001b[0m\u001b[0mlen\u001b[0m\u001b[0;34m(\u001b[0m\u001b[0mX\u001b[0m\u001b[0;34m)\u001b[0m\u001b[0;34m)\u001b[0m\u001b[0;34m\u001b[0m\u001b[0m\n\u001b[1;32m     33\u001b[0m     \u001b[0mx\u001b[0m \u001b[0;34m=\u001b[0m \u001b[0mX\u001b[0m\u001b[0;34m[\u001b[0m\u001b[0mi\u001b[0m\u001b[0;34m]\u001b[0m\u001b[0;34m\u001b[0m\u001b[0m\n\u001b[0;32m---> 34\u001b[0;31m     \u001b[0mim\u001b[0m \u001b[0;34m=\u001b[0m \u001b[0mmodel\u001b[0m\u001b[0;34m.\u001b[0m\u001b[0mpredict\u001b[0m\u001b[0;34m(\u001b[0m\u001b[0;34m[\u001b[0m\u001b[0mx\u001b[0m\u001b[0;34m]\u001b[0m\u001b[0;34m)\u001b[0m\u001b[0;34m.\u001b[0m\u001b[0mreshape\u001b[0m\u001b[0;34m(\u001b[0m\u001b[0;36m28\u001b[0m\u001b[0;34m,\u001b[0m \u001b[0;36m28\u001b[0m\u001b[0;34m)\u001b[0m\u001b[0;34m\u001b[0m\u001b[0m\n\u001b[0m\u001b[1;32m     35\u001b[0m     \u001b[0mplt\u001b[0m\u001b[0;34m.\u001b[0m\u001b[0msubplot\u001b[0m\u001b[0;34m(\u001b[0m\u001b[0;36m1\u001b[0m\u001b[0;34m,\u001b[0m\u001b[0;36m2\u001b[0m\u001b[0;34m,\u001b[0m\u001b[0;36m1\u001b[0m\u001b[0;34m)\u001b[0m\u001b[0;34m\u001b[0m\u001b[0m\n\u001b[1;32m     36\u001b[0m     \u001b[0mplt\u001b[0m\u001b[0;34m.\u001b[0m\u001b[0mimshow\u001b[0m\u001b[0;34m(\u001b[0m\u001b[0mx\u001b[0m\u001b[0;34m.\u001b[0m\u001b[0mreshape\u001b[0m\u001b[0;34m(\u001b[0m\u001b[0;36m28\u001b[0m\u001b[0;34m,\u001b[0m \u001b[0;36m28\u001b[0m\u001b[0;34m)\u001b[0m\u001b[0;34m,\u001b[0m \u001b[0mcmap\u001b[0m\u001b[0;34m=\u001b[0m\u001b[0;34m'gray'\u001b[0m\u001b[0;34m)\u001b[0m\u001b[0;34m\u001b[0m\u001b[0m\n",
      "\u001b[0;31mNameError\u001b[0m: name 'model' is not defined"
     ],
     "output_type": "error"
    },
    {
     "data": {
      "image/png": "[encoded data removed]",
      "text/plain": [
       "<Figure size 432x288 with 1 Axes>"
      ]
     },
     "metadata": {},
     "output_type": "display_data"
    }
   ],
   "source": [
    "if __name__ == '__main__':\n",
    "  X, Y = get_mnist()\n",
    "  X = X.reshape(len(X), 28, 28, 1)\n",
    "  dim = X.shape[1]\n",
    "  colors = X.shape[-1]\n",
    "\n",
    "  # for mnist\n",
    "  d_sizes = {\n",
    "    'conv_layers': [(2, 5, 2, False), (64, 5, 2, True)],\n",
    "    'dense_layers': [(1024, True)],\n",
    "  }\n",
    "  g_sizes = {\n",
    "    'z': 100,\n",
    "    'projection': 128,\n",
    "    'bn_after_project': False,\n",
    "    'conv_layers': [(128, 5, 2, True), (colors, 5, 2, False)],\n",
    "    'dense_layers': [(1024, True)],\n",
    "    'output_activation': tf.sigmoid,\n",
    "  }\n",
    "\n",
    "\n",
    "  # setup gan\n",
    "  # note: assume square images, so only need 1 dim\n",
    "  gan = DCGAN(dim, colors, d_sizes, g_sizes)\n",
    "  gan.fit(X)\n",
    "  # samples = gan.sample(1) # just making sure it works\n",
    "\n",
    "  # plot reconstruction\n",
    "  counter=0\n",
    "  while counter<10:\n",
    "    counter+=1\n",
    "    i = np.random.choice(len(X))\n",
    "    x = X[i]\n",
    "    im = model.predict([x]).reshape(28, 28)\n",
    "    plt.subplot(1,2,1)\n",
    "    plt.imshow(x.reshape(28, 28), cmap='gray')\n",
    "    plt.title(\"Original\")\n",
    "    plt.subplot(1,2,2)\n",
    "    plt.imshow(im, cmap='gray')\n",
    "    plt.title(\"Reconstruction\")\n",
    "    plt.show()"
   ]
  },
  {
   "cell_type": "code",
   "execution_count": null,
   "metadata": {},
   "outputs": [],
   "source": []
  }
 ],
 "metadata": {
  "kernelspec": {
   "display_name": "Python 2",
   "language": "python",
   "name": "python2"
  },
  "language_info": {
   "codemirror_mode": {
    "name": "ipython",
    "version": 2
   },
   "file_extension": ".py",
   "mimetype": "text/x-python",
   "name": "python",
   "nbconvert_exporter": "python",
   "pygments_lexer": "ipython2",
   "version": "2.7.6"
  }
 },
 "nbformat": 4,
 "nbformat_minor": 0
}
